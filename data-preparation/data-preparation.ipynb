{
 "cells": [
  {
   "cell_type": "code",
   "execution_count": 21,
   "id": "6ebb6384",
   "metadata": {},
   "outputs": [],
   "source": [
    "import pandas as pd\n",
    "import os"
   ]
  },
  {
   "cell_type": "code",
   "execution_count": 22,
   "id": "78d2aa33",
   "metadata": {},
   "outputs": [
    {
     "data": {
      "text/html": [
       "<div>\n",
       "<style scoped>\n",
       "    .dataframe tbody tr th:only-of-type {\n",
       "        vertical-align: middle;\n",
       "    }\n",
       "\n",
       "    .dataframe tbody tr th {\n",
       "        vertical-align: top;\n",
       "    }\n",
       "\n",
       "    .dataframe thead th {\n",
       "        text-align: right;\n",
       "    }\n",
       "</style>\n",
       "<table border=\"1\" class=\"dataframe\">\n",
       "  <thead>\n",
       "    <tr style=\"text-align: right;\">\n",
       "      <th></th>\n",
       "      <th>who_region</th>\n",
       "      <th>iso3</th>\n",
       "      <th>country_name</th>\n",
       "      <th>city</th>\n",
       "      <th>year</th>\n",
       "      <th>version</th>\n",
       "      <th>pm10_concentration</th>\n",
       "      <th>pm25_concentration</th>\n",
       "      <th>no2_concentration</th>\n",
       "      <th>pm10_tempcov</th>\n",
       "      <th>pm25_tempcov</th>\n",
       "      <th>no2_tempcov</th>\n",
       "      <th>type_of_stations</th>\n",
       "      <th>reference</th>\n",
       "      <th>web_link</th>\n",
       "      <th>population</th>\n",
       "      <th>population_source</th>\n",
       "      <th>latitude</th>\n",
       "      <th>longitude</th>\n",
       "      <th>who_ms</th>\n",
       "    </tr>\n",
       "  </thead>\n",
       "  <tbody>\n",
       "    <tr>\n",
       "      <th>0</th>\n",
       "      <td>4_Eur</td>\n",
       "      <td>ESP</td>\n",
       "      <td>Spain</td>\n",
       "      <td>A Coruna/ESP</td>\n",
       "      <td>2013.0</td>\n",
       "      <td>V4.0 (2018), V4.0 (2018), V4.0 (2018), V4.0 (2...</td>\n",
       "      <td>23.238</td>\n",
       "      <td>11.491</td>\n",
       "      <td>28.841</td>\n",
       "      <td>87.0</td>\n",
       "      <td>46.0</td>\n",
       "      <td>93.0</td>\n",
       "      <td>Urban, Urban, Suburban</td>\n",
       "      <td>NaN</td>\n",
       "      <td>NaN</td>\n",
       "      <td>246146.0</td>\n",
       "      <td>manual, manual, manual, manual</td>\n",
       "      <td>43.367900</td>\n",
       "      <td>-8.418571</td>\n",
       "      <td>1</td>\n",
       "    </tr>\n",
       "    <tr>\n",
       "      <th>1</th>\n",
       "      <td>4_Eur</td>\n",
       "      <td>ESP</td>\n",
       "      <td>Spain</td>\n",
       "      <td>A Coruna/ESP</td>\n",
       "      <td>2014.0</td>\n",
       "      <td>V6.0  (2023), V6.0  (2023), V6.0  (2023)</td>\n",
       "      <td>27.476</td>\n",
       "      <td>15.878</td>\n",
       "      <td>19.575</td>\n",
       "      <td>96.0</td>\n",
       "      <td>88.0</td>\n",
       "      <td>95.0</td>\n",
       "      <td>Urban, Urban, Suburban</td>\n",
       "      <td>NaN</td>\n",
       "      <td>NaN</td>\n",
       "      <td>247604.0</td>\n",
       "      <td>NaN</td>\n",
       "      <td>43.368033</td>\n",
       "      <td>-8.418233</td>\n",
       "      <td>1</td>\n",
       "    </tr>\n",
       "    <tr>\n",
       "      <th>2</th>\n",
       "      <td>4_Eur</td>\n",
       "      <td>ESP</td>\n",
       "      <td>Spain</td>\n",
       "      <td>A Coruna/ESP</td>\n",
       "      <td>2015.0</td>\n",
       "      <td>V6.0  (2023), V6.0  (2023), V6.0  (2023), V6.0...</td>\n",
       "      <td>25.515</td>\n",
       "      <td>14.004</td>\n",
       "      <td>22.731</td>\n",
       "      <td>98.0</td>\n",
       "      <td>71.0</td>\n",
       "      <td>98.0</td>\n",
       "      <td>Urban, Urban, Suburban, Suburban</td>\n",
       "      <td>NaN</td>\n",
       "      <td>NaN</td>\n",
       "      <td>247604.0</td>\n",
       "      <td>NaN</td>\n",
       "      <td>43.370375</td>\n",
       "      <td>-8.422900</td>\n",
       "      <td>1</td>\n",
       "    </tr>\n",
       "    <tr>\n",
       "      <th>3</th>\n",
       "      <td>4_Eur</td>\n",
       "      <td>ESP</td>\n",
       "      <td>Spain</td>\n",
       "      <td>A Coruna/ESP</td>\n",
       "      <td>2016.0</td>\n",
       "      <td>V6.0  (2023), V6.0  (2023), V6.0  (2023), V6.0...</td>\n",
       "      <td>23.057</td>\n",
       "      <td>13.160</td>\n",
       "      <td>20.204</td>\n",
       "      <td>98.0</td>\n",
       "      <td>98.0</td>\n",
       "      <td>98.0</td>\n",
       "      <td>Urban, Urban, Suburban, Suburban</td>\n",
       "      <td>NaN</td>\n",
       "      <td>NaN</td>\n",
       "      <td>247604.0</td>\n",
       "      <td>NaN</td>\n",
       "      <td>43.370375</td>\n",
       "      <td>-8.422900</td>\n",
       "      <td>1</td>\n",
       "    </tr>\n",
       "    <tr>\n",
       "      <th>4</th>\n",
       "      <td>4_Eur</td>\n",
       "      <td>ESP</td>\n",
       "      <td>Spain</td>\n",
       "      <td>A Coruna/ESP</td>\n",
       "      <td>2017.0</td>\n",
       "      <td>V6.0  (2023), V6.0  (2023), V6.0  (2023), V6.0...</td>\n",
       "      <td>26.849</td>\n",
       "      <td>14.114</td>\n",
       "      <td>21.543</td>\n",
       "      <td>97.0</td>\n",
       "      <td>97.0</td>\n",
       "      <td>98.0</td>\n",
       "      <td>Urban, Urban, Suburban, Suburban</td>\n",
       "      <td>NaN</td>\n",
       "      <td>NaN</td>\n",
       "      <td>247604.0</td>\n",
       "      <td>NaN</td>\n",
       "      <td>43.370375</td>\n",
       "      <td>-8.422900</td>\n",
       "      <td>1</td>\n",
       "    </tr>\n",
       "  </tbody>\n",
       "</table>\n",
       "</div>"
      ],
      "text/plain": [
       "  who_region iso3 country_name          city    year  \\\n",
       "0      4_Eur  ESP        Spain  A Coruna/ESP  2013.0   \n",
       "1      4_Eur  ESP        Spain  A Coruna/ESP  2014.0   \n",
       "2      4_Eur  ESP        Spain  A Coruna/ESP  2015.0   \n",
       "3      4_Eur  ESP        Spain  A Coruna/ESP  2016.0   \n",
       "4      4_Eur  ESP        Spain  A Coruna/ESP  2017.0   \n",
       "\n",
       "                                             version  pm10_concentration  \\\n",
       "0  V4.0 (2018), V4.0 (2018), V4.0 (2018), V4.0 (2...              23.238   \n",
       "1           V6.0  (2023), V6.0  (2023), V6.0  (2023)              27.476   \n",
       "2  V6.0  (2023), V6.0  (2023), V6.0  (2023), V6.0...              25.515   \n",
       "3  V6.0  (2023), V6.0  (2023), V6.0  (2023), V6.0...              23.057   \n",
       "4  V6.0  (2023), V6.0  (2023), V6.0  (2023), V6.0...              26.849   \n",
       "\n",
       "   pm25_concentration  no2_concentration  pm10_tempcov  pm25_tempcov  \\\n",
       "0              11.491             28.841          87.0          46.0   \n",
       "1              15.878             19.575          96.0          88.0   \n",
       "2              14.004             22.731          98.0          71.0   \n",
       "3              13.160             20.204          98.0          98.0   \n",
       "4              14.114             21.543          97.0          97.0   \n",
       "\n",
       "   no2_tempcov                  type_of_stations reference web_link  \\\n",
       "0         93.0            Urban, Urban, Suburban       NaN      NaN   \n",
       "1         95.0            Urban, Urban, Suburban       NaN      NaN   \n",
       "2         98.0  Urban, Urban, Suburban, Suburban       NaN      NaN   \n",
       "3         98.0  Urban, Urban, Suburban, Suburban       NaN      NaN   \n",
       "4         98.0  Urban, Urban, Suburban, Suburban       NaN      NaN   \n",
       "\n",
       "   population               population_source   latitude  longitude  who_ms  \n",
       "0    246146.0  manual, manual, manual, manual  43.367900  -8.418571       1  \n",
       "1    247604.0                             NaN  43.368033  -8.418233       1  \n",
       "2    247604.0                             NaN  43.370375  -8.422900       1  \n",
       "3    247604.0                             NaN  43.370375  -8.422900       1  \n",
       "4    247604.0                             NaN  43.370375  -8.422900       1  "
      ]
     },
     "execution_count": 22,
     "metadata": {},
     "output_type": "execute_result"
    }
   ],
   "source": [
    "csv_file = '../raw_data/air_pollution_data.csv'\n",
    "df = pd.read_csv(csv_file)\n",
    "\n",
    "df.head(5)"
   ]
  },
  {
   "cell_type": "markdown",
   "id": "76c0144a",
   "metadata": {},
   "source": [
    "# Explore!"
   ]
  },
  {
   "cell_type": "code",
   "execution_count": 23,
   "id": "0eddec9e",
   "metadata": {},
   "outputs": [],
   "source": [
    "# Get to know your features\n",
    "# Missing values!\n",
    "# Outliers\n",
    "# Formats and types\n",
    "# Check target balance\n",
    "# and more....!"
   ]
  },
  {
   "cell_type": "code",
   "execution_count": 24,
   "id": "7fa2b9dd",
   "metadata": {},
   "outputs": [
    {
     "name": "stdout",
     "output_type": "stream",
     "text": [
      "<class 'pandas.core.frame.DataFrame'>\n",
      "RangeIndex: 40098 entries, 0 to 40097\n",
      "Data columns (total 20 columns):\n",
      " #   Column              Non-Null Count  Dtype  \n",
      "---  ------              --------------  -----  \n",
      " 0   who_region          40098 non-null  object \n",
      " 1   iso3                40098 non-null  object \n",
      " 2   country_name        40098 non-null  object \n",
      " 3   city                40098 non-null  object \n",
      " 4   year                40095 non-null  float64\n",
      " 5   version             40098 non-null  object \n",
      " 6   pm10_concentration  28672 non-null  float64\n",
      " 7   pm25_concentration  21730 non-null  float64\n",
      " 8   no2_concentration   26934 non-null  float64\n",
      " 9   pm10_tempcov        22403 non-null  float64\n",
      " 10  pm25_tempcov        16590 non-null  float64\n",
      " 11  no2_tempcov         23402 non-null  float64\n",
      " 12  type_of_stations    23331 non-null  object \n",
      " 13  reference           6652 non-null   object \n",
      " 14  web_link            1790 non-null   object \n",
      " 15  population          22433 non-null  float64\n",
      " 16  population_source   18102 non-null  object \n",
      " 17  latitude            40098 non-null  float64\n",
      " 18  longitude           40098 non-null  float64\n",
      " 19  who_ms              40098 non-null  int64  \n",
      "dtypes: float64(10), int64(1), object(9)\n",
      "memory usage: 6.1+ MB\n"
     ]
    }
   ],
   "source": [
    "df.info()"
   ]
  },
  {
   "cell_type": "markdown",
   "id": "a5c7c8da",
   "metadata": {},
   "source": [
    "## Missing values"
   ]
  },
  {
   "cell_type": "code",
   "execution_count": 25,
   "id": "52d47e3f",
   "metadata": {},
   "outputs": [
    {
     "data": {
      "text/plain": [
       "web_link              95.54\n",
       "reference             83.41\n",
       "pm25_tempcov          58.63\n",
       "population_source     54.86\n",
       "pm25_concentration    45.81\n",
       "pm10_tempcov          44.13\n",
       "population            44.05\n",
       "type_of_stations      41.82\n",
       "no2_tempcov           41.64\n",
       "no2_concentration     32.83\n",
       "pm10_concentration    28.50\n",
       "year                   0.01\n",
       "longitude              0.00\n",
       "latitude               0.00\n",
       "who_region             0.00\n",
       "iso3                   0.00\n",
       "version                0.00\n",
       "city                   0.00\n",
       "country_name           0.00\n",
       "who_ms                 0.00\n",
       "dtype: float64"
      ]
     },
     "execution_count": 25,
     "metadata": {},
     "output_type": "execute_result"
    }
   ],
   "source": [
    "(df.isnull().sum() /len(df) *100).sort_values(ascending=False).round(2)"
   ]
  },
  {
   "cell_type": "code",
   "execution_count": 26,
   "id": "638c7f14",
   "metadata": {},
   "outputs": [],
   "source": [
    "#Features to delete: web_link, reference,  iso3, who_ms, population_source, version, pm10_tempcov, pm25_tempcov, no2_tempcov\n",
    "df.drop(columns=['web_link', 'reference', 'iso3', 'who_ms', 'population_source', 'version', 'pm10_tempcov', 'pm25_tempcov', 'no2_tempcov'],inplace=True)"
   ]
  },
  {
   "cell_type": "code",
   "execution_count": 27,
   "id": "25114a54",
   "metadata": {},
   "outputs": [
    {
     "name": "stdout",
     "output_type": "stream",
     "text": [
      "<class 'pandas.core.frame.DataFrame'>\n",
      "RangeIndex: 40098 entries, 0 to 40097\n",
      "Data columns (total 11 columns):\n",
      " #   Column              Non-Null Count  Dtype  \n",
      "---  ------              --------------  -----  \n",
      " 0   who_region          40098 non-null  object \n",
      " 1   country_name        40098 non-null  object \n",
      " 2   city                40098 non-null  object \n",
      " 3   year                40095 non-null  float64\n",
      " 4   pm10_concentration  28672 non-null  float64\n",
      " 5   pm25_concentration  21730 non-null  float64\n",
      " 6   no2_concentration   26934 non-null  float64\n",
      " 7   type_of_stations    23331 non-null  object \n",
      " 8   population          22433 non-null  float64\n",
      " 9   latitude            40098 non-null  float64\n",
      " 10  longitude           40098 non-null  float64\n",
      "dtypes: float64(7), object(4)\n",
      "memory usage: 3.4+ MB\n"
     ]
    }
   ],
   "source": [
    "df.info()"
   ]
  },
  {
   "cell_type": "code",
   "execution_count": 28,
   "id": "f90bae4e",
   "metadata": {},
   "outputs": [
    {
     "data": {
      "text/plain": [
       "pm25_concentration    45.81\n",
       "population            44.05\n",
       "type_of_stations      41.82\n",
       "no2_concentration     32.83\n",
       "pm10_concentration    28.50\n",
       "year                   0.01\n",
       "who_region             0.00\n",
       "country_name           0.00\n",
       "city                   0.00\n",
       "latitude               0.00\n",
       "longitude              0.00\n",
       "dtype: float64"
      ]
     },
     "execution_count": 28,
     "metadata": {},
     "output_type": "execute_result"
    }
   ],
   "source": [
    "(df.isnull().sum() /len(df) *100).sort_values(ascending=False).round(2)"
   ]
  },
  {
   "cell_type": "code",
   "execution_count": 29,
   "id": "2beb326d",
   "metadata": {},
   "outputs": [
    {
     "name": "stdout",
     "output_type": "stream",
     "text": [
      "['4_Eur' '6_Wpr' '2_Amr' '5_Emr' '1_Afr' '3_Sear' '7_NonMS']\n",
      "['Spain' 'China' 'Germany' 'Switzerland' 'Denmark' 'Norway' 'Canada'\n",
      " 'Belgium' 'Iran (Islamic Republic of)' 'Mexico' 'Georgia' 'Italy'\n",
      " 'United States of America'\n",
      " 'United Kingdom of Great Britain and Northern Ireland' 'Saudi Arabia'\n",
      " 'France' 'United Arab Emirates' 'Ghana' 'T√ºrkiye' 'Ethiopia' 'Australia'\n",
      " 'India' 'Israel' 'Cyprus' 'Greece' 'Kuwait' 'Finland' 'Hungary' 'Sweden'\n",
      " 'Iceland' 'Jordan' 'Qatar' 'Costa Rica' 'Portugal' 'Romania'\n",
      " 'New Zealand' 'Algeria'\n",
      " 'occupied Palestinian territory, including east Jerusalem' 'Austria'\n",
      " 'Ecuador' 'Brazil' 'Netherlands (Kingdom of the)' 'Chile'\n",
      " 'Republic of Korea' 'Madagascar' 'Colombia' 'Bulgaria' 'Turkmenistan'\n",
      " 'Kazakhstan' 'Paraguay' 'Peru' 'Ireland' 'Malta' 'Poland' 'Thailand'\n",
      " 'Lebanon' 'Belarus' 'Iraq' 'Cameroon' 'Philippines' 'Argentina' 'Bhutan'\n",
      " 'Indonesia' 'Cambodia' 'Slovakia' 'Montenegro'\n",
      " 'Venezuela (Bolivarian Republic of)' 'Bangladesh' 'Luxembourg' 'Malaysia'\n",
      " 'Mauritius' 'Czechia' 'South Africa' 'Serbia' 'Morocco'\n",
      " 'Bosnia and Herzegovina' 'Kyrgyzstan' 'North Macedonia' 'Tunisia' 'Egypt'\n",
      " 'Viet Nam' 'Slovenia' 'Japan' 'Bolivia (Plurinational State of)'\n",
      " 'Sri Lanka' 'Benin' 'Senegal' 'Croatia' 'Dominican Republic' 'Lithuania'\n",
      " 'Albania' 'Tajikistan' 'Nepal' 'Andorra' 'Pakistan' 'Guatemala' 'Bahrain'\n",
      " 'Nigeria' 'Afghanistan' 'Uganda' 'Estonia' 'Myanmar' 'Mongolia' 'Ukraine'\n",
      " 'Jamaica' 'Cuba' 'Latvia' 'Maldives' 'Kenya' 'Monaco' 'Uruguay'\n",
      " 'United Republic of Tanzania' 'Russian Federation' 'Bahamas' 'Panama'\n",
      " 'Trinidad and Tobago' 'Puerto Rico' 'El Salvador' 'Singapore' 'Fiji'\n",
      " 'Uzbekistan' 'Honduras' 'Liechtenstein'\n",
      " \"Lao People's Democratic Republic\"]\n",
      "['A Coruna/ESP' 'A La Shan Zuo Qi/CHN' 'Aachen/DEU' ... 'Zywiec/POL'\n",
      " '경기도/KOR' '虎英公园北/CHN']\n",
      "[2013. 2014. 2015. 2016. 2017. 2018. 2019. 2020. 2021. 2010. 2011. 2012.\n",
      " 2022.   nan]\n",
      "[23.238 27.476 25.515 ... 57.335 50.838 55.568]\n",
      "[11.491 15.878 14.004 ... 31.013 30.649 29.731]\n",
      "[28.841 19.575 22.731 ... 15.903 28.907 22.912]\n",
      "['Urban, Urban, Suburban' 'Urban, Urban, Suburban, Suburban'\n",
      " 'Urban, Suburban, Suburban' nan 'Urban, Urban, Urban'\n",
      " 'Urban, Urban, Urban, Urban' 'Urban, Urban' 'Urban' 'Suburban' 'Rural'\n",
      " 'Traffic' 'Rural, Rural'\n",
      " 'Urban, Urban, Urban, Urban, Urban, Urban, Urban, Urban, Urban'\n",
      " 'Suburban, Urban' 'Urban, Suburban' 'Industrial' 'Suburban, Suburban'\n",
      " 'Residential, Residential, Residential, Residential, Residential'\n",
      " 'Rural, Rural, Urban' 'Urban, Urban, Urban, Urban, Urban'\n",
      " 'Urban, Industrial, Urban, Urban, Urban, Urban, Industrial'\n",
      " 'Urban, Suburban, Suburban, Suburban, Rural, Suburban, Urban, Urban, Suburban, Rural, Suburban, Suburban'\n",
      " 'Urban, Suburban, Suburban, Suburban, Rural, Suburban, Urban, Urban, Urban, Urban, Suburban, Suburban, Rural, Suburban, Suburban'\n",
      " 'Urban, Suburban, Suburban, Suburban, Rural, Urban, Urban, Urban, Urban, Urban, Urban, Urban, Urban, Urban, Urban, Urban, Urban, Urban, Urban, Urban, Urban, Urban, Urban, Urban, Suburban, Urban, Urban, Urban, Urban, Suburban, Suburban, Suburban, Rural, Suburban, Suburban'\n",
      " 'Urban, Suburban, Suburban, Rural, Urban, Urban, Urban, Urban, Urban, Urban, Urban, Urban, Urban, Urban, Urban, Urban, Urban, Urban, Urban, Urban, Urban, Urban, Suburban, Suburban, Urban, Urban, Urban, Urban, Suburban, Rural, Suburban, Suburban'\n",
      " 'Urban, Suburban, Suburban, Rural, Urban, Urban, Urban, Urban, Urban, Urban, Urban, Urban, Urban, Urban, Urban, Urban, Urban, Urban, Urban, Urban, Urban, Urban, Suburban, Urban, Urban, Urban, Urban, Suburban, Rural, Suburban, Suburban'\n",
      " 'Urban, Suburban, Suburban, Rural, Suburban, Urban, Urban, Urban, Urban, Urban, Urban, Urban, Urban, Urban, Urban, Urban, Urban, Urban, Urban, Urban, Urban, Urban, Urban, Suburban, Urban, Urban, Urban, Urban, Urban, Suburban, Rural, Urban, Suburban, Suburban'\n",
      " 'Suburban, Rural' 'Suburban, Urban, Urban, Urban'\n",
      " 'Rural, Rural, Suburban' 'Suburban, Rural, Rural'\n",
      " 'Urban, Urban, Urban, Suburban, Urban, Suburban, Urban, Urban, Urban, Suburban, Suburban, Suburban'\n",
      " 'Residential And Commercial Area, Residential And Commercial Area, Residential And Commercial Area, Residential And Commercial Area, Residential And Commercial Area, Urban Traffic, Residential And Commercial Area, Residential And Commercial Area, Urban Traffic, Residential And Commercial Area, Residential And Commercial Area, Urban Traffic, Urban Traffic'\n",
      " 'Residential And Commercial Area, Residential And Commercial Area, Residential And Commercial Area, Residential And Commercial Area, Residential And Commercial Area, Urban Traffic, Residential And Commercial Area, Residential And Commercial Area, Residential And Commercial Area, Residential And Commercial Area, Urban Traffic, Urban Traffic'\n",
      " 'Residential And Commercial Area, Residential And Commercial Area, Residential And Commercial Area, Residential And Commercial Area, Residential And Commercial Area, Urban Traffic, Urban Traffic, Residential And Commercial Area, Residential And Commercial Area, Urban Traffic, Urban Traffic, Residential And Commercial Area, Residential And Commercial Area, Urban Traffic, Urban Traffic'\n",
      " 'Residential And Commercial Area, Residential And Commercial Area, Residential And Commercial Area, Residential And Commercial Area, Residential And Commercial Area, Urban Traffic, Urban Traffic, Residential And Commercial Area, Residential And Commercial Area, Urban Traffic, Residential And Commercial Area, Residential And Commercial Area, Urban Traffic, Urban Traffic'\n",
      " 'Residential And Commercial Area, Residential And Commercial Area, Residential And Commercial Area, Residential And Commercial Area, Residential And Commercial Area, Urban Traffic, Urban Traffic, Residential And Commercial Area, Residential And Commercial Area, Urban Traffic, Residential And Commercial Area, Urban Traffic, Urban Traffic'\n",
      " 'Residential And Commercial Area, Residential And Commercial Area, Residential And Commercial Area, Residential And Commercial Area, Residential And Commercial Area, Urban Traffic, Urban Traffic'\n",
      " 'Urban, Urban, Suburban, Urban' 'Urban, Suburban, Urban'\n",
      " 'Suburban, Urban, Suburban, Urban' 'Background'\n",
      " 'Urban, Urban, Suburban, Urban, Urban' 'Urban, Rural'\n",
      " 'Urban, Urban, Urban, Urban, Urban, Urban, Urban, Urban, Urban, Urban, Urban, Urban'\n",
      " 'Suburban, Urban, Urban, Urban, Urban, Urban, Urban, Urban, Urban, Urban, Urban, Urban, Urban, Urban, Urban, Urban, Suburban, Suburban, Suburban, Suburban, Suburban, Urban'\n",
      " 'Urban, Urban, Suburban, Urban, Urban, Urban, Urban, Urban, Urban, Urban, Urban, Urban, Urban, Urban, Urban, Urban, Urban, Urban, Urban, Suburban, Suburban, Suburban, Suburban, Suburban, Urban, Urban'\n",
      " 'Urban, Urban, Urban, Urban, Suburban, Urban, Urban, Urban, Urban, Urban, Urban, Urban, Urban, Urban, Urban, Urban, Urban, Urban, Suburban, Urban, Urban, Urban, Suburban, Suburban, Urban, Suburban, Urban, Urban, Suburban, Urban, Suburban, Suburban, Urban, Suburban, Suburban, Suburban, Suburban, Suburban, Urban, Urban'\n",
      " 'Urban, Urban, Urban, Urban, Suburban, Urban, Urban, Urban, Urban, Urban, Urban, Urban, Urban, Urban, Urban, Urban, Urban, Urban, Suburban, Urban, Urban, Suburban, Suburban, Urban, Suburban, Urban, Suburban, Urban, Suburban, Suburban, Urban, Suburban, Suburban, Suburban, Suburban, Suburban, Urban, Urban'\n",
      " 'Urban, Urban, Urban, Suburban, Urban, Urban, Urban, Urban, Urban, Urban, Urban, Urban, Urban, Urban, Urban, Urban, Urban, Suburban, Urban, Urban, Suburban, Suburban, Urban, Suburban, Urban, Suburban, Urban, Suburban, Suburban, Urban, Suburban, Suburban, Suburban, Suburban, Suburban, Urban, Urban, Suburban'\n",
      " 'Urban, Urban, Urban, Suburban, Urban, Urban, Urban, Urban, Urban, Urban, Urban, Urban, Urban, Urban, Urban, Urban, Suburban, Urban, Urban, Suburban, Suburban, Urban, Suburban, Urban, Suburban, Urban, Suburban, Suburban, Urban, Suburban, Suburban, Suburban, Suburban, Suburban, Urban, Urban, Suburban, Suburban'\n",
      " 'Urban, Urban, Suburban, Urban, Urban, Urban, Urban, Urban, Urban, Urban, Urban, Urban, Urban, Urban, Suburban, Urban, Urban, Suburban, Suburban, Urban, Suburban, Urban, Suburban, Urban, Suburban, Suburban, Urban, Suburban, Suburban, Suburban, Suburban, Urban, Urban, Suburban, Suburban'\n",
      " 'Urban, Urban, Suburban, Urban, Urban, Urban, Urban, Urban, Urban, Urban, Urban, Urban, Urban, Urban, Suburban, Urban, Urban, Suburban, Suburban, Urban, Suburban, Urban, Urban, Suburban, Suburban, Suburban, Suburban, Suburban, Urban, Urban, Suburban'\n",
      " 'Urban, Urban, Suburban, Urban, Urban, Urban, Urban, Urban, Urban, Urban, Urban, Urban, Urban, Urban, Suburban, Urban, Urban, Suburban, Urban, Suburban, Urban, Urban, Suburban, Suburban, Suburban, Suburban, Suburban, Urban, Urban, Suburban'\n",
      " 'Urban, Urban, Urban, Suburban, Suburban'\n",
      " 'Background, Traffic, Background'\n",
      " 'Residential And Commercial Area, Residential And Commercial Area, Residential And Commercial Area'\n",
      " 'Residential And Commercial Area, Residential And Commercial Area, Residential And Commercial Area, Residential And Commercial Area'\n",
      " 'Urban, Urban, Suburban, Suburban, Urban, Suburban'\n",
      " 'Urban, Suburban, Suburban, Urban, Suburban'\n",
      " 'Urban, Urban, Rural, Rural, Urban, Suburban, Rural, Urban, Rural, Urban, Urban, Urban, Urban, Urban, Urban, Urban'\n",
      " 'Urban, Urban, Rural, Rural, Urban, Suburban, Rural, Urban, Rural, Urban, Urban, Urban, Urban, Urban, Urban, Urban, Urban, Urban, Urban, Urban, Urban, Urban, Urban, Urban, Urban, Urban, Urban, Urban, Urban, Urban, Urban, Urban, Urban, Urban, Urban, Urban, Urban, Urban, Urban'\n",
      " 'Urban, Urban, Rural, Rural, Urban, Suburban, Rural, Urban, Rural, Urban, Urban, Urban, Urban, Urban, Urban, Urban, Urban, Urban, Urban, Urban, Urban, Urban, Urban, Urban, Urban, Urban, Urban, Urban, Urban, Urban, Urban, Urban, Urban, Urban, Urban, Urban, Urban, Urban, Urban, Urban, Urban, Urban, Urban, Urban, Urban, Urban, Urban, Urban, Urban, Urban, Urban, Urban'\n",
      " 'Urban, Urban, Rural, Rural, Urban, Suburban, Rural, Urban, Rural, Urban, Urban, Urban, Urban, Urban, Urban, Urban, Urban, Urban, Urban, Urban, Urban, Urban, Urban, Urban, Urban, Urban, Urban, Urban, Urban, Urban, Urban, Urban, Urban, Urban, Urban, Urban, Urban, Urban, Urban, Urban, Urban, Urban, Urban, Urban, Urban, Urban, Urban, Urban, Urban, Urban, Urban, Urban, Urban, Urban, Urban, Urban, Urban, Urban, Urban'\n",
      " 'Urban, Urban, Rural, Rural, Urban, Suburban, Rural, Urban, Rural, Urban, Urban, Urban, Urban, Urban, Urban, Urban, Urban, Urban, Urban, Urban, Urban, Urban, Urban, Urban, Urban, Urban, Urban, Urban, Urban, Urban, Urban, Urban, Urban, Urban, Urban, Urban, Urban, Urban, Urban, Urban, Urban, Urban, Urban, Urban, Urban, Urban, Urban, Urban, Urban, Urban, Urban, Urban, Urban, Urban, Urban, Urban, Urban, Urban'\n",
      " 'Traffic, Background, Traffic' 'Background, Traffic'\n",
      " 'Urban, Urban, Urban, Urban, Urban, Urban, Urban'\n",
      " 'Urban, Urban, Urban, Urban, Urban, Urban'\n",
      " 'Urban, Urban, Urban, Urban, Urban, Urban, Suburban, Urban, Urban, Suburban, Urban, Urban, Urban'\n",
      " 'Rural, Urban, Rural, Rural' 'Rural, Urban' 'Suburban, Urban, Urban'\n",
      " 'Urban, Urban, Urban, Suburban' 'Urban, Urban, Urban, Suburban, Urban'\n",
      " 'Urban, Suburban, Urban, Urban'\n",
      " 'Urban, Urban, Urban, Urban, Urban, Rural'\n",
      " 'Urban, Urban, Urban, Urban, Suburban, Urban, Rural'\n",
      " 'Urban, Suburban, Suburban, Suburban, Suburban'\n",
      " 'Urban, Suburban, Suburban, Suburban, Suburban, Suburban'\n",
      " 'Suburban, Urban, Urban, Suburban'\n",
      " 'Urban, Suburban, Urban, Urban, Suburban'\n",
      " 'Urban, Suburban, Urban, Urban, Urban, Suburban'\n",
      " 'Urban, Urban, Urban, Suburban, Urban, Urban, Suburban, Urban, Urban, Urban, Suburban'\n",
      " 'Urban, Urban, Urban, Suburban, Urban, Urban, Urban, Suburban, Urban, Urban, Urban, Suburban'\n",
      " 'Urban, Urban, Urban, Suburban, Suburban, Suburban, Suburban, Urban, Urban, Suburban, Suburban'\n",
      " 'Urban, Urban, Urban, Suburban, Suburban, Suburban, Urban, Urban, Suburban, Suburban'\n",
      " 'Urban, Urban, Urban, Urban, Suburban, Suburban, Suburban, Urban, Urban, Suburban, Suburban'\n",
      " 'Suburban, Suburban, Urban, Urban, Urban, Urban' 'Rural, Suburban'\n",
      " 'Urban, Suburban, Suburban, Suburban' 'Urban, Rural, Urban'\n",
      " 'Rural, Urban, Suburban' 'Suburban, Suburban, Suburban'\n",
      " 'Suburban, Suburban, Urban, Suburban'\n",
      " 'Suburban, Suburban, Suburban, Urban, Urban'\n",
      " 'Suburban, Suburban, Suburban, Urban, Urban, Urban' 'Traffic, Background'\n",
      " 'Suburban, Urban, Urban, Urban, Urban, Urban'\n",
      " 'Suburban, Urban, Urban, Urban, Urban'\n",
      " 'Suburban, Urban, Urban, Urban, Urban, Suburban, Urban'\n",
      " 'Suburban, Urban, Urban, Urban, Urban, Suburban, Urban, Suburban'\n",
      " 'Urban, Urban, Urban, Urban, Suburban, Urban, Suburban'\n",
      " 'Urban, Suburban, Suburban, Urban' 'Urban, Suburban, Urban, Suburban'\n",
      " 'Urban, Urban, Urban, Rural' 'Urban, Urban, Rural'\n",
      " 'Urban, Urban, Suburban, Urban, Urban, Urban'\n",
      " 'Urban, Suburban, Urban, Urban, Urban'\n",
      " 'Urban, Urban, Urban, Urban, Urban, Urban, Urban, Urban'\n",
      " 'Suburban, Suburban, Rural'\n",
      " 'Suburban, Suburban, Urban, Suburban, Suburban, Suburban, Urban, Urban, Suburban'\n",
      " 'Suburban, Suburban, Urban, Suburban, Suburban, Urban, Urban, Suburban'\n",
      " 'Suburban, Urban, Suburban, Suburban, Suburban, Urban, Urban, Suburban'\n",
      " 'Suburban, Suburban, Suburban, Urban, Suburban, Suburban, Urban, Suburban, Urban, Suburban'\n",
      " 'Suburban, Suburban, Suburban, Urban, Suburban, Suburban, Urban, Urban, Suburban, Urban, Suburban'\n",
      " 'Urban, Suburban, Urban, Urban, Urban, Urban, Urban, Urban, Urban, Urban'\n",
      " 'Urban, Suburban, Urban, Urban, Urban, Urban, Urban, Urban, Urban, Urban, Urban, Urban'\n",
      " 'Urban, Suburban, Urban, Urban, Urban, Urban, Urban, Urban, Urban, Urban, Urban'\n",
      " 'Urban, Urban, Urban, Urban, Urban, Suburban'\n",
      " 'Urban, Urban, Urban, Urban, Urban, Suburban, Urban'\n",
      " 'Urban, Urban, Urban, Urban, Suburban, Urban, Urban, Urban'\n",
      " 'Residential And Commercial Area, Residential And Commercial Area, Residential And Commercial Area, Residential And Commercial Area, Residential And Commercial Area, Residential And Commercial Area, Residential And Commercial Area, Residential And Commercial Area, Urban Traffic/Residential And Commercial Area, Residential And Commercial Area'\n",
      " 'Residential And Commercial Area, Residential And Commercial Area, Residential And Commercial Area, Residential And Commercial Area, Residential And Commercial Area, Residential And Commercial Area, Residential And Commercial Area, Residential And Commercial Area, Residential And Commercial Area, Residential And Commercial Area, Residential And Commercial Area, Urban Traffic/Residential And Commercial Area'\n",
      " 'Residential And Commercial Area, Residential And Commercial Area, Residential And Commercial Area, Residential And Commercial Area, Residential And Commercial Area, Residential And Commercial Area, Residential And Commercial Area, Residential And Commercial Area, Residential And Commercial Area, Residential And Commercial Area, Residential And Commercial Area, Residential And Commercial Area, Residential And Commercial Area, Urban Traffic/Residential And Commercial Area'\n",
      " 'Residential And Commercial Area, Residential And Commercial Area, Residential And Commercial Area, Residential And Commercial Area, Residential And Commercial Area, Residential And Commercial Area, Residential And Commercial Area, Residential And Commercial Area, Residential And Commercial Area, Residential And Commercial Area, Residential And Commercial Area, Residential And Commercial Area, Urban Traffic/Residential And Commercial Area'\n",
      " 'Residential And Commercial Area, Residential And Commercial Area, Residential And Commercial Area, Residential And Commercial Area, Residential And Commercial Area, Residential And Commercial Area, Residential And Commercial Area, Residential And Commercial Area, Residential And Commercial Area, Residential And Commercial Area, Residential And Commercial Area, Residential And Commercial Area, Urban Traffic/Residential And Commercial Area, Residential And Commercial Area'\n",
      " 'Residential And Commercial Area, Residential And Commercial Area, Residential And Commercial Area, Residential And Commercial Area, Residential And Commercial Area, Residential And Commercial Area, Residential And Commercial Area, Residential And Commercial Area, Residential And Commercial Area, Residential And Commercial Area, Urban Traffic/Residential And Commercial Area'\n",
      " 'Residential And Commercial Area, Residential And Commercial Area, Residential And Commercial Area, Residential And Commercial Area, Residential And Commercial Area, Residential And Commercial Area, Residential And Commercial Area, Residential And Commercial Area, Residential And Commercial Area, Urban Traffic/Residential And Commercial Area, Residential And Commercial Area'\n",
      " 'Urban, Urban, Urban, Urban, Suburban'\n",
      " 'Urban, Suburban, Urban, Urban, Urban, Urban, Urban, Urban, Urban, Urban, Urban, Urban, Suburban, Urban, Urban, Urban'\n",
      " 'Urban, Suburban, Urban, Urban, Urban, Urban, Urban, Urban, Urban, Urban, Urban, Suburban, Urban, Urban, Urban'\n",
      " 'Urban, Suburban, Urban, Urban, Urban, Urban, Urban, Urban, Urban, Urban, Suburban, Urban, Urban, Urban, Urban, Urban'\n",
      " 'Urban, Suburban, Urban, Urban, Urban, Urban, Urban, Urban, Urban, Urban, Suburban, Urban, Urban, Urban, Urban'\n",
      " 'Urban, Suburban, Urban, Urban, Urban, Urban, Urban, Urban, Urban, Urban, Suburban, Urban, Urban, Urban'\n",
      " 'Urban, Urban, Urban, Rural, Urban'\n",
      " 'Suburban, Urban, Urban, Urban, Urban, Suburban' 'Rural, Rural, Rural'\n",
      " 'Urban, Urban, Urban, Urban, Suburban, Urban, Urban'\n",
      " 'Urban, Urban, Urban, Urban, Suburban, Urban, Urban, Urban, Urban, Urban, Urban'\n",
      " 'Urban, Urban, Urban, Urban, Suburban, Urban, Urban, Urban, Urban, Urban, Urban, Urban'\n",
      " 'Urban, Urban, Urban, Urban, Suburban, Urban, Urban, Urban, Urban, Urban, Urban, Urban, Urban, Urban, Urban, Urban, Urban, Urban, Urban'\n",
      " 'Urban, Urban, Urban, Urban, Suburban, Urban, Urban, Urban, Urban, Urban, Urban, Urban, Urban, Urban, Urban, Urban, Urban, Urban'\n",
      " 'Suburban, Urban, Suburban'\n",
      " 'Residential - industrial, Residential - industrial'\n",
      " 'Urban, Suburban, Rural, Urban'\n",
      " 'Urban, Suburban, Suburban, Rural, Urban, Urban'\n",
      " 'Urban, Urban, Urban, Urban, Urban, Urban, Urban, Suburban'\n",
      " 'Urban, Suburban, Urban, Urban, Suburban, Rural'\n",
      " 'Urban, Urban, Urban, Urban, Urban, Urban, Urban, Urban, Urban, Urban, Urban, Urban, Urban, Urban, Urban, Urban, Urban, Urban, Urban, Urban, Urban, Suburban, Urban, Urban, Suburban, Rural'\n",
      " 'Urban, Suburban, Rural'\n",
      " 'Suburban, Suburban, Suburban, Urban, Suburban, Urban'\n",
      " 'Urban, Urban, Urban, Urban, Urban, Urban, Urban, Urban, Urban, Urban, Urban'\n",
      " 'Urban, Urban, Urban, Urban, Urban, Urban, Urban, Urban, Urban, Urban'\n",
      " 'Rural, Urban, Suburban, Urban, Urban'\n",
      " 'Rural, Urban, Suburban, Urban, Urban, Urban'\n",
      " 'Rural, Urban, Suburban, Urban, Urban, Urban, Urban'\n",
      " 'Rural, Urban, Suburban, Urban, Urban, Urban, Urban, Suburban'\n",
      " 'Rural, Urban, Urban, Urban, Urban, Urban, Suburban'\n",
      " 'Urban, Urban, Urban, Urban, Rural, Urban, Urban, Urban, Urban, Urban, Urban, Urban, Urban, Rural'\n",
      " 'Urban, Urban, Urban, Urban, Urban, Urban, Urban, Urban, Urban, Urban, Urban, Urban, Rural'\n",
      " 'Urban, Urban, Urban, Urban, Urban, Urban, Urban, Urban, Urban, Urban, Urban, Rural'\n",
      " 'Urban, Rural, Rural, Rural'\n",
      " 'Urban, Urban, Urban, Urban, Industrial, Urban, Urban, Urban, Urban'\n",
      " 'Rural, Urban, Urban, Urban, Industrial, Urban, Urban, Urban, Urban'\n",
      " 'Rural, Urban, Urban, Urban, Urban, Industrial, Urban, Urban, Urban, Urban, Urban'\n",
      " 'Rural, Urban, Urban, Urban, Urban, Industrial, Urban, Urban, Urban, Urban, Urban, Urban'\n",
      " 'Rural, Urban, Urban, Urban, Urban, Industrial, Urban, Urban, Urban, Urban'\n",
      " 'Urban, Urban, Urban, Suburban, Urban, Urban, Suburban, Suburban, Suburban, Urban, Urban, Urban, Urban, Urban, Rural, Urban, Urban, Urban'\n",
      " 'Urban, Urban, Urban, Suburban, Urban, Urban, Suburban, Suburban, Suburban, Urban, Urban, Urban, Urban, Urban, Rural, Urban, Urban'\n",
      " 'Urban, Urban, Urban, Urban, Urban, Suburban, Suburban, Suburban, Urban, Urban, Urban, Urban, Urban, Rural, Urban, Urban, Urban'\n",
      " 'Urban, Urban, Urban, Urban, Urban, Suburban, Suburban, Suburban, Urban, Urban, Urban, Urban, Urban, Rural, Urban, Urban'\n",
      " 'Urban, Urban, Urban, Urban, Urban, Suburban, Suburban, Urban, Urban, Urban, Urban, Urban, Rural, Urban, Urban'\n",
      " 'Urban, Urban, Urban, Urban, Suburban, Suburban, Urban, Urban, Urban, Urban, Urban, Urban'\n",
      " 'Residential And Commercial Area, Residential And Commercial Area'\n",
      " 'Urban, Urban, Suburban, Urban, Urban, Urban, Urban, Urban, Urban'\n",
      " 'Urban, Rural, Urban, Urban, Urban, Urban, Suburban, Urban'\n",
      " 'Urban, Rural, Urban, Urban, Urban, Urban, Urban, Suburban, Urban, Suburban'\n",
      " 'Urban, Rural, Urban, Urban, Urban, Urban, Suburban, Urban, Urban'\n",
      " 'Rural, Urban, Urban, Urban, Urban, Suburban, Urban, Urban'\n",
      " 'Rural, Urban, Urban, Urban, Suburban, Urban, Urban'\n",
      " 'Rural, Urban, Urban, Urban, Urban, Suburban, Urban, Suburban, Urban'\n",
      " 'Urban, Urban, Urban, Urban, Rural, Rural, Rural, Rural'\n",
      " 'Urban, Urban, Urban, Urban, Rural, Rural, Rural, Rural, Urban'\n",
      " 'Urban, Urban, Urban, Urban, Urban, Urban, Urban, Urban, Urban, Urban, Urban, Urban, Urban'\n",
      " 'Urban, Urban, Suburban, Urban, Urban, Urban, Urban, Urban, Urban, Urban, Urban, Urban, Suburban, Urban, Urban, Suburban, Urban, Urban, Urban'\n",
      " 'Urban, Urban, Suburban, Urban, Urban, Urban, Urban, Urban, Urban, Urban, Urban, Urban, Suburban, Urban, Urban, Suburban, Urban, Urban, Urban, Urban'\n",
      " 'Urban, Urban, Suburban, Urban, Urban, Urban, Urban, Urban, Urban, Urban, Urban, Suburban, Urban, Urban, Suburban, Urban, Urban, Urban, Urban'\n",
      " 'Urban, Urban, Suburban, Urban, Urban, Urban, Urban, Urban, Urban, Urban, Suburban, Urban, Urban, Suburban, Urban, Urban, Urban, Urban'\n",
      " 'Urban, Urban, Suburban, Urban, Urban, Urban, Urban, Urban, Urban, Suburban, Urban, Urban, Suburban, Urban, Urban, Urban, Urban'\n",
      " 'Urban, Urban, Suburban, Urban, Urban, Urban, Urban, Urban, Urban, Suburban, Urban, Suburban, Urban, Urban, Urban, Urban'\n",
      " 'Urban, Urban, Suburban, Urban, Urban, Urban, Urban, Urban, Urban, Suburban, Urban, Urban, Urban, Urban, Urban, Urban, Urban'\n",
      " 'Urban, Urban, Urban, Urban, Suburban, Suburban, Urban'\n",
      " 'Suburban, Suburban, Suburban, Urban' 'Suburban, Rural, Urban, Urban'\n",
      " 'Suburban, Rural, Urban, Urban, Suburban'\n",
      " 'Suburban, Suburban, Urban, Urban, Suburban, Suburban'\n",
      " 'Suburban, Suburban, Urban, Suburban, Suburban'\n",
      " 'Urban, Suburban, Suburban, Suburban, Urban'\n",
      " 'Urban, Urban, Suburban, Urban, Urban, Urban, Urban, Urban, Urban, Urban, Urban, Urban, Urban'\n",
      " 'Urban, Urban, Suburban, Urban, Urban, Urban, Urban, Urban, Urban, Urban, Urban, Urban, Urban, Urban, Urban, Urban, Urban'\n",
      " 'Urban, Urban, Suburban, Urban, Urban, Urban, Urban, Urban, Urban, Urban, Urban, Urban, Urban, Urban, Urban, Urban'\n",
      " 'Urban, Suburban, Suburban, Urban, Urban, Urban, Urban, Urban, Urban, Urban, Urban, Urban, Urban, Urban, Urban, Urban'\n",
      " 'Urban, Suburban, Suburban, Urban, Urban, Urban, Urban, Urban, Urban, Urban, Urban, Urban, Urban, Urban, Urban, Urban, Urban'\n",
      " 'Urban, Suburban, Suburban, Urban, Urban, Urban, Urban, Urban, Urban, Urban, Urban, Urban, Urban, Urban, Urban'\n",
      " 'Urban, Suburban, Suburban, Rural' 'Background, Background'\n",
      " 'Urban, Urban, Suburban, Urban, Urban, Suburban, Suburban, Urban, Urban'\n",
      " 'Urban, Suburban, Urban, Urban, Suburban, Suburban, Urban, Urban, Urban'\n",
      " 'Urban, Suburban, Urban, Urban, Suburban, Suburban, Urban, Urban, Urban, Urban'\n",
      " 'Suburban, Urban, Urban, Suburban, Suburban, Urban, Urban, Urban, Urban'\n",
      " 'Urban, Urban, Urban, Urban, Urban, Suburban, Urban, Urban, Urban, Urban, Urban, Urban, Urban, Urban, Suburban, Suburban, Urban, Suburban, Urban, Urban, Urban, Urban, Urban, Urban, Urban, Urban, Urban, Urban, Suburban, Suburban, Urban, Urban'\n",
      " 'Urban, Urban, Urban, Urban, Urban, Suburban, Urban, Urban, Urban, Urban, Urban, Urban, Urban, Urban, Suburban, Suburban, Urban, Suburban, Urban, Urban, Urban, Urban, Urban, Urban, Urban, Urban, Urban, Urban, Urban, Urban, Suburban, Suburban, Urban, Urban'\n",
      " 'Urban, Urban, Urban, Urban, Urban, Urban, Urban, Urban, Urban, Urban, Urban, Urban, Urban, Urban, Urban, Urban, Urban, Urban, Urban, Urban, Urban, Urban, Urban, Urban, Urban, Urban'\n",
      " 'Urban, Urban, Urban, Urban, Urban, Urban, Urban, Urban, Urban, Urban, Urban, Urban, Urban, Urban, Urban, Urban, Urban, Urban, Urban, Urban, Urban, Urban, Urban, Urban, Urban, Urban, Urban, Urban, Urban'\n",
      " 'Suburban, Urban, Urban, Rural, Rural' 'Suburban, Urban, Rural, Rural'\n",
      " 'Urban, Urban, Urban, Urban, Urban, Urban, Suburban'\n",
      " 'Urban, Urban, Urban, Urban, Urban, Urban, Urban, Urban, Suburban, Urban, Urban, Urban, Suburban'\n",
      " 'Urban, Urban, Urban, Urban, Urban, Urban, Urban, Urban, Urban, Urban, Urban, Urban, Suburban, Urban, Urban, Urban, Suburban'\n",
      " 'Urban, Urban, Urban, Urban, Urban, Urban, Urban, Urban, Urban, Urban, Urban, Urban, Suburban, Urban, Urban, Urban, Suburban, Urban'\n",
      " 'Urban, Urban, Urban, Urban, Urban, Urban, Urban, Urban, Urban, Urban, Suburban, Urban, Urban, Urban, Suburban, Urban'\n",
      " 'Fond Urbain, Fond Urbain, Traffic, Traffic, Traffic'\n",
      " 'Suburban, Urban, Urban, Urban, Rural'\n",
      " 'Suburban, Urban, Urban, Urban, Rural, Rural'\n",
      " 'Suburban, Urban, Urban, Rural' 'Urban, Urban, Suburban, Urban, Suburban'\n",
      " 'Urban, Urban, Suburban, Urban, Urban, Urban, Urban, Urban, Suburban, Suburban'\n",
      " 'Urban, Urban, Suburban, Urban, Urban, Urban, Urban, Urban, Suburban, Suburban, Suburban, Urban, Urban'\n",
      " 'Urban, Urban, Suburban, Urban, Urban, Urban, Urban, Urban, Suburban, Suburban, Urban, Suburban, Suburban, Suburban, Suburban, Urban, Urban'\n",
      " 'Suburban, Urban, Urban, Suburban, Urban, Urban, Urban, Urban, Urban, Suburban, Suburban, Urban, Suburban, Suburban, Suburban, Suburban, Urban, Urban'\n",
      " 'Residential And Commercial Area'\n",
      " 'Urban, Urban, Urban, Urban, Suburban, Urban' 'Rural, Urban, Urban'\n",
      " 'Urban, Suburban, Suburban, Urban, Urban, Urban, Urban, Urban'\n",
      " 'Urban, Suburban, Suburban, Urban, Urban, Urban, Urban, Urban, Suburban, Suburban'\n",
      " 'Urban, Suburban, Suburban, Urban, Urban, Urban, Urban, Urban, Suburban, Suburban, Suburban'\n",
      " 'Urban, Suburban, Suburban, Urban, Urban, Urban, Urban, Urban, Suburban, Suburban, Suburban, Suburban'\n",
      " 'Urban, Suburban, Suburban, Urban, Urban, Urban, Urban, Suburban, Suburban, Suburban, Suburban'\n",
      " 'Suburban, Urban, Urban, Urban, Suburban, Suburban, Urban'\n",
      " 'Urban, Urban, Urban, Suburban, Urban, Urban'\n",
      " 'Urban, Urban, Urban, Suburban, Suburban, Urban, Urban, Suburban, Urban, Suburban, Suburban, Urban'\n",
      " 'Residential And Commercial Area, Residential And Commercial Area, Residential And Commercial Area, Residential And Commercial Area, Residential And Commercial Area, Residential And Commercial Area'\n",
      " 'Residential And Commercial Area, Residential And Commercial Area, Residential And Commercial Area, Residential And Commercial Area, Residential And Commercial Area, Residential And Commercial Area, Residential And Commercial Area'\n",
      " 'Urban, Urban, Rural, Urban' 'Urban, Suburban, Urban, Rural'\n",
      " 'Urban, Suburban, Urban, Rural, Urban'\n",
      " 'Urban, Urban, Urban, Urban, Urban, Urban, Urban, Urban, Suburban, Suburban, Urban, Urban, Urban, Urban, Urban, Urban, Urban, Urban, Urban, Urban, Urban, Urban, Urban, Urban, Urban, Urban, Urban, Urban, Urban, Urban, Urban, Urban, Urban, Urban, Suburban, Urban, Urban'\n",
      " 'Urban, Urban, Urban, Urban, Urban, Urban, Urban, Suburban, Suburban, Urban, Urban, Urban, Urban, Urban, Urban, Urban, Urban, Urban, Urban, Urban, Urban, Urban, Urban, Urban, Urban, Urban, Urban, Urban, Urban, Urban, Urban, Urban, Urban, Suburban, Suburban, Urban, Urban'\n",
      " 'Urban, Urban, Urban, Urban, Urban, Urban, Urban, Suburban, Suburban, Urban, Urban, Urban, Urban, Urban, Urban, Urban, Urban, Urban, Urban, Urban, Urban, Urban, Urban, Urban, Urban, Urban, Urban, Urban, Urban, Urban, Urban, Urban, Suburban, Suburban, Urban, Urban'\n",
      " 'Urban, Urban, Urban, Urban, Urban, Urban, Suburban, Suburban, Urban, Urban, Urban, Urban, Urban, Urban, Urban, Urban, Urban, Urban, Urban, Urban, Urban, Urban, Urban, Urban, Urban, Urban, Urban, Urban, Urban, Urban, Urban, Suburban, Suburban, Urban, Urban'\n",
      " 'Urban, Urban, Urban, Urban, Urban, Urban, Urban, Suburban, Suburban, Urban, Urban, Urban, Urban, Urban, Urban, Urban, Urban, Urban, Urban, Urban, Urban, Urban, Urban, Urban, Urban, Urban, Urban, Urban, Urban, Urban, Urban, Suburban, Suburban, Urban, Urban'\n",
      " 'Urban, Urban, Urban, Urban, Suburban, Suburban'\n",
      " 'Rural, Rural, Urban, Urban' 'Suburban, Suburban, Suburban, Suburban'\n",
      " 'Suburban, Urban, Suburban, Urban, Urban, Suburban, Urban, Urban'\n",
      " 'Suburban, Urban, Suburban, Urban, Urban, Suburban, Urban, Urban, Urban'\n",
      " 'Urban, Suburban, Urban, Urban, Suburban, Urban, Urban'\n",
      " 'Urban, Suburban, Urban, Urban, Urban, Urban, Urban'\n",
      " 'Urban, Urban, Suburban, Urban, Suburban, Urban, Urban, Urban, Urban, Urban, Suburban, Urban, Urban, Urban'\n",
      " 'Urban, Urban, Urban, Suburban, Urban, Suburban, Urban, Urban, Urban, Urban, Urban, Suburban, Urban, Urban, Urban'\n",
      " 'Urban, Urban, Urban, Urban, Suburban, Urban, Suburban, Urban, Urban, Urban, Urban, Urban, Suburban, Urban, Urban'\n",
      " 'Urban, Urban, Urban, Suburban, Urban, Suburban, Urban, Urban, Urban, Urban, Urban, Suburban, Urban, Urban'\n",
      " 'Urban, Urban, Urban, Urban, Suburban, Urban, Suburban, Urban, Urban, Urban, Urban, Suburban, Urban, Urban'\n",
      " 'Suburban, Urban, Suburban, Suburban'\n",
      " 'Suburban, Urban, Suburban, Suburban, Urban, Suburban'\n",
      " 'Residential, Residential' 'Suburban, Urban, Urban, Suburban, Suburban'\n",
      " 'Urban, Urban, Urban, Rural, Urban, Urban, Suburban, Urban, Urban, Urban, Urban, Urban, Suburban'\n",
      " 'Rural, Urban, Rural, Suburban, Suburban'\n",
      " 'Rural, Suburban, Urban, Rural, Suburban, Suburban'\n",
      " 'Suburban, Urban, Rural, Suburban, Suburban' 'Suburban, Suburban, Urban'\n",
      " 'Suburban, Urban, Suburban, Suburban, Urban, Urban, Urban, Rural'\n",
      " 'Suburban, Urban, Suburban, Suburban, Urban, Rural'\n",
      " 'Urban, Urban, Urban, Suburban, Suburban, Suburban, Urban, Urban'\n",
      " 'Urban, Urban, Urban, Suburban, Suburban, Urban'\n",
      " 'Urban, Urban, Urban, Suburban, Suburban, Urban, Urban'\n",
      " 'Urban, Urban, Urban, Suburban, Suburban, Suburban, Urban'\n",
      " 'Traffic, Traffic' 'Suburban, Urban, Urban, Suburban, Urban'\n",
      " 'Suburban, Urban, Urban, Suburban, Urban, Suburban'\n",
      " 'Suburban, Urban, Urban, Urban, Urban, Rural, Urban'\n",
      " 'Suburban, Urban, Urban, Urban, Rural, Urban, Urban'\n",
      " 'Urban, Urban, Urban, Suburban, Urban, Urban, Urban, Urban, Urban, Urban, Urban, Urban, Urban, Urban, Urban, Urban, Urban'\n",
      " 'Urban, Urban, Urban, Suburban, Urban, Urban, Urban, Urban, Urban, Urban, Urban, Urban, Urban, Urban, Urban, Urban, Urban, Urban'\n",
      " 'Urban, Urban, Urban, Suburban, Urban, Urban, Urban, Urban, Urban, Urban, Urban, Urban, Urban, Urban, Urban, Urban, Urban, Urban, Urban'\n",
      " 'Urban, Urban, Urban, Urban, Urban, Urban, Urban, Urban, Urban, Urban, Urban, Urban, Urban, Urban, Urban, Urban, Urban, Urban, Urban, Urban, Urban, Urban, Urban'\n",
      " 'Urban, Urban, Urban, Urban, Urban, Urban, Urban, Urban, Urban, Urban, Urban, Urban, Urban, Urban, Urban, Urban, Urban, Urban, Urban, Urban, Urban, Urban, Urban, Urban'\n",
      " 'Urban, Urban, Urban, Urban, Urban, Urban, Urban, Urban, Urban, Urban, Urban, Urban, Urban, Urban, Urban, Urban, Urban, Urban, Urban'\n",
      " 'Suburban, Suburban, Urban, Urban'\n",
      " 'Urban, Urban, Urban, Urban, Urban, Urban, Suburban, Urban'\n",
      " 'Urban, Urban, Urban, Urban, Urban, Urban, Urban, Urban, Urban, Urban, Urban, Urban, Urban, Urban, Urban, Urban, Urban, Urban'\n",
      " 'Suburban, Urban, Urban, Urban, Urban, Urban, Urban, Urban, Urban, Urban'\n",
      " 'Suburban, Suburban, Urban, Suburban, Urban, Urban'\n",
      " 'Suburban, Suburban, Suburban, Urban, Suburban, Urban, Urban'\n",
      " 'Suburban, Suburban, Urban, Suburban, Urban'\n",
      " 'Suburban, Suburban, Urban, Suburban, Urban, Rural, Urban'\n",
      " 'Urban, Suburban, Urban, Suburban, Urban' 'Suburban, Urban, Rural'\n",
      " 'Rural, Suburban, Urban' 'Urban, Rural, Urban, Urban'\n",
      " 'Urban, Urban, Urban, Urban, Suburban, Suburban, Urban, Suburban, Urban'\n",
      " 'Urban, Urban, Urban, Urban, Suburban, Suburban, Urban, Suburban, Urban, Rural'\n",
      " 'Urban, Urban, Urban, Urban, Suburban, Suburban, Urban, Suburban, Urban, Suburban'\n",
      " 'Urban, Urban, Urban, Urban, Suburban, Suburban, Urban, Suburban, Urban, Suburban, Urban'\n",
      " 'Suburban, Urban, Suburban, Urban, Urban, Urban, Urban, Urban'\n",
      " 'Suburban, Suburban, Suburban, Urban, Suburban, Urban, Urban, Urban, Urban, Urban'\n",
      " 'Urban Traffic, Residential And Commercial Area, Residential And Commercial Area, Residential And Commercial Area, Residential And Commercial Area, Residential And Commercial Area, Residential And Commercial Area'\n",
      " 'Residential And Commercial Area, Urban Traffic, Residential And Commercial Area, Residential And Commercial Area, Residential And Commercial Area, Residential And Commercial Area, Residential And Commercial Area, Residential And Commercial Area, Residential And Commercial Area'\n",
      " 'Residential And Commercial Area, Residential And Commercial Area, Urban Traffic, Residential And Commercial Area, Residential And Commercial Area, Residential And Commercial Area, Residential And Commercial Area, Residential And Commercial Area, Residential And Commercial Area'\n",
      " 'Residential And Commercial Area, Residential And Commercial Area, Urban Traffic, Residential And Commercial Area, Residential And Commercial Area, Residential And Commercial Area, Residential And Commercial Area, Residential And Commercial Area, Residential And Commercial Area, Residential And Commercial Area'\n",
      " 'Residential And Commercial Area, Residential And Commercial Area, Urban Traffic, Residential And Commercial Area, Residential And Commercial Area, Residential And Commercial Area, Residential And Commercial Area, Residential And Commercial Area, Residential And Commercial Area, Residential And Commercial Area, Residential And Commercial Area'\n",
      " 'Residential And Commercial Area, Residential And Commercial Area, Residential And Commercial Area, Residential And Commercial Area, Residential And Commercial Area, Residential And Commercial Area, Residential And Commercial Area, Residential And Commercial Area, Residential And Commercial Area'\n",
      " 'Residential And Commercial Area, Residential And Commercial Area, Residential And Commercial Area, Urban Traffic, Residential And Commercial Area, Residential And Commercial Area, Residential And Commercial Area, Residential And Commercial Area, Residential And Commercial Area, Residential And Commercial Area, Urban Traffic, Residential And Commercial Area'\n",
      " 'Residential And Commercial Area, Residential And Commercial Area, Residential And Commercial Area, Urban Traffic, Residential And Commercial Area, Residential And Commercial Area, Residential And Commercial Area, Urban Traffic, Residential And Commercial Area, Residential And Commercial Area, Residential And Commercial Area, Urban Traffic, Residential And Commercial Area'\n",
      " 'Residential And Commercial Area, Residential And Commercial Area, Residential And Commercial Area, Urban Traffic, Residential And Commercial Area, Residential And Commercial Area, Residential And Commercial Area, Urban Traffic, Residential And Commercial Area, Residential And Commercial Area, Residential And Commercial Area, Residential And Commercial Area'\n",
      " 'Residential And Commercial Area, Residential And Commercial Area, Residential And Commercial Area, Urban Traffic, Residential And Commercial Area, Residential And Commercial Area, Urban Traffic, Residential And Commercial Area, Residential And Commercial Area, Residential And Commercial Area, Urban Traffic, Residential And Commercial Area'\n",
      " 'Suburban, Suburban, Urban, Suburban, Suburban, Suburban, Urban, Urban, Suburban, Suburban, Urban, Urban, Urban, Urban, Suburban, Urban, Suburban, Urban, Suburban, Urban, Urban'\n",
      " 'Suburban, Suburban, Urban, Suburban, Suburban, Suburban, Urban, Urban, Suburban, Suburban, Urban, Urban, Urban, Urban, Suburban, Urban, Suburban, Suburban, Urban, Urban'\n",
      " 'Urban, Urban, Suburban, Suburban, Suburban'\n",
      " 'Suburban, Urban, Suburban, Urban, Urban, Urban, Suburban'\n",
      " 'Suburban, Urban, Suburban, Urban, Urban, Urban, Suburban, Urban'\n",
      " 'Urban, Urban, Industrial' 'Urban, Urban, Suburban, Urban, Rural'\n",
      " 'Background, Background, Traffic, Traffic, Traffic']\n",
      "[246146. 247604.     nan ...  18677.  41574.  32448.]\n",
      "[43.3679     43.36803333 43.370375   ... 37.337175   37.3372\n",
      " 23.01277778]\n",
      "[ -8.41857114  -8.41823333  -8.4229     ... 126.7241028  126.7241\n",
      " 113.7944444 ]\n"
     ]
    }
   ],
   "source": [
    "for col in df.columns:\n",
    "  print(df[col].unique())"
   ]
  },
  {
   "cell_type": "code",
   "execution_count": 30,
   "id": "f3f517a5",
   "metadata": {},
   "outputs": [
    {
     "data": {
      "text/plain": [
       "0"
      ]
     },
     "execution_count": 30,
     "metadata": {},
     "output_type": "execute_result"
    }
   ],
   "source": [
    "df.duplicated().sum()"
   ]
  },
  {
   "cell_type": "markdown",
   "id": "e75cdc7f",
   "metadata": {},
   "source": [
    "## Outliers"
   ]
  },
  {
   "cell_type": "code",
   "execution_count": 12,
   "id": "ad270bc5",
   "metadata": {},
   "outputs": [
    {
     "data": {
      "text/plain": [
       "<Axes: >"
      ]
     },
     "execution_count": 12,
     "metadata": {},
     "output_type": "execute_result"
    },
    {
     "data": {
      "image/png": "[encoded data removed]",
      "text/plain": [
       "<Figure size 640x480 with 1 Axes>"
      ]
     },
     "metadata": {},
     "output_type": "display_data"
    }
   ],
   "source": [
    "df.boxplot()"
   ]
  },
  {
   "cell_type": "markdown",
   "id": "db50bcd4",
   "metadata": {},
   "source": [
    "## target balance (classification only!)"
   ]
  },
  {
   "cell_type": "code",
   "execution_count": 13,
   "id": "1c98869f",
   "metadata": {},
   "outputs": [
    {
     "data": {
      "text/html": [
       "<div>\n",
       "<style scoped>\n",
       "    .dataframe tbody tr th:only-of-type {\n",
       "        vertical-align: middle;\n",
       "    }\n",
       "\n",
       "    .dataframe tbody tr th {\n",
       "        vertical-align: top;\n",
       "    }\n",
       "\n",
       "    .dataframe thead th {\n",
       "        text-align: right;\n",
       "    }\n",
       "</style>\n",
       "<table border=\"1\" class=\"dataframe\">\n",
       "  <thead>\n",
       "    <tr style=\"text-align: right;\">\n",
       "      <th></th>\n",
       "      <th>who_region</th>\n",
       "      <th>iso3</th>\n",
       "      <th>city</th>\n",
       "      <th>year</th>\n",
       "      <th>version</th>\n",
       "      <th>pm10_concentration</th>\n",
       "      <th>pm25_concentration</th>\n",
       "      <th>no2_concentration</th>\n",
       "      <th>pm10_tempcov</th>\n",
       "      <th>pm25_tempcov</th>\n",
       "      <th>no2_tempcov</th>\n",
       "      <th>type_of_stations</th>\n",
       "      <th>population</th>\n",
       "      <th>latitude</th>\n",
       "      <th>longitude</th>\n",
       "    </tr>\n",
       "  </thead>\n",
       "  <tbody>\n",
       "    <tr>\n",
       "      <th>0</th>\n",
       "      <td>4_Eur</td>\n",
       "      <td>ESP</td>\n",
       "      <td>A Coruna/ESP</td>\n",
       "      <td>2013.0</td>\n",
       "      <td>V4.0 (2018), V4.0 (2018), V4.0 (2018), V4.0 (2...</td>\n",
       "      <td>23.238</td>\n",
       "      <td>11.491</td>\n",
       "      <td>28.841</td>\n",
       "      <td>87.0</td>\n",
       "      <td>46.0</td>\n",
       "      <td>93.0</td>\n",
       "      <td>Urban, Urban, Suburban</td>\n",
       "      <td>246146.0</td>\n",
       "      <td>43.367900</td>\n",
       "      <td>-8.418571</td>\n",
       "    </tr>\n",
       "    <tr>\n",
       "      <th>1</th>\n",
       "      <td>4_Eur</td>\n",
       "      <td>ESP</td>\n",
       "      <td>A Coruna/ESP</td>\n",
       "      <td>2014.0</td>\n",
       "      <td>V6.0  (2023), V6.0  (2023), V6.0  (2023)</td>\n",
       "      <td>27.476</td>\n",
       "      <td>15.878</td>\n",
       "      <td>19.575</td>\n",
       "      <td>96.0</td>\n",
       "      <td>88.0</td>\n",
       "      <td>95.0</td>\n",
       "      <td>Urban, Urban, Suburban</td>\n",
       "      <td>247604.0</td>\n",
       "      <td>43.368033</td>\n",
       "      <td>-8.418233</td>\n",
       "    </tr>\n",
       "    <tr>\n",
       "      <th>2</th>\n",
       "      <td>4_Eur</td>\n",
       "      <td>ESP</td>\n",
       "      <td>A Coruna/ESP</td>\n",
       "      <td>2015.0</td>\n",
       "      <td>V6.0  (2023), V6.0  (2023), V6.0  (2023), V6.0...</td>\n",
       "      <td>25.515</td>\n",
       "      <td>14.004</td>\n",
       "      <td>22.731</td>\n",
       "      <td>98.0</td>\n",
       "      <td>71.0</td>\n",
       "      <td>98.0</td>\n",
       "      <td>Urban, Urban, Suburban, Suburban</td>\n",
       "      <td>247604.0</td>\n",
       "      <td>43.370375</td>\n",
       "      <td>-8.422900</td>\n",
       "    </tr>\n",
       "    <tr>\n",
       "      <th>3</th>\n",
       "      <td>4_Eur</td>\n",
       "      <td>ESP</td>\n",
       "      <td>A Coruna/ESP</td>\n",
       "      <td>2016.0</td>\n",
       "      <td>V6.0  (2023), V6.0  (2023), V6.0  (2023), V6.0...</td>\n",
       "      <td>23.057</td>\n",
       "      <td>13.160</td>\n",
       "      <td>20.204</td>\n",
       "      <td>98.0</td>\n",
       "      <td>98.0</td>\n",
       "      <td>98.0</td>\n",
       "      <td>Urban, Urban, Suburban, Suburban</td>\n",
       "      <td>247604.0</td>\n",
       "      <td>43.370375</td>\n",
       "      <td>-8.422900</td>\n",
       "    </tr>\n",
       "    <tr>\n",
       "      <th>4</th>\n",
       "      <td>4_Eur</td>\n",
       "      <td>ESP</td>\n",
       "      <td>A Coruna/ESP</td>\n",
       "      <td>2017.0</td>\n",
       "      <td>V6.0  (2023), V6.0  (2023), V6.0  (2023), V6.0...</td>\n",
       "      <td>26.849</td>\n",
       "      <td>14.114</td>\n",
       "      <td>21.543</td>\n",
       "      <td>97.0</td>\n",
       "      <td>97.0</td>\n",
       "      <td>98.0</td>\n",
       "      <td>Urban, Urban, Suburban, Suburban</td>\n",
       "      <td>247604.0</td>\n",
       "      <td>43.370375</td>\n",
       "      <td>-8.422900</td>\n",
       "    </tr>\n",
       "  </tbody>\n",
       "</table>\n",
       "</div>"
      ],
      "text/plain": [
       "  who_region iso3          city    year  \\\n",
       "0      4_Eur  ESP  A Coruna/ESP  2013.0   \n",
       "1      4_Eur  ESP  A Coruna/ESP  2014.0   \n",
       "2      4_Eur  ESP  A Coruna/ESP  2015.0   \n",
       "3      4_Eur  ESP  A Coruna/ESP  2016.0   \n",
       "4      4_Eur  ESP  A Coruna/ESP  2017.0   \n",
       "\n",
       "                                             version  pm10_concentration  \\\n",
       "0  V4.0 (2018), V4.0 (2018), V4.0 (2018), V4.0 (2...              23.238   \n",
       "1           V6.0  (2023), V6.0  (2023), V6.0  (2023)              27.476   \n",
       "2  V6.0  (2023), V6.0  (2023), V6.0  (2023), V6.0...              25.515   \n",
       "3  V6.0  (2023), V6.0  (2023), V6.0  (2023), V6.0...              23.057   \n",
       "4  V6.0  (2023), V6.0  (2023), V6.0  (2023), V6.0...              26.849   \n",
       "\n",
       "   pm25_concentration  no2_concentration  pm10_tempcov  pm25_tempcov  \\\n",
       "0              11.491             28.841          87.0          46.0   \n",
       "1              15.878             19.575          96.0          88.0   \n",
       "2              14.004             22.731          98.0          71.0   \n",
       "3              13.160             20.204          98.0          98.0   \n",
       "4              14.114             21.543          97.0          97.0   \n",
       "\n",
       "   no2_tempcov                  type_of_stations  population   latitude  \\\n",
       "0         93.0            Urban, Urban, Suburban    246146.0  43.367900   \n",
       "1         95.0            Urban, Urban, Suburban    247604.0  43.368033   \n",
       "2         98.0  Urban, Urban, Suburban, Suburban    247604.0  43.370375   \n",
       "3         98.0  Urban, Urban, Suburban, Suburban    247604.0  43.370375   \n",
       "4         98.0  Urban, Urban, Suburban, Suburban    247604.0  43.370375   \n",
       "\n",
       "   longitude  \n",
       "0  -8.418571  \n",
       "1  -8.418233  \n",
       "2  -8.422900  \n",
       "3  -8.422900  \n",
       "4  -8.422900  "
      ]
     },
     "execution_count": 13,
     "metadata": {},
     "output_type": "execute_result"
    }
   ],
   "source": [
    "df.head()\n"
   ]
  },
  {
   "cell_type": "code",
   "execution_count": 9,
   "id": "112096b3",
   "metadata": {},
   "outputs": [
    {
     "data": {
      "text/plain": [
       "0    0.616162\n",
       "1    0.383838\n",
       "Name: Survived, dtype: float64"
      ]
     },
     "execution_count": 9,
     "metadata": {},
     "output_type": "execute_result"
    }
   ],
   "source": [
    "df.Survived.value_counts() / len(df)"
   ]
  },
  {
   "cell_type": "markdown",
   "id": "7f200a35",
   "metadata": {},
   "source": [
    "Relatively balanced"
   ]
  },
  {
   "cell_type": "markdown",
   "id": "b6c59168",
   "metadata": {},
   "source": [
    "# Preprocessing"
   ]
  },
  {
   "cell_type": "code",
   "execution_count": null,
   "id": "150741f8",
   "metadata": {},
   "outputs": [],
   "source": [
    "# Handling missing data\n",
    "# Handling outliers\n",
    "# Encoding\n",
    "# Scaling\n",
    "# Feature engineering."
   ]
  },
  {
   "cell_type": "markdown",
   "id": "8d985fc1",
   "metadata": {},
   "source": [
    "## Drop too complex features for now..."
   ]
  },
  {
   "cell_type": "code",
   "execution_count": 39,
   "id": "2121ce30",
   "metadata": {},
   "outputs": [],
   "source": [
    "df.drop(columns=['Ticket','Name'], inplace=True)"
   ]
  },
  {
   "cell_type": "markdown",
   "id": "71b5fb75",
   "metadata": {},
   "source": [
    "## Missing data"
   ]
  },
  {
   "cell_type": "code",
   "execution_count": 10,
   "id": "a494e777",
   "metadata": {},
   "outputs": [
    {
     "data": {
      "text/plain": [
       "Survived      0\n",
       "Pclass        0\n",
       "Name          0\n",
       "Sex           0\n",
       "Age         177\n",
       "SibSp         0\n",
       "Parch         0\n",
       "Ticket        0\n",
       "Fare          0\n",
       "Cabin       687\n",
       "Embarked      2\n",
       "dtype: int64"
      ]
     },
     "execution_count": 10,
     "metadata": {},
     "output_type": "execute_result"
    }
   ],
   "source": [
    "df.isnull().sum()"
   ]
  },
  {
   "cell_type": "code",
   "execution_count": 11,
   "id": "95611118",
   "metadata": {},
   "outputs": [
    {
     "data": {
      "text/html": [
       "<div>\n",
       "<style scoped>\n",
       "    .dataframe tbody tr th:only-of-type {\n",
       "        vertical-align: middle;\n",
       "    }\n",
       "\n",
       "    .dataframe tbody tr th {\n",
       "        vertical-align: top;\n",
       "    }\n",
       "\n",
       "    .dataframe thead th {\n",
       "        text-align: right;\n",
       "    }\n",
       "</style>\n",
       "<table border=\"1\" class=\"dataframe\">\n",
       "  <thead>\n",
       "    <tr style=\"text-align: right;\">\n",
       "      <th></th>\n",
       "      <th>Survived</th>\n",
       "      <th>Pclass</th>\n",
       "      <th>Name</th>\n",
       "      <th>Sex</th>\n",
       "      <th>Age</th>\n",
       "      <th>SibSp</th>\n",
       "      <th>Parch</th>\n",
       "      <th>Ticket</th>\n",
       "      <th>Fare</th>\n",
       "      <th>Cabin</th>\n",
       "      <th>Embarked</th>\n",
       "    </tr>\n",
       "  </thead>\n",
       "  <tbody>\n",
       "    <tr>\n",
       "      <th>0</th>\n",
       "      <td>0</td>\n",
       "      <td>3</td>\n",
       "      <td>Braund, Mr. Owen Harris</td>\n",
       "      <td>male</td>\n",
       "      <td>22.0</td>\n",
       "      <td>1</td>\n",
       "      <td>0</td>\n",
       "      <td>A/5 21171</td>\n",
       "      <td>7.2500</td>\n",
       "      <td>NaN</td>\n",
       "      <td>S</td>\n",
       "    </tr>\n",
       "    <tr>\n",
       "      <th>1</th>\n",
       "      <td>1</td>\n",
       "      <td>1</td>\n",
       "      <td>Cumings, Mrs. John Bradley (Florence Briggs Th...</td>\n",
       "      <td>female</td>\n",
       "      <td>38.0</td>\n",
       "      <td>1</td>\n",
       "      <td>0</td>\n",
       "      <td>PC 17599</td>\n",
       "      <td>71.2833</td>\n",
       "      <td>C85</td>\n",
       "      <td>C</td>\n",
       "    </tr>\n",
       "    <tr>\n",
       "      <th>2</th>\n",
       "      <td>1</td>\n",
       "      <td>3</td>\n",
       "      <td>Heikkinen, Miss. Laina</td>\n",
       "      <td>female</td>\n",
       "      <td>26.0</td>\n",
       "      <td>0</td>\n",
       "      <td>0</td>\n",
       "      <td>STON/O2. 3101282</td>\n",
       "      <td>7.9250</td>\n",
       "      <td>NaN</td>\n",
       "      <td>S</td>\n",
       "    </tr>\n",
       "    <tr>\n",
       "      <th>3</th>\n",
       "      <td>1</td>\n",
       "      <td>1</td>\n",
       "      <td>Futrelle, Mrs. Jacques Heath (Lily May Peel)</td>\n",
       "      <td>female</td>\n",
       "      <td>35.0</td>\n",
       "      <td>1</td>\n",
       "      <td>0</td>\n",
       "      <td>113803</td>\n",
       "      <td>53.1000</td>\n",
       "      <td>C123</td>\n",
       "      <td>S</td>\n",
       "    </tr>\n",
       "    <tr>\n",
       "      <th>4</th>\n",
       "      <td>0</td>\n",
       "      <td>3</td>\n",
       "      <td>Allen, Mr. William Henry</td>\n",
       "      <td>male</td>\n",
       "      <td>35.0</td>\n",
       "      <td>0</td>\n",
       "      <td>0</td>\n",
       "      <td>373450</td>\n",
       "      <td>8.0500</td>\n",
       "      <td>NaN</td>\n",
       "      <td>S</td>\n",
       "    </tr>\n",
       "  </tbody>\n",
       "</table>\n",
       "</div>"
      ],
      "text/plain": [
       "   Survived  Pclass                                               Name  \\\n",
       "0         0       3                            Braund, Mr. Owen Harris   \n",
       "1         1       1  Cumings, Mrs. John Bradley (Florence Briggs Th...   \n",
       "2         1       3                             Heikkinen, Miss. Laina   \n",
       "3         1       1       Futrelle, Mrs. Jacques Heath (Lily May Peel)   \n",
       "4         0       3                           Allen, Mr. William Henry   \n",
       "\n",
       "      Sex   Age  SibSp  Parch            Ticket     Fare Cabin Embarked  \n",
       "0    male  22.0      1      0         A/5 21171   7.2500   NaN        S  \n",
       "1  female  38.0      1      0          PC 17599  71.2833   C85        C  \n",
       "2  female  26.0      0      0  STON/O2. 3101282   7.9250   NaN        S  \n",
       "3  female  35.0      1      0            113803  53.1000  C123        S  \n",
       "4    male  35.0      0      0            373450   8.0500   NaN        S  "
      ]
     },
     "execution_count": 11,
     "metadata": {},
     "output_type": "execute_result"
    }
   ],
   "source": [
    "df.head()"
   ]
  },
  {
   "cell_type": "markdown",
   "id": "1ac71219",
   "metadata": {},
   "source": [
    "### Cabin"
   ]
  },
  {
   "cell_type": "markdown",
   "id": "36130558",
   "metadata": {},
   "source": [
    "drop for now, too much engineering..."
   ]
  },
  {
   "cell_type": "code",
   "execution_count": 14,
   "id": "50dae7cd",
   "metadata": {},
   "outputs": [
    {
     "data": {
      "text/html": [
       "<div>\n",
       "<style scoped>\n",
       "    .dataframe tbody tr th:only-of-type {\n",
       "        vertical-align: middle;\n",
       "    }\n",
       "\n",
       "    .dataframe tbody tr th {\n",
       "        vertical-align: top;\n",
       "    }\n",
       "\n",
       "    .dataframe thead th {\n",
       "        text-align: right;\n",
       "    }\n",
       "</style>\n",
       "<table border=\"1\" class=\"dataframe\">\n",
       "  <thead>\n",
       "    <tr style=\"text-align: right;\">\n",
       "      <th></th>\n",
       "      <th>Survived</th>\n",
       "      <th>Pclass</th>\n",
       "      <th>Name</th>\n",
       "      <th>Sex</th>\n",
       "      <th>Age</th>\n",
       "      <th>SibSp</th>\n",
       "      <th>Parch</th>\n",
       "      <th>Ticket</th>\n",
       "      <th>Fare</th>\n",
       "      <th>Embarked</th>\n",
       "    </tr>\n",
       "  </thead>\n",
       "  <tbody>\n",
       "    <tr>\n",
       "      <th>0</th>\n",
       "      <td>0</td>\n",
       "      <td>3</td>\n",
       "      <td>Braund, Mr. Owen Harris</td>\n",
       "      <td>male</td>\n",
       "      <td>22.0</td>\n",
       "      <td>1</td>\n",
       "      <td>0</td>\n",
       "      <td>A/5 21171</td>\n",
       "      <td>7.2500</td>\n",
       "      <td>S</td>\n",
       "    </tr>\n",
       "    <tr>\n",
       "      <th>1</th>\n",
       "      <td>1</td>\n",
       "      <td>1</td>\n",
       "      <td>Cumings, Mrs. John Bradley (Florence Briggs Th...</td>\n",
       "      <td>female</td>\n",
       "      <td>38.0</td>\n",
       "      <td>1</td>\n",
       "      <td>0</td>\n",
       "      <td>PC 17599</td>\n",
       "      <td>71.2833</td>\n",
       "      <td>C</td>\n",
       "    </tr>\n",
       "    <tr>\n",
       "      <th>2</th>\n",
       "      <td>1</td>\n",
       "      <td>3</td>\n",
       "      <td>Heikkinen, Miss. Laina</td>\n",
       "      <td>female</td>\n",
       "      <td>26.0</td>\n",
       "      <td>0</td>\n",
       "      <td>0</td>\n",
       "      <td>STON/O2. 3101282</td>\n",
       "      <td>7.9250</td>\n",
       "      <td>S</td>\n",
       "    </tr>\n",
       "    <tr>\n",
       "      <th>3</th>\n",
       "      <td>1</td>\n",
       "      <td>1</td>\n",
       "      <td>Futrelle, Mrs. Jacques Heath (Lily May Peel)</td>\n",
       "      <td>female</td>\n",
       "      <td>35.0</td>\n",
       "      <td>1</td>\n",
       "      <td>0</td>\n",
       "      <td>113803</td>\n",
       "      <td>53.1000</td>\n",
       "      <td>S</td>\n",
       "    </tr>\n",
       "    <tr>\n",
       "      <th>4</th>\n",
       "      <td>0</td>\n",
       "      <td>3</td>\n",
       "      <td>Allen, Mr. William Henry</td>\n",
       "      <td>male</td>\n",
       "      <td>35.0</td>\n",
       "      <td>0</td>\n",
       "      <td>0</td>\n",
       "      <td>373450</td>\n",
       "      <td>8.0500</td>\n",
       "      <td>S</td>\n",
       "    </tr>\n",
       "  </tbody>\n",
       "</table>\n",
       "</div>"
      ],
      "text/plain": [
       "   Survived  Pclass                                               Name  \\\n",
       "0         0       3                            Braund, Mr. Owen Harris   \n",
       "1         1       1  Cumings, Mrs. John Bradley (Florence Briggs Th...   \n",
       "2         1       3                             Heikkinen, Miss. Laina   \n",
       "3         1       1       Futrelle, Mrs. Jacques Heath (Lily May Peel)   \n",
       "4         0       3                           Allen, Mr. William Henry   \n",
       "\n",
       "      Sex   Age  SibSp  Parch            Ticket     Fare Embarked  \n",
       "0    male  22.0      1      0         A/5 21171   7.2500        S  \n",
       "1  female  38.0      1      0          PC 17599  71.2833        C  \n",
       "2  female  26.0      0      0  STON/O2. 3101282   7.9250        S  \n",
       "3  female  35.0      1      0            113803  53.1000        S  \n",
       "4    male  35.0      0      0            373450   8.0500        S  "
      ]
     },
     "execution_count": 14,
     "metadata": {},
     "output_type": "execute_result"
    }
   ],
   "source": [
    "df.drop(columns=['Cabin'], inplace=True)\n",
    "\n",
    "df.head()"
   ]
  },
  {
   "cell_type": "markdown",
   "id": "7e1a7cb1",
   "metadata": {},
   "source": [
    "### Age"
   ]
  },
  {
   "cell_type": "code",
   "execution_count": 15,
   "id": "466db78c",
   "metadata": {},
   "outputs": [
    {
     "data": {
      "text/plain": [
       "Survived    0.000000\n",
       "Pclass      0.000000\n",
       "Name        0.000000\n",
       "Sex         0.000000\n",
       "Age         0.198653\n",
       "SibSp       0.000000\n",
       "Parch       0.000000\n",
       "Ticket      0.000000\n",
       "Fare        0.000000\n",
       "Embarked    0.002245\n",
       "dtype: float64"
      ]
     },
     "execution_count": 15,
     "metadata": {},
     "output_type": "execute_result"
    }
   ],
   "source": [
    "df.isnull().sum() / len(df)"
   ]
  },
  {
   "cell_type": "code",
   "execution_count": 32,
   "id": "90663566",
   "metadata": {},
   "outputs": [
    {
     "data": {
      "text/html": [
       "<style>#sk-container-id-6 {color: black;}#sk-container-id-6 pre{padding: 0;}#sk-container-id-6 div.sk-toggleable {background-color: white;}#sk-container-id-6 label.sk-toggleable__label {cursor: pointer;display: block;width: 100%;margin-bottom: 0;padding: 0.3em;box-sizing: border-box;text-align: center;}#sk-container-id-6 label.sk-toggleable__label-arrow:before {content: \"▸\";float: left;margin-right: 0.25em;color: #696969;}#sk-container-id-6 label.sk-toggleable__label-arrow:hover:before {color: black;}#sk-container-id-6 div.sk-estimator:hover label.sk-toggleable__label-arrow:before {color: black;}#sk-container-id-6 div.sk-toggleable__content {max-height: 0;max-width: 0;overflow: hidden;text-align: left;background-color: #f0f8ff;}#sk-container-id-6 div.sk-toggleable__content pre {margin: 0.2em;color: black;border-radius: 0.25em;background-color: #f0f8ff;}#sk-container-id-6 input.sk-toggleable__control:checked~div.sk-toggleable__content {max-height: 200px;max-width: 100%;overflow: auto;}#sk-container-id-6 input.sk-toggleable__control:checked~label.sk-toggleable__label-arrow:before {content: \"▾\";}#sk-container-id-6 div.sk-estimator input.sk-toggleable__control:checked~label.sk-toggleable__label {background-color: #d4ebff;}#sk-container-id-6 div.sk-label input.sk-toggleable__control:checked~label.sk-toggleable__label {background-color: #d4ebff;}#sk-container-id-6 input.sk-hidden--visually {border: 0;clip: rect(1px 1px 1px 1px);clip: rect(1px, 1px, 1px, 1px);height: 1px;margin: -1px;overflow: hidden;padding: 0;position: absolute;width: 1px;}#sk-container-id-6 div.sk-estimator {font-family: monospace;background-color: #f0f8ff;border: 1px dotted black;border-radius: 0.25em;box-sizing: border-box;margin-bottom: 0.5em;}#sk-container-id-6 div.sk-estimator:hover {background-color: #d4ebff;}#sk-container-id-6 div.sk-parallel-item::after {content: \"\";width: 100%;border-bottom: 1px solid gray;flex-grow: 1;}#sk-container-id-6 div.sk-label:hover label.sk-toggleable__label {background-color: #d4ebff;}#sk-container-id-6 div.sk-serial::before {content: \"\";position: absolute;border-left: 1px solid gray;box-sizing: border-box;top: 0;bottom: 0;left: 50%;z-index: 0;}#sk-container-id-6 div.sk-serial {display: flex;flex-direction: column;align-items: center;background-color: white;padding-right: 0.2em;padding-left: 0.2em;position: relative;}#sk-container-id-6 div.sk-item {position: relative;z-index: 1;}#sk-container-id-6 div.sk-parallel {display: flex;align-items: stretch;justify-content: center;background-color: white;position: relative;}#sk-container-id-6 div.sk-item::before, #sk-container-id-6 div.sk-parallel-item::before {content: \"\";position: absolute;border-left: 1px solid gray;box-sizing: border-box;top: 0;bottom: 0;left: 50%;z-index: -1;}#sk-container-id-6 div.sk-parallel-item {display: flex;flex-direction: column;z-index: 1;position: relative;background-color: white;}#sk-container-id-6 div.sk-parallel-item:first-child::after {align-self: flex-end;width: 50%;}#sk-container-id-6 div.sk-parallel-item:last-child::after {align-self: flex-start;width: 50%;}#sk-container-id-6 div.sk-parallel-item:only-child::after {width: 0;}#sk-container-id-6 div.sk-dashed-wrapped {border: 1px dashed gray;margin: 0 0.4em 0.5em 0.4em;box-sizing: border-box;padding-bottom: 0.4em;background-color: white;}#sk-container-id-6 div.sk-label label {font-family: monospace;font-weight: bold;display: inline-block;line-height: 1.2em;}#sk-container-id-6 div.sk-label-container {text-align: center;}#sk-container-id-6 div.sk-container {/* jupyter's `normalize.less` sets `[hidden] { display: none; }` but bootstrap.min.css set `[hidden] { display: none !important; }` so we also need the `!important` here to be able to override the default hidden behavior on the sphinx rendered scikit-learn.org. See: https://github.com/scikit-learn/scikit-learn/issues/21755 */display: inline-block !important;position: relative;}#sk-container-id-6 div.sk-text-repr-fallback {display: none;}</style><div id=\"sk-container-id-6\" class=\"sk-top-container\"><div class=\"sk-text-repr-fallback\"><pre>KNNImputer()</pre><b>In a Jupyter environment, please rerun this cell to show the HTML representation or trust the notebook. <br />On GitHub, the HTML representation is unable to render, please try loading this page with nbviewer.org.</b></div><div class=\"sk-container\" hidden><div class=\"sk-item\"><div class=\"sk-estimator sk-toggleable\"><input class=\"sk-toggleable__control sk-hidden--visually\" id=\"sk-estimator-id-6\" type=\"checkbox\" checked><label for=\"sk-estimator-id-6\" class=\"sk-toggleable__label sk-toggleable__label-arrow\">KNNImputer</label><div class=\"sk-toggleable__content\"><pre>KNNImputer()</pre></div></div></div></div></div>"
      ],
      "text/plain": [
       "KNNImputer()"
      ]
     },
     "execution_count": 32,
     "metadata": {},
     "output_type": "execute_result"
    }
   ],
   "source": [
    "from sklearn.impute import SimpleImputer\n",
    "from sklearn.impute import KNNImputer\n",
    "\n",
    "age_imputer = KNNImputer(n_neighbors=5)\n",
    "\n",
    "age_imputer.fit(df[['Age']])"
   ]
  },
  {
   "cell_type": "code",
   "execution_count": 33,
   "id": "28605a21",
   "metadata": {},
   "outputs": [
    {
     "data": {
      "text/html": [
       "<div>\n",
       "<style scoped>\n",
       "    .dataframe tbody tr th:only-of-type {\n",
       "        vertical-align: middle;\n",
       "    }\n",
       "\n",
       "    .dataframe tbody tr th {\n",
       "        vertical-align: top;\n",
       "    }\n",
       "\n",
       "    .dataframe thead th {\n",
       "        text-align: right;\n",
       "    }\n",
       "</style>\n",
       "<table border=\"1\" class=\"dataframe\">\n",
       "  <thead>\n",
       "    <tr style=\"text-align: right;\">\n",
       "      <th></th>\n",
       "      <th>Survived</th>\n",
       "      <th>Pclass</th>\n",
       "      <th>Name</th>\n",
       "      <th>Sex</th>\n",
       "      <th>Age</th>\n",
       "      <th>SibSp</th>\n",
       "      <th>Parch</th>\n",
       "      <th>Ticket</th>\n",
       "      <th>Fare</th>\n",
       "      <th>Embarked</th>\n",
       "    </tr>\n",
       "  </thead>\n",
       "  <tbody>\n",
       "    <tr>\n",
       "      <th>0</th>\n",
       "      <td>0</td>\n",
       "      <td>3</td>\n",
       "      <td>Braund, Mr. Owen Harris</td>\n",
       "      <td>male</td>\n",
       "      <td>22.0</td>\n",
       "      <td>1</td>\n",
       "      <td>0</td>\n",
       "      <td>A/5 21171</td>\n",
       "      <td>7.2500</td>\n",
       "      <td>S</td>\n",
       "    </tr>\n",
       "    <tr>\n",
       "      <th>1</th>\n",
       "      <td>1</td>\n",
       "      <td>1</td>\n",
       "      <td>Cumings, Mrs. John Bradley (Florence Briggs Th...</td>\n",
       "      <td>female</td>\n",
       "      <td>38.0</td>\n",
       "      <td>1</td>\n",
       "      <td>0</td>\n",
       "      <td>PC 17599</td>\n",
       "      <td>71.2833</td>\n",
       "      <td>C</td>\n",
       "    </tr>\n",
       "    <tr>\n",
       "      <th>2</th>\n",
       "      <td>1</td>\n",
       "      <td>3</td>\n",
       "      <td>Heikkinen, Miss. Laina</td>\n",
       "      <td>female</td>\n",
       "      <td>26.0</td>\n",
       "      <td>0</td>\n",
       "      <td>0</td>\n",
       "      <td>STON/O2. 3101282</td>\n",
       "      <td>7.9250</td>\n",
       "      <td>S</td>\n",
       "    </tr>\n",
       "    <tr>\n",
       "      <th>3</th>\n",
       "      <td>1</td>\n",
       "      <td>1</td>\n",
       "      <td>Futrelle, Mrs. Jacques Heath (Lily May Peel)</td>\n",
       "      <td>female</td>\n",
       "      <td>35.0</td>\n",
       "      <td>1</td>\n",
       "      <td>0</td>\n",
       "      <td>113803</td>\n",
       "      <td>53.1000</td>\n",
       "      <td>S</td>\n",
       "    </tr>\n",
       "    <tr>\n",
       "      <th>4</th>\n",
       "      <td>0</td>\n",
       "      <td>3</td>\n",
       "      <td>Allen, Mr. William Henry</td>\n",
       "      <td>male</td>\n",
       "      <td>35.0</td>\n",
       "      <td>0</td>\n",
       "      <td>0</td>\n",
       "      <td>373450</td>\n",
       "      <td>8.0500</td>\n",
       "      <td>S</td>\n",
       "    </tr>\n",
       "  </tbody>\n",
       "</table>\n",
       "</div>"
      ],
      "text/plain": [
       "   Survived  Pclass                                               Name  \\\n",
       "0         0       3                            Braund, Mr. Owen Harris   \n",
       "1         1       1  Cumings, Mrs. John Bradley (Florence Briggs Th...   \n",
       "2         1       3                             Heikkinen, Miss. Laina   \n",
       "3         1       1       Futrelle, Mrs. Jacques Heath (Lily May Peel)   \n",
       "4         0       3                           Allen, Mr. William Henry   \n",
       "\n",
       "      Sex   Age  SibSp  Parch            Ticket     Fare Embarked  \n",
       "0    male  22.0      1      0         A/5 21171   7.2500        S  \n",
       "1  female  38.0      1      0          PC 17599  71.2833        C  \n",
       "2  female  26.0      0      0  STON/O2. 3101282   7.9250        S  \n",
       "3  female  35.0      1      0            113803  53.1000        S  \n",
       "4    male  35.0      0      0            373450   8.0500        S  "
      ]
     },
     "execution_count": 33,
     "metadata": {},
     "output_type": "execute_result"
    }
   ],
   "source": [
    "df['Age'] = age_imputer.transform(df[['Age']])\n",
    "\n",
    "df.head()"
   ]
  },
  {
   "cell_type": "code",
   "execution_count": 34,
   "id": "b64bdced",
   "metadata": {},
   "outputs": [
    {
     "data": {
      "text/plain": [
       "0"
      ]
     },
     "execution_count": 34,
     "metadata": {},
     "output_type": "execute_result"
    }
   ],
   "source": [
    "df['Age'].isnull().sum()"
   ]
  },
  {
   "cell_type": "markdown",
   "id": "e8fa9b75",
   "metadata": {},
   "source": [
    "### Embarked"
   ]
  },
  {
   "cell_type": "code",
   "execution_count": 29,
   "id": "6bc21d6b",
   "metadata": {},
   "outputs": [
    {
     "data": {
      "text/plain": [
       "2"
      ]
     },
     "execution_count": 29,
     "metadata": {},
     "output_type": "execute_result"
    }
   ],
   "source": [
    "df['Embarked'].isnull().sum()"
   ]
  },
  {
   "cell_type": "code",
   "execution_count": 30,
   "id": "cdf03aa0",
   "metadata": {},
   "outputs": [
    {
     "data": {
      "text/plain": [
       "S    644\n",
       "C    168\n",
       "Q     77\n",
       "Name: Embarked, dtype: int64"
      ]
     },
     "execution_count": 30,
     "metadata": {},
     "output_type": "execute_result"
    }
   ],
   "source": [
    "df.Embarked.value_counts()"
   ]
  },
  {
   "cell_type": "code",
   "execution_count": 36,
   "id": "ff3c6141",
   "metadata": {},
   "outputs": [
    {
     "data": {
      "text/plain": [
       "S    644\n",
       "C    168\n",
       "Q     77\n",
       "U      2\n",
       "Name: Embarked, dtype: int64"
      ]
     },
     "execution_count": 36,
     "metadata": {},
     "output_type": "execute_result"
    }
   ],
   "source": [
    "import numpy as np\n",
    "\n",
    "df['Embarked'] = df['Embarked'].replace(np.nan, 'U')\n",
    "\n",
    "df.Embarked.value_counts()"
   ]
  },
  {
   "cell_type": "code",
   "execution_count": 37,
   "id": "b65d7c8e",
   "metadata": {},
   "outputs": [
    {
     "data": {
      "text/plain": [
       "Survived    0\n",
       "Pclass      0\n",
       "Name        0\n",
       "Sex         0\n",
       "Age         0\n",
       "SibSp       0\n",
       "Parch       0\n",
       "Ticket      0\n",
       "Fare        0\n",
       "Embarked    0\n",
       "dtype: int64"
      ]
     },
     "execution_count": 37,
     "metadata": {},
     "output_type": "execute_result"
    }
   ],
   "source": [
    "df.isnull().sum()"
   ]
  },
  {
   "cell_type": "markdown",
   "id": "343c62e7",
   "metadata": {},
   "source": [
    "## Encode"
   ]
  },
  {
   "cell_type": "code",
   "execution_count": 40,
   "id": "ca360a77",
   "metadata": {},
   "outputs": [
    {
     "data": {
      "text/html": [
       "<div>\n",
       "<style scoped>\n",
       "    .dataframe tbody tr th:only-of-type {\n",
       "        vertical-align: middle;\n",
       "    }\n",
       "\n",
       "    .dataframe tbody tr th {\n",
       "        vertical-align: top;\n",
       "    }\n",
       "\n",
       "    .dataframe thead th {\n",
       "        text-align: right;\n",
       "    }\n",
       "</style>\n",
       "<table border=\"1\" class=\"dataframe\">\n",
       "  <thead>\n",
       "    <tr style=\"text-align: right;\">\n",
       "      <th></th>\n",
       "      <th>Survived</th>\n",
       "      <th>Pclass</th>\n",
       "      <th>Sex</th>\n",
       "      <th>Age</th>\n",
       "      <th>SibSp</th>\n",
       "      <th>Parch</th>\n",
       "      <th>Fare</th>\n",
       "      <th>Embarked</th>\n",
       "    </tr>\n",
       "  </thead>\n",
       "  <tbody>\n",
       "    <tr>\n",
       "      <th>0</th>\n",
       "      <td>0</td>\n",
       "      <td>3</td>\n",
       "      <td>male</td>\n",
       "      <td>22.0</td>\n",
       "      <td>1</td>\n",
       "      <td>0</td>\n",
       "      <td>7.2500</td>\n",
       "      <td>S</td>\n",
       "    </tr>\n",
       "    <tr>\n",
       "      <th>1</th>\n",
       "      <td>1</td>\n",
       "      <td>1</td>\n",
       "      <td>female</td>\n",
       "      <td>38.0</td>\n",
       "      <td>1</td>\n",
       "      <td>0</td>\n",
       "      <td>71.2833</td>\n",
       "      <td>C</td>\n",
       "    </tr>\n",
       "    <tr>\n",
       "      <th>2</th>\n",
       "      <td>1</td>\n",
       "      <td>3</td>\n",
       "      <td>female</td>\n",
       "      <td>26.0</td>\n",
       "      <td>0</td>\n",
       "      <td>0</td>\n",
       "      <td>7.9250</td>\n",
       "      <td>S</td>\n",
       "    </tr>\n",
       "    <tr>\n",
       "      <th>3</th>\n",
       "      <td>1</td>\n",
       "      <td>1</td>\n",
       "      <td>female</td>\n",
       "      <td>35.0</td>\n",
       "      <td>1</td>\n",
       "      <td>0</td>\n",
       "      <td>53.1000</td>\n",
       "      <td>S</td>\n",
       "    </tr>\n",
       "    <tr>\n",
       "      <th>4</th>\n",
       "      <td>0</td>\n",
       "      <td>3</td>\n",
       "      <td>male</td>\n",
       "      <td>35.0</td>\n",
       "      <td>0</td>\n",
       "      <td>0</td>\n",
       "      <td>8.0500</td>\n",
       "      <td>S</td>\n",
       "    </tr>\n",
       "  </tbody>\n",
       "</table>\n",
       "</div>"
      ],
      "text/plain": [
       "   Survived  Pclass     Sex   Age  SibSp  Parch     Fare Embarked\n",
       "0         0       3    male  22.0      1      0   7.2500        S\n",
       "1         1       1  female  38.0      1      0  71.2833        C\n",
       "2         1       3  female  26.0      0      0   7.9250        S\n",
       "3         1       1  female  35.0      1      0  53.1000        S\n",
       "4         0       3    male  35.0      0      0   8.0500        S"
      ]
     },
     "execution_count": 40,
     "metadata": {},
     "output_type": "execute_result"
    }
   ],
   "source": [
    "df.head()"
   ]
  },
  {
   "cell_type": "code",
   "execution_count": 58,
   "id": "1e185e8c",
   "metadata": {},
   "outputs": [
    {
     "name": "stderr",
     "output_type": "stream",
     "text": [
      "/Users/benjaminauzanneau/.pyenv/versions/3.8.12/envs/lewagon_current/lib/python3.8/site-packages/sklearn/preprocessing/_encoders.py:975: FutureWarning: `sparse` was renamed to `sparse_output` in version 1.2 and will be removed in 1.4. `sparse_output` is ignored unless you leave `sparse` to its default value.\n",
      "  warnings.warn(\n"
     ]
    },
    {
     "data": {
      "text/plain": [
       "array([[1., 0., 0., 1., 0.],\n",
       "       [0., 1., 0., 0., 0.],\n",
       "       [0., 0., 0., 1., 0.],\n",
       "       ...,\n",
       "       [0., 0., 0., 1., 0.],\n",
       "       [1., 1., 0., 0., 0.],\n",
       "       [1., 0., 1., 0., 0.]])"
      ]
     },
     "execution_count": 58,
     "metadata": {},
     "output_type": "execute_result"
    }
   ],
   "source": [
    "from sklearn.preprocessing import OneHotEncoder\n",
    "\n",
    "encoder = OneHotEncoder(sparse=False, drop='if_binary')\n",
    "\n",
    "encoder.fit(df[['Sex','Embarked']])\n",
    "\n",
    "encoder.transform(df[['Sex','Embarked']])"
   ]
  },
  {
   "cell_type": "code",
   "execution_count": 59,
   "id": "8f9e4326",
   "metadata": {},
   "outputs": [
    {
     "data": {
      "text/plain": [
       "array(['Sex_male', 'Embarked_C', 'Embarked_Q', 'Embarked_S', 'Embarked_U'],\n",
       "      dtype=object)"
      ]
     },
     "execution_count": 59,
     "metadata": {},
     "output_type": "execute_result"
    }
   ],
   "source": [
    "encoder.get_feature_names_out()"
   ]
  },
  {
   "cell_type": "code",
   "execution_count": 60,
   "id": "ff89ddfd",
   "metadata": {},
   "outputs": [
    {
     "data": {
      "text/plain": [
       "['Sex_male', 'Embarked_C', 'Embarked_Q', 'Embarked_S', 'Embarked_U']"
      ]
     },
     "execution_count": 60,
     "metadata": {},
     "output_type": "execute_result"
    }
   ],
   "source": [
    "list(encoder.get_feature_names_out())"
   ]
  },
  {
   "cell_type": "code",
   "execution_count": 63,
   "id": "0a63e63a",
   "metadata": {},
   "outputs": [
    {
     "data": {
      "text/html": [
       "<div>\n",
       "<style scoped>\n",
       "    .dataframe tbody tr th:only-of-type {\n",
       "        vertical-align: middle;\n",
       "    }\n",
       "\n",
       "    .dataframe tbody tr th {\n",
       "        vertical-align: top;\n",
       "    }\n",
       "\n",
       "    .dataframe thead th {\n",
       "        text-align: right;\n",
       "    }\n",
       "</style>\n",
       "<table border=\"1\" class=\"dataframe\">\n",
       "  <thead>\n",
       "    <tr style=\"text-align: right;\">\n",
       "      <th></th>\n",
       "      <th>Survived</th>\n",
       "      <th>Pclass</th>\n",
       "      <th>Age</th>\n",
       "      <th>SibSp</th>\n",
       "      <th>Parch</th>\n",
       "      <th>Fare</th>\n",
       "      <th>Sex_male</th>\n",
       "      <th>Embarked_C</th>\n",
       "      <th>Embarked_Q</th>\n",
       "      <th>Embarked_S</th>\n",
       "      <th>Embarked_U</th>\n",
       "    </tr>\n",
       "  </thead>\n",
       "  <tbody>\n",
       "    <tr>\n",
       "      <th>0</th>\n",
       "      <td>0</td>\n",
       "      <td>3</td>\n",
       "      <td>22.0</td>\n",
       "      <td>1</td>\n",
       "      <td>0</td>\n",
       "      <td>7.2500</td>\n",
       "      <td>1.0</td>\n",
       "      <td>0.0</td>\n",
       "      <td>0.0</td>\n",
       "      <td>1.0</td>\n",
       "      <td>0.0</td>\n",
       "    </tr>\n",
       "    <tr>\n",
       "      <th>1</th>\n",
       "      <td>1</td>\n",
       "      <td>1</td>\n",
       "      <td>38.0</td>\n",
       "      <td>1</td>\n",
       "      <td>0</td>\n",
       "      <td>71.2833</td>\n",
       "      <td>0.0</td>\n",
       "      <td>1.0</td>\n",
       "      <td>0.0</td>\n",
       "      <td>0.0</td>\n",
       "      <td>0.0</td>\n",
       "    </tr>\n",
       "    <tr>\n",
       "      <th>2</th>\n",
       "      <td>1</td>\n",
       "      <td>3</td>\n",
       "      <td>26.0</td>\n",
       "      <td>0</td>\n",
       "      <td>0</td>\n",
       "      <td>7.9250</td>\n",
       "      <td>0.0</td>\n",
       "      <td>0.0</td>\n",
       "      <td>0.0</td>\n",
       "      <td>1.0</td>\n",
       "      <td>0.0</td>\n",
       "    </tr>\n",
       "    <tr>\n",
       "      <th>3</th>\n",
       "      <td>1</td>\n",
       "      <td>1</td>\n",
       "      <td>35.0</td>\n",
       "      <td>1</td>\n",
       "      <td>0</td>\n",
       "      <td>53.1000</td>\n",
       "      <td>0.0</td>\n",
       "      <td>0.0</td>\n",
       "      <td>0.0</td>\n",
       "      <td>1.0</td>\n",
       "      <td>0.0</td>\n",
       "    </tr>\n",
       "    <tr>\n",
       "      <th>4</th>\n",
       "      <td>0</td>\n",
       "      <td>3</td>\n",
       "      <td>35.0</td>\n",
       "      <td>0</td>\n",
       "      <td>0</td>\n",
       "      <td>8.0500</td>\n",
       "      <td>1.0</td>\n",
       "      <td>0.0</td>\n",
       "      <td>0.0</td>\n",
       "      <td>1.0</td>\n",
       "      <td>0.0</td>\n",
       "    </tr>\n",
       "  </tbody>\n",
       "</table>\n",
       "</div>"
      ],
      "text/plain": [
       "   Survived  Pclass   Age  SibSp  Parch     Fare  Sex_male  Embarked_C  \\\n",
       "0         0       3  22.0      1      0   7.2500       1.0         0.0   \n",
       "1         1       1  38.0      1      0  71.2833       0.0         1.0   \n",
       "2         1       3  26.0      0      0   7.9250       0.0         0.0   \n",
       "3         1       1  35.0      1      0  53.1000       0.0         0.0   \n",
       "4         0       3  35.0      0      0   8.0500       1.0         0.0   \n",
       "\n",
       "   Embarked_Q  Embarked_S  Embarked_U  \n",
       "0         0.0         1.0         0.0  \n",
       "1         0.0         0.0         0.0  \n",
       "2         0.0         1.0         0.0  \n",
       "3         0.0         1.0         0.0  \n",
       "4         0.0         1.0         0.0  "
      ]
     },
     "execution_count": 63,
     "metadata": {},
     "output_type": "execute_result"
    }
   ],
   "source": [
    "df[list(encoder.get_feature_names_out())] = encoder.transform(df[['Sex','Embarked']])\n",
    "\n",
    "df.drop(columns=['Sex','Embarked'], inplace=True)\n",
    "\n",
    "df.head()"
   ]
  },
  {
   "cell_type": "markdown",
   "id": "df0c1d3c",
   "metadata": {},
   "source": [
    "### Scale"
   ]
  },
  {
   "cell_type": "code",
   "execution_count": 66,
   "id": "a8baa60a",
   "metadata": {},
   "outputs": [
    {
     "data": {
      "text/html": [
       "<div>\n",
       "<style scoped>\n",
       "    .dataframe tbody tr th:only-of-type {\n",
       "        vertical-align: middle;\n",
       "    }\n",
       "\n",
       "    .dataframe tbody tr th {\n",
       "        vertical-align: top;\n",
       "    }\n",
       "\n",
       "    .dataframe thead th {\n",
       "        text-align: right;\n",
       "    }\n",
       "</style>\n",
       "<table border=\"1\" class=\"dataframe\">\n",
       "  <thead>\n",
       "    <tr style=\"text-align: right;\">\n",
       "      <th></th>\n",
       "      <th>Survived</th>\n",
       "      <th>Pclass</th>\n",
       "      <th>Age</th>\n",
       "      <th>SibSp</th>\n",
       "      <th>Parch</th>\n",
       "      <th>Fare</th>\n",
       "      <th>Sex_male</th>\n",
       "      <th>Embarked_C</th>\n",
       "      <th>Embarked_Q</th>\n",
       "      <th>Embarked_S</th>\n",
       "      <th>Embarked_U</th>\n",
       "    </tr>\n",
       "  </thead>\n",
       "  <tbody>\n",
       "    <tr>\n",
       "      <th>0</th>\n",
       "      <td>0</td>\n",
       "      <td>0.0</td>\n",
       "      <td>-0.461538</td>\n",
       "      <td>1.0</td>\n",
       "      <td>0.0</td>\n",
       "      <td>-0.312011</td>\n",
       "      <td>0.0</td>\n",
       "      <td>0.0</td>\n",
       "      <td>0.0</td>\n",
       "      <td>0.0</td>\n",
       "      <td>0.0</td>\n",
       "    </tr>\n",
       "    <tr>\n",
       "      <th>1</th>\n",
       "      <td>1</td>\n",
       "      <td>-2.0</td>\n",
       "      <td>0.769231</td>\n",
       "      <td>1.0</td>\n",
       "      <td>0.0</td>\n",
       "      <td>2.461242</td>\n",
       "      <td>-1.0</td>\n",
       "      <td>1.0</td>\n",
       "      <td>0.0</td>\n",
       "      <td>-1.0</td>\n",
       "      <td>0.0</td>\n",
       "    </tr>\n",
       "    <tr>\n",
       "      <th>2</th>\n",
       "      <td>1</td>\n",
       "      <td>0.0</td>\n",
       "      <td>-0.153846</td>\n",
       "      <td>0.0</td>\n",
       "      <td>0.0</td>\n",
       "      <td>-0.282777</td>\n",
       "      <td>-1.0</td>\n",
       "      <td>0.0</td>\n",
       "      <td>0.0</td>\n",
       "      <td>0.0</td>\n",
       "      <td>0.0</td>\n",
       "    </tr>\n",
       "    <tr>\n",
       "      <th>3</th>\n",
       "      <td>1</td>\n",
       "      <td>-2.0</td>\n",
       "      <td>0.538462</td>\n",
       "      <td>1.0</td>\n",
       "      <td>0.0</td>\n",
       "      <td>1.673732</td>\n",
       "      <td>-1.0</td>\n",
       "      <td>0.0</td>\n",
       "      <td>0.0</td>\n",
       "      <td>0.0</td>\n",
       "      <td>0.0</td>\n",
       "    </tr>\n",
       "    <tr>\n",
       "      <th>4</th>\n",
       "      <td>0</td>\n",
       "      <td>0.0</td>\n",
       "      <td>0.538462</td>\n",
       "      <td>0.0</td>\n",
       "      <td>0.0</td>\n",
       "      <td>-0.277363</td>\n",
       "      <td>0.0</td>\n",
       "      <td>0.0</td>\n",
       "      <td>0.0</td>\n",
       "      <td>0.0</td>\n",
       "      <td>0.0</td>\n",
       "    </tr>\n",
       "  </tbody>\n",
       "</table>\n",
       "</div>"
      ],
      "text/plain": [
       "   Survived  Pclass       Age  SibSp  Parch      Fare  Sex_male  Embarked_C  \\\n",
       "0         0     0.0 -0.461538    1.0    0.0 -0.312011       0.0         0.0   \n",
       "1         1    -2.0  0.769231    1.0    0.0  2.461242      -1.0         1.0   \n",
       "2         1     0.0 -0.153846    0.0    0.0 -0.282777      -1.0         0.0   \n",
       "3         1    -2.0  0.538462    1.0    0.0  1.673732      -1.0         0.0   \n",
       "4         0     0.0  0.538462    0.0    0.0 -0.277363       0.0         0.0   \n",
       "\n",
       "   Embarked_Q  Embarked_S  Embarked_U  \n",
       "0         0.0         0.0         0.0  \n",
       "1         0.0        -1.0         0.0  \n",
       "2         0.0         0.0         0.0  \n",
       "3         0.0         0.0         0.0  \n",
       "4         0.0         0.0         0.0  "
      ]
     },
     "execution_count": 66,
     "metadata": {},
     "output_type": "execute_result"
    }
   ],
   "source": [
    "from sklearn.preprocessing import RobustScaler\n",
    "\n",
    "scaler = RobustScaler()\n",
    "\n",
    "scaler.fit(df.drop(columns=['Survived']))\n",
    "\n",
    "df[list(df.drop(columns=['Survived']).columns)] = scaler.transform(df.drop(columns=['Survived']))\n",
    "\n",
    "df.head()"
   ]
  },
  {
   "cell_type": "markdown",
   "id": "0e9a419a",
   "metadata": {},
   "source": [
    "## Modelling"
   ]
  },
  {
   "cell_type": "markdown",
   "id": "8b161eff",
   "metadata": {},
   "source": [
    "## Split!"
   ]
  },
  {
   "cell_type": "code",
   "execution_count": 68,
   "id": "09ffde76",
   "metadata": {},
   "outputs": [],
   "source": [
    "from sklearn.model_selection import train_test_split\n",
    "\n",
    "X_train,X_test,y_train,y_test = train_test_split(df.drop(columns=['Survived']),\n",
    "                                                df['Survived'])"
   ]
  },
  {
   "cell_type": "code",
   "execution_count": 69,
   "id": "a6089ce4",
   "metadata": {},
   "outputs": [
    {
     "data": {
      "text/plain": [
       "668"
      ]
     },
     "execution_count": 69,
     "metadata": {},
     "output_type": "execute_result"
    }
   ],
   "source": [
    "len(X_train)"
   ]
  },
  {
   "cell_type": "markdown",
   "id": "8e5c35ae",
   "metadata": {},
   "source": [
    "## Baseline LogisticRegression"
   ]
  },
  {
   "cell_type": "code",
   "execution_count": 73,
   "id": "32928b03",
   "metadata": {},
   "outputs": [
    {
     "data": {
      "text/plain": [
       "0.7934871099050204"
      ]
     },
     "execution_count": 73,
     "metadata": {},
     "output_type": "execute_result"
    }
   ],
   "source": [
    "from sklearn.linear_model import LogisticRegression\n",
    "from sklearn.model_selection import cross_validate\n",
    "\n",
    "model = LogisticRegression()\n",
    "\n",
    "cv_results = cross_validate(\n",
    "    model,\n",
    "    X_train,\n",
    "    y_train,\n",
    "    cv=10\n",
    ")\n",
    "\n",
    "cv_results['test_score'].mean()"
   ]
  },
  {
   "cell_type": "markdown",
   "id": "c4d6cd7d",
   "metadata": {},
   "source": [
    "## Baseline SVM"
   ]
  },
  {
   "cell_type": "code",
   "execution_count": 75,
   "id": "0ee3d7dc",
   "metadata": {},
   "outputs": [
    {
     "data": {
      "text/plain": [
       "0.811420171867933"
      ]
     },
     "execution_count": 75,
     "metadata": {},
     "output_type": "execute_result"
    }
   ],
   "source": [
    "from sklearn.svm import SVC\n",
    "\n",
    "model = SVC()\n",
    "\n",
    "cv_results = cross_validate(\n",
    "    model,\n",
    "    X_train,\n",
    "    y_train,\n",
    "    cv=10\n",
    ")\n",
    "\n",
    "cv_results['test_score'].mean()"
   ]
  },
  {
   "cell_type": "markdown",
   "id": "a032ed6e",
   "metadata": {},
   "source": [
    "## Fine tune SVM"
   ]
  },
  {
   "cell_type": "code",
   "execution_count": 78,
   "id": "a0c13e9f",
   "metadata": {},
   "outputs": [
    {
     "name": "stdout",
     "output_type": "stream",
     "text": [
      "Fitting 3 folds for each of 10 candidates, totalling 30 fits\n"
     ]
    },
    {
     "data": {
      "text/html": [
       "<style>#sk-container-id-9 {color: black;}#sk-container-id-9 pre{padding: 0;}#sk-container-id-9 div.sk-toggleable {background-color: white;}#sk-container-id-9 label.sk-toggleable__label {cursor: pointer;display: block;width: 100%;margin-bottom: 0;padding: 0.3em;box-sizing: border-box;text-align: center;}#sk-container-id-9 label.sk-toggleable__label-arrow:before {content: \"▸\";float: left;margin-right: 0.25em;color: #696969;}#sk-container-id-9 label.sk-toggleable__label-arrow:hover:before {color: black;}#sk-container-id-9 div.sk-estimator:hover label.sk-toggleable__label-arrow:before {color: black;}#sk-container-id-9 div.sk-toggleable__content {max-height: 0;max-width: 0;overflow: hidden;text-align: left;background-color: #f0f8ff;}#sk-container-id-9 div.sk-toggleable__content pre {margin: 0.2em;color: black;border-radius: 0.25em;background-color: #f0f8ff;}#sk-container-id-9 input.sk-toggleable__control:checked~div.sk-toggleable__content {max-height: 200px;max-width: 100%;overflow: auto;}#sk-container-id-9 input.sk-toggleable__control:checked~label.sk-toggleable__label-arrow:before {content: \"▾\";}#sk-container-id-9 div.sk-estimator input.sk-toggleable__control:checked~label.sk-toggleable__label {background-color: #d4ebff;}#sk-container-id-9 div.sk-label input.sk-toggleable__control:checked~label.sk-toggleable__label {background-color: #d4ebff;}#sk-container-id-9 input.sk-hidden--visually {border: 0;clip: rect(1px 1px 1px 1px);clip: rect(1px, 1px, 1px, 1px);height: 1px;margin: -1px;overflow: hidden;padding: 0;position: absolute;width: 1px;}#sk-container-id-9 div.sk-estimator {font-family: monospace;background-color: #f0f8ff;border: 1px dotted black;border-radius: 0.25em;box-sizing: border-box;margin-bottom: 0.5em;}#sk-container-id-9 div.sk-estimator:hover {background-color: #d4ebff;}#sk-container-id-9 div.sk-parallel-item::after {content: \"\";width: 100%;border-bottom: 1px solid gray;flex-grow: 1;}#sk-container-id-9 div.sk-label:hover label.sk-toggleable__label {background-color: #d4ebff;}#sk-container-id-9 div.sk-serial::before {content: \"\";position: absolute;border-left: 1px solid gray;box-sizing: border-box;top: 0;bottom: 0;left: 50%;z-index: 0;}#sk-container-id-9 div.sk-serial {display: flex;flex-direction: column;align-items: center;background-color: white;padding-right: 0.2em;padding-left: 0.2em;position: relative;}#sk-container-id-9 div.sk-item {position: relative;z-index: 1;}#sk-container-id-9 div.sk-parallel {display: flex;align-items: stretch;justify-content: center;background-color: white;position: relative;}#sk-container-id-9 div.sk-item::before, #sk-container-id-9 div.sk-parallel-item::before {content: \"\";position: absolute;border-left: 1px solid gray;box-sizing: border-box;top: 0;bottom: 0;left: 50%;z-index: -1;}#sk-container-id-9 div.sk-parallel-item {display: flex;flex-direction: column;z-index: 1;position: relative;background-color: white;}#sk-container-id-9 div.sk-parallel-item:first-child::after {align-self: flex-end;width: 50%;}#sk-container-id-9 div.sk-parallel-item:last-child::after {align-self: flex-start;width: 50%;}#sk-container-id-9 div.sk-parallel-item:only-child::after {width: 0;}#sk-container-id-9 div.sk-dashed-wrapped {border: 1px dashed gray;margin: 0 0.4em 0.5em 0.4em;box-sizing: border-box;padding-bottom: 0.4em;background-color: white;}#sk-container-id-9 div.sk-label label {font-family: monospace;font-weight: bold;display: inline-block;line-height: 1.2em;}#sk-container-id-9 div.sk-label-container {text-align: center;}#sk-container-id-9 div.sk-container {/* jupyter's `normalize.less` sets `[hidden] { display: none; }` but bootstrap.min.css set `[hidden] { display: none !important; }` so we also need the `!important` here to be able to override the default hidden behavior on the sphinx rendered scikit-learn.org. See: https://github.com/scikit-learn/scikit-learn/issues/21755 */display: inline-block !important;position: relative;}#sk-container-id-9 div.sk-text-repr-fallback {display: none;}</style><div id=\"sk-container-id-9\" class=\"sk-top-container\"><div class=\"sk-text-repr-fallback\"><pre>RandomizedSearchCV(cv=3, estimator=SVC(), n_jobs=-1,\n",
       "                   param_distributions={&#x27;C&#x27;: &lt;scipy.stats._distn_infrastructure.rv_continuous_frozen object at 0x13229e850&gt;,\n",
       "                                        &#x27;class_weight&#x27;: [&#x27;balanced&#x27;, None],\n",
       "                                        &#x27;coef0&#x27;: &lt;scipy.stats._distn_infrastructure.rv_continuous_frozen object at 0x132416a30&gt;,\n",
       "                                        &#x27;degree&#x27;: &lt;scipy.stats._distn_infrastructure.rv_discrete_frozen object at 0x1324168e0&gt;,\n",
       "                                        &#x27;gamma&#x27;: &lt;scipy.stats._distn_infrastructure.rv_continuous_frozen object at 0x132416d90&gt;,\n",
       "                                        &#x27;kernel&#x27;: [&#x27;poly&#x27;, &#x27;rbf&#x27;, &#x27;linear&#x27;,\n",
       "                                                   &#x27;sigmoid&#x27;]},\n",
       "                   scoring=&#x27;accuracy&#x27;, verbose=2)</pre><b>In a Jupyter environment, please rerun this cell to show the HTML representation or trust the notebook. <br />On GitHub, the HTML representation is unable to render, please try loading this page with nbviewer.org.</b></div><div class=\"sk-container\" hidden><div class=\"sk-item sk-dashed-wrapped\"><div class=\"sk-label-container\"><div class=\"sk-label sk-toggleable\"><input class=\"sk-toggleable__control sk-hidden--visually\" id=\"sk-estimator-id-9\" type=\"checkbox\" ><label for=\"sk-estimator-id-9\" class=\"sk-toggleable__label sk-toggleable__label-arrow\">RandomizedSearchCV</label><div class=\"sk-toggleable__content\"><pre>RandomizedSearchCV(cv=3, estimator=SVC(), n_jobs=-1,\n",
       "                   param_distributions={&#x27;C&#x27;: &lt;scipy.stats._distn_infrastructure.rv_continuous_frozen object at 0x13229e850&gt;,\n",
       "                                        &#x27;class_weight&#x27;: [&#x27;balanced&#x27;, None],\n",
       "                                        &#x27;coef0&#x27;: &lt;scipy.stats._distn_infrastructure.rv_continuous_frozen object at 0x132416a30&gt;,\n",
       "                                        &#x27;degree&#x27;: &lt;scipy.stats._distn_infrastructure.rv_discrete_frozen object at 0x1324168e0&gt;,\n",
       "                                        &#x27;gamma&#x27;: &lt;scipy.stats._distn_infrastructure.rv_continuous_frozen object at 0x132416d90&gt;,\n",
       "                                        &#x27;kernel&#x27;: [&#x27;poly&#x27;, &#x27;rbf&#x27;, &#x27;linear&#x27;,\n",
       "                                                   &#x27;sigmoid&#x27;]},\n",
       "                   scoring=&#x27;accuracy&#x27;, verbose=2)</pre></div></div></div><div class=\"sk-parallel\"><div class=\"sk-parallel-item\"><div class=\"sk-item\"><div class=\"sk-label-container\"><div class=\"sk-label sk-toggleable\"><input class=\"sk-toggleable__control sk-hidden--visually\" id=\"sk-estimator-id-10\" type=\"checkbox\" ><label for=\"sk-estimator-id-10\" class=\"sk-toggleable__label sk-toggleable__label-arrow\">estimator: SVC</label><div class=\"sk-toggleable__content\"><pre>SVC()</pre></div></div></div><div class=\"sk-serial\"><div class=\"sk-item\"><div class=\"sk-estimator sk-toggleable\"><input class=\"sk-toggleable__control sk-hidden--visually\" id=\"sk-estimator-id-11\" type=\"checkbox\" ><label for=\"sk-estimator-id-11\" class=\"sk-toggleable__label sk-toggleable__label-arrow\">SVC</label><div class=\"sk-toggleable__content\"><pre>SVC()</pre></div></div></div></div></div></div></div></div></div></div>"
      ],
      "text/plain": [
       "RandomizedSearchCV(cv=3, estimator=SVC(), n_jobs=-1,\n",
       "                   param_distributions={'C': <scipy.stats._distn_infrastructure.rv_continuous_frozen object at 0x13229e850>,\n",
       "                                        'class_weight': ['balanced', None],\n",
       "                                        'coef0': <scipy.stats._distn_infrastructure.rv_continuous_frozen object at 0x132416a30>,\n",
       "                                        'degree': <scipy.stats._distn_infrastructure.rv_discrete_frozen object at 0x1324168e0>,\n",
       "                                        'gamma': <scipy.stats._distn_infrastructure.rv_continuous_frozen object at 0x132416d90>,\n",
       "                                        'kernel': ['poly', 'rbf', 'linear',\n",
       "                                                   'sigmoid']},\n",
       "                   scoring='accuracy', verbose=2)"
      ]
     },
     "execution_count": 78,
     "metadata": {},
     "output_type": "execute_result"
    }
   ],
   "source": [
    "from scipy import stats\n",
    "from sklearn.model_selection import RandomizedSearchCV\n",
    "\n",
    "# Instanciate model\n",
    "svc_model = SVC()\n",
    "\n",
    "# Hyperparameter Grid\n",
    "grid = {'C': stats.uniform(0.01,10),\n",
    "        'gamma':stats.uniform(0.01,10),\n",
    "        'coef0':stats.uniform(0.01,10),\n",
    "        'kernel': ['poly','rbf','linear','sigmoid'],\n",
    "        'degree':stats.randint(1,5),\n",
    "        'class_weight':['balanced', None]}\n",
    "\n",
    "# Instanciate Grid Search\n",
    "search = RandomizedSearchCV(svc_model,\n",
    "                            grid,\n",
    "                            scoring='accuracy',\n",
    "                            n_iter=10,  # number of draws\n",
    "                            cv=3,\n",
    "                            n_jobs=-1,\n",
    "                            verbose=2)\n",
    "\n",
    "# Fit data to Grid Search\n",
    "search.fit(X_train, y_train)"
   ]
  },
  {
   "cell_type": "code",
   "execution_count": 79,
   "id": "d941e204",
   "metadata": {},
   "outputs": [
    {
     "data": {
      "text/plain": [
       "{'C': 6.6371056741416785,\n",
       " 'class_weight': None,\n",
       " 'coef0': 2.5236388644198016,\n",
       " 'degree': 1,\n",
       " 'gamma': 1.0742959654435946,\n",
       " 'kernel': 'poly'}"
      ]
     },
     "execution_count": 79,
     "metadata": {},
     "output_type": "execute_result"
    }
   ],
   "source": [
    "search.best_params_"
   ]
  },
  {
   "cell_type": "code",
   "execution_count": 80,
   "id": "c194b216",
   "metadata": {},
   "outputs": [
    {
     "data": {
      "text/plain": [
       "0.7843763045556768"
      ]
     },
     "execution_count": 80,
     "metadata": {},
     "output_type": "execute_result"
    }
   ],
   "source": [
    "search.best_score_"
   ]
  },
  {
   "cell_type": "code",
   "execution_count": 81,
   "id": "b5fb8f47",
   "metadata": {},
   "outputs": [
    {
     "data": {
      "text/html": [
       "<style>#sk-container-id-10 {color: black;}#sk-container-id-10 pre{padding: 0;}#sk-container-id-10 div.sk-toggleable {background-color: white;}#sk-container-id-10 label.sk-toggleable__label {cursor: pointer;display: block;width: 100%;margin-bottom: 0;padding: 0.3em;box-sizing: border-box;text-align: center;}#sk-container-id-10 label.sk-toggleable__label-arrow:before {content: \"▸\";float: left;margin-right: 0.25em;color: #696969;}#sk-container-id-10 label.sk-toggleable__label-arrow:hover:before {color: black;}#sk-container-id-10 div.sk-estimator:hover label.sk-toggleable__label-arrow:before {color: black;}#sk-container-id-10 div.sk-toggleable__content {max-height: 0;max-width: 0;overflow: hidden;text-align: left;background-color: #f0f8ff;}#sk-container-id-10 div.sk-toggleable__content pre {margin: 0.2em;color: black;border-radius: 0.25em;background-color: #f0f8ff;}#sk-container-id-10 input.sk-toggleable__control:checked~div.sk-toggleable__content {max-height: 200px;max-width: 100%;overflow: auto;}#sk-container-id-10 input.sk-toggleable__control:checked~label.sk-toggleable__label-arrow:before {content: \"▾\";}#sk-container-id-10 div.sk-estimator input.sk-toggleable__control:checked~label.sk-toggleable__label {background-color: #d4ebff;}#sk-container-id-10 div.sk-label input.sk-toggleable__control:checked~label.sk-toggleable__label {background-color: #d4ebff;}#sk-container-id-10 input.sk-hidden--visually {border: 0;clip: rect(1px 1px 1px 1px);clip: rect(1px, 1px, 1px, 1px);height: 1px;margin: -1px;overflow: hidden;padding: 0;position: absolute;width: 1px;}#sk-container-id-10 div.sk-estimator {font-family: monospace;background-color: #f0f8ff;border: 1px dotted black;border-radius: 0.25em;box-sizing: border-box;margin-bottom: 0.5em;}#sk-container-id-10 div.sk-estimator:hover {background-color: #d4ebff;}#sk-container-id-10 div.sk-parallel-item::after {content: \"\";width: 100%;border-bottom: 1px solid gray;flex-grow: 1;}#sk-container-id-10 div.sk-label:hover label.sk-toggleable__label {background-color: #d4ebff;}#sk-container-id-10 div.sk-serial::before {content: \"\";position: absolute;border-left: 1px solid gray;box-sizing: border-box;top: 0;bottom: 0;left: 50%;z-index: 0;}#sk-container-id-10 div.sk-serial {display: flex;flex-direction: column;align-items: center;background-color: white;padding-right: 0.2em;padding-left: 0.2em;position: relative;}#sk-container-id-10 div.sk-item {position: relative;z-index: 1;}#sk-container-id-10 div.sk-parallel {display: flex;align-items: stretch;justify-content: center;background-color: white;position: relative;}#sk-container-id-10 div.sk-item::before, #sk-container-id-10 div.sk-parallel-item::before {content: \"\";position: absolute;border-left: 1px solid gray;box-sizing: border-box;top: 0;bottom: 0;left: 50%;z-index: -1;}#sk-container-id-10 div.sk-parallel-item {display: flex;flex-direction: column;z-index: 1;position: relative;background-color: white;}#sk-container-id-10 div.sk-parallel-item:first-child::after {align-self: flex-end;width: 50%;}#sk-container-id-10 div.sk-parallel-item:last-child::after {align-self: flex-start;width: 50%;}#sk-container-id-10 div.sk-parallel-item:only-child::after {width: 0;}#sk-container-id-10 div.sk-dashed-wrapped {border: 1px dashed gray;margin: 0 0.4em 0.5em 0.4em;box-sizing: border-box;padding-bottom: 0.4em;background-color: white;}#sk-container-id-10 div.sk-label label {font-family: monospace;font-weight: bold;display: inline-block;line-height: 1.2em;}#sk-container-id-10 div.sk-label-container {text-align: center;}#sk-container-id-10 div.sk-container {/* jupyter's `normalize.less` sets `[hidden] { display: none; }` but bootstrap.min.css set `[hidden] { display: none !important; }` so we also need the `!important` here to be able to override the default hidden behavior on the sphinx rendered scikit-learn.org. See: https://github.com/scikit-learn/scikit-learn/issues/21755 */display: inline-block !important;position: relative;}#sk-container-id-10 div.sk-text-repr-fallback {display: none;}</style><div id=\"sk-container-id-10\" class=\"sk-top-container\"><div class=\"sk-text-repr-fallback\"><pre>SVC(C=6.6371056741416785, coef0=2.5236388644198016, degree=1,\n",
       "    gamma=1.0742959654435946, kernel=&#x27;poly&#x27;)</pre><b>In a Jupyter environment, please rerun this cell to show the HTML representation or trust the notebook. <br />On GitHub, the HTML representation is unable to render, please try loading this page with nbviewer.org.</b></div><div class=\"sk-container\" hidden><div class=\"sk-item\"><div class=\"sk-estimator sk-toggleable\"><input class=\"sk-toggleable__control sk-hidden--visually\" id=\"sk-estimator-id-12\" type=\"checkbox\" checked><label for=\"sk-estimator-id-12\" class=\"sk-toggleable__label sk-toggleable__label-arrow\">SVC</label><div class=\"sk-toggleable__content\"><pre>SVC(C=6.6371056741416785, coef0=2.5236388644198016, degree=1,\n",
       "    gamma=1.0742959654435946, kernel=&#x27;poly&#x27;)</pre></div></div></div></div></div>"
      ],
      "text/plain": [
       "SVC(C=6.6371056741416785, coef0=2.5236388644198016, degree=1,\n",
       "    gamma=1.0742959654435946, kernel='poly')"
      ]
     },
     "execution_count": 81,
     "metadata": {},
     "output_type": "execute_result"
    }
   ],
   "source": [
    "search.best_estimator_"
   ]
  },
  {
   "cell_type": "code",
   "execution_count": 82,
   "id": "a6a78106",
   "metadata": {},
   "outputs": [],
   "source": [
    "best_model = search.best_estimator_"
   ]
  },
  {
   "cell_type": "code",
   "execution_count": 83,
   "id": "c76fffc1",
   "metadata": {},
   "outputs": [
    {
     "data": {
      "text/html": [
       "<style>#sk-container-id-11 {color: black;}#sk-container-id-11 pre{padding: 0;}#sk-container-id-11 div.sk-toggleable {background-color: white;}#sk-container-id-11 label.sk-toggleable__label {cursor: pointer;display: block;width: 100%;margin-bottom: 0;padding: 0.3em;box-sizing: border-box;text-align: center;}#sk-container-id-11 label.sk-toggleable__label-arrow:before {content: \"▸\";float: left;margin-right: 0.25em;color: #696969;}#sk-container-id-11 label.sk-toggleable__label-arrow:hover:before {color: black;}#sk-container-id-11 div.sk-estimator:hover label.sk-toggleable__label-arrow:before {color: black;}#sk-container-id-11 div.sk-toggleable__content {max-height: 0;max-width: 0;overflow: hidden;text-align: left;background-color: #f0f8ff;}#sk-container-id-11 div.sk-toggleable__content pre {margin: 0.2em;color: black;border-radius: 0.25em;background-color: #f0f8ff;}#sk-container-id-11 input.sk-toggleable__control:checked~div.sk-toggleable__content {max-height: 200px;max-width: 100%;overflow: auto;}#sk-container-id-11 input.sk-toggleable__control:checked~label.sk-toggleable__label-arrow:before {content: \"▾\";}#sk-container-id-11 div.sk-estimator input.sk-toggleable__control:checked~label.sk-toggleable__label {background-color: #d4ebff;}#sk-container-id-11 div.sk-label input.sk-toggleable__control:checked~label.sk-toggleable__label {background-color: #d4ebff;}#sk-container-id-11 input.sk-hidden--visually {border: 0;clip: rect(1px 1px 1px 1px);clip: rect(1px, 1px, 1px, 1px);height: 1px;margin: -1px;overflow: hidden;padding: 0;position: absolute;width: 1px;}#sk-container-id-11 div.sk-estimator {font-family: monospace;background-color: #f0f8ff;border: 1px dotted black;border-radius: 0.25em;box-sizing: border-box;margin-bottom: 0.5em;}#sk-container-id-11 div.sk-estimator:hover {background-color: #d4ebff;}#sk-container-id-11 div.sk-parallel-item::after {content: \"\";width: 100%;border-bottom: 1px solid gray;flex-grow: 1;}#sk-container-id-11 div.sk-label:hover label.sk-toggleable__label {background-color: #d4ebff;}#sk-container-id-11 div.sk-serial::before {content: \"\";position: absolute;border-left: 1px solid gray;box-sizing: border-box;top: 0;bottom: 0;left: 50%;z-index: 0;}#sk-container-id-11 div.sk-serial {display: flex;flex-direction: column;align-items: center;background-color: white;padding-right: 0.2em;padding-left: 0.2em;position: relative;}#sk-container-id-11 div.sk-item {position: relative;z-index: 1;}#sk-container-id-11 div.sk-parallel {display: flex;align-items: stretch;justify-content: center;background-color: white;position: relative;}#sk-container-id-11 div.sk-item::before, #sk-container-id-11 div.sk-parallel-item::before {content: \"\";position: absolute;border-left: 1px solid gray;box-sizing: border-box;top: 0;bottom: 0;left: 50%;z-index: -1;}#sk-container-id-11 div.sk-parallel-item {display: flex;flex-direction: column;z-index: 1;position: relative;background-color: white;}#sk-container-id-11 div.sk-parallel-item:first-child::after {align-self: flex-end;width: 50%;}#sk-container-id-11 div.sk-parallel-item:last-child::after {align-self: flex-start;width: 50%;}#sk-container-id-11 div.sk-parallel-item:only-child::after {width: 0;}#sk-container-id-11 div.sk-dashed-wrapped {border: 1px dashed gray;margin: 0 0.4em 0.5em 0.4em;box-sizing: border-box;padding-bottom: 0.4em;background-color: white;}#sk-container-id-11 div.sk-label label {font-family: monospace;font-weight: bold;display: inline-block;line-height: 1.2em;}#sk-container-id-11 div.sk-label-container {text-align: center;}#sk-container-id-11 div.sk-container {/* jupyter's `normalize.less` sets `[hidden] { display: none; }` but bootstrap.min.css set `[hidden] { display: none !important; }` so we also need the `!important` here to be able to override the default hidden behavior on the sphinx rendered scikit-learn.org. See: https://github.com/scikit-learn/scikit-learn/issues/21755 */display: inline-block !important;position: relative;}#sk-container-id-11 div.sk-text-repr-fallback {display: none;}</style><div id=\"sk-container-id-11\" class=\"sk-top-container\"><div class=\"sk-text-repr-fallback\"><pre>SVC(C=6.6371056741416785, coef0=2.5236388644198016, degree=1,\n",
       "    gamma=1.0742959654435946, kernel=&#x27;poly&#x27;)</pre><b>In a Jupyter environment, please rerun this cell to show the HTML representation or trust the notebook. <br />On GitHub, the HTML representation is unable to render, please try loading this page with nbviewer.org.</b></div><div class=\"sk-container\" hidden><div class=\"sk-item\"><div class=\"sk-estimator sk-toggleable\"><input class=\"sk-toggleable__control sk-hidden--visually\" id=\"sk-estimator-id-13\" type=\"checkbox\" checked><label for=\"sk-estimator-id-13\" class=\"sk-toggleable__label sk-toggleable__label-arrow\">SVC</label><div class=\"sk-toggleable__content\"><pre>SVC(C=6.6371056741416785, coef0=2.5236388644198016, degree=1,\n",
       "    gamma=1.0742959654435946, kernel=&#x27;poly&#x27;)</pre></div></div></div></div></div>"
      ],
      "text/plain": [
       "SVC(C=6.6371056741416785, coef0=2.5236388644198016, degree=1,\n",
       "    gamma=1.0742959654435946, kernel='poly')"
      ]
     },
     "execution_count": 83,
     "metadata": {},
     "output_type": "execute_result"
    }
   ],
   "source": [
    "best_model"
   ]
  },
  {
   "cell_type": "markdown",
   "id": "83c53178",
   "metadata": {},
   "source": [
    "# Final check!"
   ]
  },
  {
   "cell_type": "code",
   "execution_count": 84,
   "id": "aec46350",
   "metadata": {},
   "outputs": [
    {
     "data": {
      "text/plain": [
       "0.7982062780269058"
      ]
     },
     "execution_count": 84,
     "metadata": {},
     "output_type": "execute_result"
    },
    {
     "name": "stdout",
     "output_type": "stream",
     "text": [
      "[CV] END C=5.027883185368784, class_weight=None, coef0=2.7219390963316723, degree=1, gamma=1.946254952194173, kernel=sigmoid; total time=   0.0s\n",
      "[CV] END C=4.457641347776448, class_weight=None, coef0=3.242909339554638, degree=1, gamma=4.324488627014307, kernel=poly; total time=   0.1s\n",
      "[CV] END C=2.512166264405987, class_weight=balanced, coef0=6.439167650734564, degree=1, gamma=7.186046392233791, kernel=linear; total time=   0.0s\n",
      "[CV] END C=6.6371056741416785, class_weight=None, coef0=2.5236388644198016, degree=1, gamma=1.0742959654435946, kernel=poly; total time=   0.0s\n",
      "[CV] END C=6.777122433764447, class_weight=None, coef0=5.69302263608746, degree=1, gamma=2.3614975290157876, kernel=rbf; total time=   0.0s\n",
      "[CV] END C=2.5452773499059234, class_weight=balanced, coef0=2.950682574383065, degree=1, gamma=8.390781076416717, kernel=sigmoid; total time=   0.0s\n",
      "[CV] END C=6.882073161954146, class_weight=None, coef0=1.3968428737650163, degree=1, gamma=1.794046471088483, kernel=rbf; total time=   0.0s\n",
      "[CV] END C=6.777122433764447, class_weight=None, coef0=5.69302263608746, degree=1, gamma=2.3614975290157876, kernel=rbf; total time=   0.0s\n",
      "[CV] END C=9.452807028562939, class_weight=None, coef0=0.6045257756884403, degree=1, gamma=3.295434010552693, kernel=sigmoid; total time=   0.0s\n",
      "[CV] END C=6.778661937924927, class_weight=None, coef0=0.5041989458575291, degree=1, gamma=6.238974100606063, kernel=sigmoid; total time=   0.0s\n",
      "[CV] END C=1.1229954338163595, class_weight=None, coef0=9.062149063049167, degree=1, gamma=1.4528918374849675, kernel=poly; total time=   0.0s\n",
      "[CV] END C=6.6371056741416785, class_weight=None, coef0=2.5236388644198016, degree=1, gamma=1.0742959654435946, kernel=poly; total time=   0.0s\n",
      "[CV] END C=4.457641347776448, class_weight=None, coef0=3.242909339554638, degree=1, gamma=4.324488627014307, kernel=poly; total time=   0.0s\n",
      "[CV] END C=2.5452773499059234, class_weight=balanced, coef0=2.950682574383065, degree=1, gamma=8.390781076416717, kernel=sigmoid; total time=   0.0s\n",
      "[CV] END C=6.882073161954146, class_weight=None, coef0=1.3968428737650163, degree=1, gamma=1.794046471088483, kernel=rbf; total time=   0.0s\n",
      "[CV] END C=6.6371056741416785, class_weight=None, coef0=2.5236388644198016, degree=1, gamma=1.0742959654435946, kernel=poly; total time=   0.1s\n",
      "[CV] END C=2.5452773499059234, class_weight=balanced, coef0=2.950682574383065, degree=1, gamma=8.390781076416717, kernel=sigmoid; total time=   0.0s\n",
      "[CV] END C=1.1229954338163595, class_weight=None, coef0=9.062149063049167, degree=1, gamma=1.4528918374849675, kernel=poly; total time=   0.0s\n",
      "[CV] END C=2.512166264405987, class_weight=balanced, coef0=6.439167650734564, degree=1, gamma=7.186046392233791, kernel=linear; total time=   0.0s\n",
      "[CV] END C=5.027883185368784, class_weight=None, coef0=2.7219390963316723, degree=1, gamma=1.946254952194173, kernel=sigmoid; total time=   0.0s\n",
      "[CV] END C=9.452807028562939, class_weight=None, coef0=0.6045257756884403, degree=1, gamma=3.295434010552693, kernel=sigmoid; total time=   0.0s\n",
      "[CV] END C=6.778661937924927, class_weight=None, coef0=0.5041989458575291, degree=1, gamma=6.238974100606063, kernel=sigmoid; total time=   0.0s\n",
      "[CV] END C=6.882073161954146, class_weight=None, coef0=1.3968428737650163, degree=1, gamma=1.794046471088483, kernel=rbf; total time=   0.0s\n",
      "[CV] END C=6.777122433764447, class_weight=None, coef0=5.69302263608746, degree=1, gamma=2.3614975290157876, kernel=rbf; total time=   0.1s\n",
      "[CV] END C=9.452807028562939, class_weight=None, coef0=0.6045257756884403, degree=1, gamma=3.295434010552693, kernel=sigmoid; total time=   0.0s\n",
      "[CV] END C=6.778661937924927, class_weight=None, coef0=0.5041989458575291, degree=1, gamma=6.238974100606063, kernel=sigmoid; total time=   0.0s\n",
      "[CV] END C=1.1229954338163595, class_weight=None, coef0=9.062149063049167, degree=1, gamma=1.4528918374849675, kernel=poly; total time=   0.0s\n",
      "[CV] END C=2.512166264405987, class_weight=balanced, coef0=6.439167650734564, degree=1, gamma=7.186046392233791, kernel=linear; total time=   0.0s\n",
      "[CV] END C=5.027883185368784, class_weight=None, coef0=2.7219390963316723, degree=1, gamma=1.946254952194173, kernel=sigmoid; total time=   0.0s\n",
      "[CV] END C=4.457641347776448, class_weight=None, coef0=3.242909339554638, degree=1, gamma=4.324488627014307, kernel=poly; total time=   0.1s\n"
     ]
    }
   ],
   "source": [
    "best_model.score(X_test,y_test)"
   ]
  }
 ],
 "metadata": {
  "kernelspec": {
   "display_name": "Python 3 (ipykernel)",
   "language": "python",
   "name": "python3"
  },
  "language_info": {
   "codemirror_mode": {
    "name": "ipython",
    "version": 3
   },
   "file_extension": ".py",
   "mimetype": "text/x-python",
   "name": "python",
   "nbconvert_exporter": "python",
   "pygments_lexer": "ipython3",
   "version": "3.10.6"
  },
  "toc": {
   "base_numbering": 1,
   "nav_menu": {},
   "number_sections": true,
   "sideBar": true,
   "skip_h1_title": false,
   "title_cell": "Table of Contents",
   "title_sidebar": "Contents",
   "toc_cell": false,
   "toc_position": {},
   "toc_section_display": true,
   "toc_window_display": false
  }
 },
 "nbformat": 4,
 "nbformat_minor": 5
}
