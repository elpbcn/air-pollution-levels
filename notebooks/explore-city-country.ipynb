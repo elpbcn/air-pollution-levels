{
 "cells": [
  {
   "cell_type": "code",
   "execution_count": 2,
   "metadata": {},
   "outputs": [],
   "source": [
    "import pandas as pd"
   ]
  },
  {
   "cell_type": "code",
   "execution_count": 16,
   "metadata": {},
   "outputs": [
    {
     "data": {
      "text/html": [
       "<div>\n",
       "<style scoped>\n",
       "    .dataframe tbody tr th:only-of-type {\n",
       "        vertical-align: middle;\n",
       "    }\n",
       "\n",
       "    .dataframe tbody tr th {\n",
       "        vertical-align: top;\n",
       "    }\n",
       "\n",
       "    .dataframe thead th {\n",
       "        text-align: right;\n",
       "    }\n",
       "</style>\n",
       "<table border=\"1\" class=\"dataframe\">\n",
       "  <thead>\n",
       "    <tr style=\"text-align: right;\">\n",
       "      <th></th>\n",
       "      <th>who_region</th>\n",
       "      <th>iso3</th>\n",
       "      <th>country_name</th>\n",
       "      <th>city</th>\n",
       "      <th>year</th>\n",
       "      <th>version</th>\n",
       "      <th>pm10_concentration</th>\n",
       "      <th>pm25_concentration</th>\n",
       "      <th>no2_concentration</th>\n",
       "      <th>pm10_tempcov</th>\n",
       "      <th>pm25_tempcov</th>\n",
       "      <th>no2_tempcov</th>\n",
       "      <th>type_of_stations</th>\n",
       "      <th>reference</th>\n",
       "      <th>web_link</th>\n",
       "      <th>population</th>\n",
       "      <th>population_source</th>\n",
       "      <th>latitude</th>\n",
       "      <th>longitude</th>\n",
       "      <th>who_ms</th>\n",
       "    </tr>\n",
       "  </thead>\n",
       "  <tbody>\n",
       "    <tr>\n",
       "      <th>0</th>\n",
       "      <td>4_Eur</td>\n",
       "      <td>ESP</td>\n",
       "      <td>Spain</td>\n",
       "      <td>A Coruna</td>\n",
       "      <td>2013.0</td>\n",
       "      <td>V4.0 (2018), V4.0 (2018), V4.0 (2018), V4.0 (2...</td>\n",
       "      <td>23.238</td>\n",
       "      <td>11.491</td>\n",
       "      <td>28.841</td>\n",
       "      <td>87.0</td>\n",
       "      <td>46.0</td>\n",
       "      <td>93.0</td>\n",
       "      <td>Urban, Urban, Suburban</td>\n",
       "      <td>NaN</td>\n",
       "      <td>NaN</td>\n",
       "      <td>246056.0</td>\n",
       "      <td>manual, manual, manual, manual</td>\n",
       "      <td>43.367900</td>\n",
       "      <td>-8.418571</td>\n",
       "      <td>1</td>\n",
       "    </tr>\n",
       "    <tr>\n",
       "      <th>1</th>\n",
       "      <td>4_Eur</td>\n",
       "      <td>ESP</td>\n",
       "      <td>Spain</td>\n",
       "      <td>A Coruna</td>\n",
       "      <td>2014.0</td>\n",
       "      <td>V6.0  (2023), V6.0  (2023), V6.0  (2023)</td>\n",
       "      <td>27.476</td>\n",
       "      <td>15.878</td>\n",
       "      <td>19.575</td>\n",
       "      <td>96.0</td>\n",
       "      <td>88.0</td>\n",
       "      <td>95.0</td>\n",
       "      <td>Urban, Urban, Suburban</td>\n",
       "      <td>NaN</td>\n",
       "      <td>NaN</td>\n",
       "      <td>246056.0</td>\n",
       "      <td>NaN</td>\n",
       "      <td>43.368033</td>\n",
       "      <td>-8.418233</td>\n",
       "      <td>1</td>\n",
       "    </tr>\n",
       "    <tr>\n",
       "      <th>2</th>\n",
       "      <td>4_Eur</td>\n",
       "      <td>ESP</td>\n",
       "      <td>Spain</td>\n",
       "      <td>A Coruna</td>\n",
       "      <td>2015.0</td>\n",
       "      <td>V6.0  (2023), V6.0  (2023), V6.0  (2023), V6.0...</td>\n",
       "      <td>25.515</td>\n",
       "      <td>14.004</td>\n",
       "      <td>22.731</td>\n",
       "      <td>98.0</td>\n",
       "      <td>71.0</td>\n",
       "      <td>98.0</td>\n",
       "      <td>Urban, Urban, Suburban, Suburban</td>\n",
       "      <td>NaN</td>\n",
       "      <td>NaN</td>\n",
       "      <td>246056.0</td>\n",
       "      <td>NaN</td>\n",
       "      <td>43.370375</td>\n",
       "      <td>-8.422900</td>\n",
       "      <td>1</td>\n",
       "    </tr>\n",
       "    <tr>\n",
       "      <th>3</th>\n",
       "      <td>4_Eur</td>\n",
       "      <td>ESP</td>\n",
       "      <td>Spain</td>\n",
       "      <td>A Coruna</td>\n",
       "      <td>2016.0</td>\n",
       "      <td>V6.0  (2023), V6.0  (2023), V6.0  (2023), V6.0...</td>\n",
       "      <td>23.057</td>\n",
       "      <td>13.160</td>\n",
       "      <td>20.204</td>\n",
       "      <td>98.0</td>\n",
       "      <td>98.0</td>\n",
       "      <td>98.0</td>\n",
       "      <td>Urban, Urban, Suburban, Suburban</td>\n",
       "      <td>NaN</td>\n",
       "      <td>NaN</td>\n",
       "      <td>246056.0</td>\n",
       "      <td>NaN</td>\n",
       "      <td>43.370375</td>\n",
       "      <td>-8.422900</td>\n",
       "      <td>1</td>\n",
       "    </tr>\n",
       "    <tr>\n",
       "      <th>4</th>\n",
       "      <td>4_Eur</td>\n",
       "      <td>ESP</td>\n",
       "      <td>Spain</td>\n",
       "      <td>A Coruna</td>\n",
       "      <td>2017.0</td>\n",
       "      <td>V6.0  (2023), V6.0  (2023), V6.0  (2023), V6.0...</td>\n",
       "      <td>26.849</td>\n",
       "      <td>14.114</td>\n",
       "      <td>21.543</td>\n",
       "      <td>97.0</td>\n",
       "      <td>97.0</td>\n",
       "      <td>98.0</td>\n",
       "      <td>Urban, Urban, Suburban, Suburban</td>\n",
       "      <td>NaN</td>\n",
       "      <td>NaN</td>\n",
       "      <td>246056.0</td>\n",
       "      <td>NaN</td>\n",
       "      <td>43.370375</td>\n",
       "      <td>-8.422900</td>\n",
       "      <td>1</td>\n",
       "    </tr>\n",
       "  </tbody>\n",
       "</table>\n",
       "</div>"
      ],
      "text/plain": [
       "  who_region iso3 country_name      city    year  \\\n",
       "0      4_Eur  ESP        Spain  A Coruna  2013.0   \n",
       "1      4_Eur  ESP        Spain  A Coruna  2014.0   \n",
       "2      4_Eur  ESP        Spain  A Coruna  2015.0   \n",
       "3      4_Eur  ESP        Spain  A Coruna  2016.0   \n",
       "4      4_Eur  ESP        Spain  A Coruna  2017.0   \n",
       "\n",
       "                                             version  pm10_concentration  \\\n",
       "0  V4.0 (2018), V4.0 (2018), V4.0 (2018), V4.0 (2...              23.238   \n",
       "1           V6.0  (2023), V6.0  (2023), V6.0  (2023)              27.476   \n",
       "2  V6.0  (2023), V6.0  (2023), V6.0  (2023), V6.0...              25.515   \n",
       "3  V6.0  (2023), V6.0  (2023), V6.0  (2023), V6.0...              23.057   \n",
       "4  V6.0  (2023), V6.0  (2023), V6.0  (2023), V6.0...              26.849   \n",
       "\n",
       "   pm25_concentration  no2_concentration  pm10_tempcov  pm25_tempcov  \\\n",
       "0              11.491             28.841          87.0          46.0   \n",
       "1              15.878             19.575          96.0          88.0   \n",
       "2              14.004             22.731          98.0          71.0   \n",
       "3              13.160             20.204          98.0          98.0   \n",
       "4              14.114             21.543          97.0          97.0   \n",
       "\n",
       "   no2_tempcov                  type_of_stations reference web_link  \\\n",
       "0         93.0            Urban, Urban, Suburban       NaN      NaN   \n",
       "1         95.0            Urban, Urban, Suburban       NaN      NaN   \n",
       "2         98.0  Urban, Urban, Suburban, Suburban       NaN      NaN   \n",
       "3         98.0  Urban, Urban, Suburban, Suburban       NaN      NaN   \n",
       "4         98.0  Urban, Urban, Suburban, Suburban       NaN      NaN   \n",
       "\n",
       "   population               population_source   latitude  longitude  who_ms  \n",
       "0    246056.0  manual, manual, manual, manual  43.367900  -8.418571       1  \n",
       "1    246056.0                             NaN  43.368033  -8.418233       1  \n",
       "2    246056.0                             NaN  43.370375  -8.422900       1  \n",
       "3    246056.0                             NaN  43.370375  -8.422900       1  \n",
       "4    246056.0                             NaN  43.370375  -8.422900       1  "
      ]
     },
     "execution_count": 16,
     "metadata": {},
     "output_type": "execute_result"
    }
   ],
   "source": [
    "df = pd.read_csv('/users/brucepereira/desktop/air/air_pollution_data_upd.csv')\n",
    "df.head()"
   ]
  },
  {
   "cell_type": "code",
   "execution_count": 98,
   "metadata": {},
   "outputs": [
    {
     "data": {
      "text/html": [
       "<div>\n",
       "<style scoped>\n",
       "    .dataframe tbody tr th:only-of-type {\n",
       "        vertical-align: middle;\n",
       "    }\n",
       "\n",
       "    .dataframe tbody tr th {\n",
       "        vertical-align: top;\n",
       "    }\n",
       "\n",
       "    .dataframe thead th {\n",
       "        text-align: right;\n",
       "    }\n",
       "</style>\n",
       "<table border=\"1\" class=\"dataframe\">\n",
       "  <thead>\n",
       "    <tr style=\"text-align: right;\">\n",
       "      <th></th>\n",
       "      <th>who_region</th>\n",
       "      <th>iso3</th>\n",
       "      <th>country_name</th>\n",
       "      <th>city</th>\n",
       "      <th>year</th>\n",
       "      <th>version</th>\n",
       "      <th>pm10_concentration</th>\n",
       "      <th>pm25_concentration</th>\n",
       "      <th>no2_concentration</th>\n",
       "      <th>pm10_tempcov</th>\n",
       "      <th>pm25_tempcov</th>\n",
       "      <th>no2_tempcov</th>\n",
       "      <th>type_of_stations</th>\n",
       "      <th>reference</th>\n",
       "      <th>web_link</th>\n",
       "      <th>population</th>\n",
       "      <th>population_source</th>\n",
       "      <th>latitude</th>\n",
       "      <th>longitude</th>\n",
       "      <th>who_ms</th>\n",
       "    </tr>\n",
       "  </thead>\n",
       "  <tbody>\n",
       "    <tr>\n",
       "      <th>40093</th>\n",
       "      <td>6_Wpr</td>\n",
       "      <td>KOR</td>\n",
       "      <td>Republic of Korea</td>\n",
       "      <td>경기도</td>\n",
       "      <td>2017.0</td>\n",
       "      <td>V5.0 (2022)</td>\n",
       "      <td>57.335</td>\n",
       "      <td>36.457</td>\n",
       "      <td>0.029</td>\n",
       "      <td>NaN</td>\n",
       "      <td>NaN</td>\n",
       "      <td>NaN</td>\n",
       "      <td>NaN</td>\n",
       "      <td>NaN</td>\n",
       "      <td>NaN</td>\n",
       "      <td>NaN</td>\n",
       "      <td>NaN</td>\n",
       "      <td>37.337200</td>\n",
       "      <td>126.724100</td>\n",
       "      <td>1</td>\n",
       "    </tr>\n",
       "    <tr>\n",
       "      <th>40094</th>\n",
       "      <td>6_Wpr</td>\n",
       "      <td>KOR</td>\n",
       "      <td>Republic of Korea</td>\n",
       "      <td>경기도</td>\n",
       "      <td>2018.0</td>\n",
       "      <td>V5.0 (2022)</td>\n",
       "      <td>50.838</td>\n",
       "      <td>31.586</td>\n",
       "      <td>0.027</td>\n",
       "      <td>NaN</td>\n",
       "      <td>NaN</td>\n",
       "      <td>NaN</td>\n",
       "      <td>NaN</td>\n",
       "      <td>NaN</td>\n",
       "      <td>NaN</td>\n",
       "      <td>NaN</td>\n",
       "      <td>NaN</td>\n",
       "      <td>37.337200</td>\n",
       "      <td>126.724100</td>\n",
       "      <td>1</td>\n",
       "    </tr>\n",
       "    <tr>\n",
       "      <th>40095</th>\n",
       "      <td>6_Wpr</td>\n",
       "      <td>KOR</td>\n",
       "      <td>Republic of Korea</td>\n",
       "      <td>경기도</td>\n",
       "      <td>2019.0</td>\n",
       "      <td>V5.0 (2022)</td>\n",
       "      <td>55.568</td>\n",
       "      <td>31.013</td>\n",
       "      <td>0.028</td>\n",
       "      <td>NaN</td>\n",
       "      <td>NaN</td>\n",
       "      <td>NaN</td>\n",
       "      <td>NaN</td>\n",
       "      <td>NaN</td>\n",
       "      <td>NaN</td>\n",
       "      <td>NaN</td>\n",
       "      <td>NaN</td>\n",
       "      <td>37.337200</td>\n",
       "      <td>126.724100</td>\n",
       "      <td>1</td>\n",
       "    </tr>\n",
       "    <tr>\n",
       "      <th>40096</th>\n",
       "      <td>6_Wpr</td>\n",
       "      <td>CHN</td>\n",
       "      <td>China</td>\n",
       "      <td>虎英公园北</td>\n",
       "      <td>2018.0</td>\n",
       "      <td>V5.0 (2022)</td>\n",
       "      <td>NaN</td>\n",
       "      <td>30.649</td>\n",
       "      <td>NaN</td>\n",
       "      <td>NaN</td>\n",
       "      <td>94.0</td>\n",
       "      <td>NaN</td>\n",
       "      <td>NaN</td>\n",
       "      <td>NaN</td>\n",
       "      <td>NaN</td>\n",
       "      <td>NaN</td>\n",
       "      <td>NaN</td>\n",
       "      <td>23.012778</td>\n",
       "      <td>113.794444</td>\n",
       "      <td>1</td>\n",
       "    </tr>\n",
       "    <tr>\n",
       "      <th>40097</th>\n",
       "      <td>6_Wpr</td>\n",
       "      <td>CHN</td>\n",
       "      <td>China</td>\n",
       "      <td>虎英公园北</td>\n",
       "      <td>2019.0</td>\n",
       "      <td>V5.0 (2022)</td>\n",
       "      <td>NaN</td>\n",
       "      <td>29.731</td>\n",
       "      <td>NaN</td>\n",
       "      <td>NaN</td>\n",
       "      <td>97.0</td>\n",
       "      <td>NaN</td>\n",
       "      <td>NaN</td>\n",
       "      <td>NaN</td>\n",
       "      <td>NaN</td>\n",
       "      <td>NaN</td>\n",
       "      <td>NaN</td>\n",
       "      <td>23.012778</td>\n",
       "      <td>113.794444</td>\n",
       "      <td>1</td>\n",
       "    </tr>\n",
       "  </tbody>\n",
       "</table>\n",
       "</div>"
      ],
      "text/plain": [
       "      who_region iso3       country_name   city    year      version  \\\n",
       "40093      6_Wpr  KOR  Republic of Korea    경기도  2017.0  V5.0 (2022)   \n",
       "40094      6_Wpr  KOR  Republic of Korea    경기도  2018.0  V5.0 (2022)   \n",
       "40095      6_Wpr  KOR  Republic of Korea    경기도  2019.0  V5.0 (2022)   \n",
       "40096      6_Wpr  CHN              China  虎英公园北  2018.0  V5.0 (2022)   \n",
       "40097      6_Wpr  CHN              China  虎英公园北  2019.0  V5.0 (2022)   \n",
       "\n",
       "       pm10_concentration  pm25_concentration  no2_concentration  \\\n",
       "40093              57.335              36.457              0.029   \n",
       "40094              50.838              31.586              0.027   \n",
       "40095              55.568              31.013              0.028   \n",
       "40096                 NaN              30.649                NaN   \n",
       "40097                 NaN              29.731                NaN   \n",
       "\n",
       "       pm10_tempcov  pm25_tempcov  no2_tempcov type_of_stations reference  \\\n",
       "40093           NaN           NaN          NaN              NaN       NaN   \n",
       "40094           NaN           NaN          NaN              NaN       NaN   \n",
       "40095           NaN           NaN          NaN              NaN       NaN   \n",
       "40096           NaN          94.0          NaN              NaN       NaN   \n",
       "40097           NaN          97.0          NaN              NaN       NaN   \n",
       "\n",
       "      web_link  population population_source   latitude   longitude  who_ms  \n",
       "40093      NaN         NaN               NaN  37.337200  126.724100       1  \n",
       "40094      NaN         NaN               NaN  37.337200  126.724100       1  \n",
       "40095      NaN         NaN               NaN  37.337200  126.724100       1  \n",
       "40096      NaN         NaN               NaN  23.012778  113.794444       1  \n",
       "40097      NaN         NaN               NaN  23.012778  113.794444       1  "
      ]
     },
     "execution_count": 98,
     "metadata": {},
     "output_type": "execute_result"
    }
   ],
   "source": [
    "df.tail()"
   ]
  },
  {
   "cell_type": "markdown",
   "metadata": {},
   "source": [
    "## Countries"
   ]
  },
  {
   "cell_type": "code",
   "execution_count": 125,
   "metadata": {},
   "outputs": [
    {
     "data": {
      "text/plain": [
       "country_name\n",
       "Italy                               4035\n",
       "United States of America            3888\n",
       "China                               3882\n",
       "Spain                               3343\n",
       "Germany                             3266\n",
       "                                    ... \n",
       "Kyrgyzstan                             1\n",
       "Tajikistan                             1\n",
       "Algeria                                1\n",
       "Liechtenstein                          1\n",
       "Lao People's Democratic Republic       1\n",
       "Name: count, Length: 124, dtype: int64"
      ]
     },
     "execution_count": 125,
     "metadata": {},
     "output_type": "execute_result"
    }
   ],
   "source": [
    "df['country_name'].value_counts()"
   ]
  },
  {
   "cell_type": "code",
   "execution_count": 126,
   "metadata": {},
   "outputs": [
    {
     "data": {
      "text/plain": [
       "count     40098\n",
       "unique      124\n",
       "top       Italy\n",
       "freq       4035\n",
       "Name: country_name, dtype: object"
      ]
     },
     "execution_count": 126,
     "metadata": {},
     "output_type": "execute_result"
    }
   ],
   "source": [
    "df['country_name'].describe()"
   ]
  },
  {
   "cell_type": "code",
   "execution_count": 127,
   "metadata": {},
   "outputs": [
    {
     "name": "stdout",
     "output_type": "stream",
     "text": [
      "<class 'pandas.core.series.Series'>\n",
      "RangeIndex: 40098 entries, 0 to 40097\n",
      "Series name: country_name\n",
      "Non-Null Count  Dtype \n",
      "--------------  ----- \n",
      "40098 non-null  object\n",
      "dtypes: object(1)\n",
      "memory usage: 313.4+ KB\n"
     ]
    }
   ],
   "source": [
    "df['country_name'].info()"
   ]
  },
  {
   "cell_type": "code",
   "execution_count": 128,
   "metadata": {},
   "outputs": [
    {
     "data": {
      "text/plain": [
       "0"
      ]
     },
     "execution_count": 128,
     "metadata": {},
     "output_type": "execute_result"
    }
   ],
   "source": [
    "df['country_name'].isnull().sum()"
   ]
  },
  {
   "cell_type": "code",
   "execution_count": 129,
   "metadata": {},
   "outputs": [
    {
     "data": {
      "text/plain": [
       "0"
      ]
     },
     "execution_count": 129,
     "metadata": {},
     "output_type": "execute_result"
    }
   ],
   "source": [
    "df['country_name'].isna().sum()"
   ]
  },
  {
   "cell_type": "code",
   "execution_count": 132,
   "metadata": {},
   "outputs": [
    {
     "data": {
      "text/plain": [
       "<bound method Series.sum of who_region\n",
       "1_Afr      13\n",
       "2_Amr      23\n",
       "3_Sear      9\n",
       "4_Eur      49\n",
       "5_Emr      14\n",
       "6_Wpr      13\n",
       "7_NonMS     3\n",
       "Name: country_name, dtype: int64>"
      ]
     },
     "execution_count": 132,
     "metadata": {},
     "output_type": "execute_result"
    }
   ],
   "source": [
    "countries = df.groupby('who_region')['country_name'].nunique().sum\n",
    "countries"
   ]
  },
  {
   "cell_type": "code",
   "execution_count": 103,
   "metadata": {},
   "outputs": [
    {
     "name": "stdout",
     "output_type": "stream",
     "text": [
      "region 1_Afr:\n",
      "region 2_Amr:\n",
      "region 3_Sear:\n",
      "region 4_Eur:\n",
      "region 5_Emr:\n",
      "region 6_Wpr:\n",
      "region 7_NonMS:\n"
     ]
    }
   ],
   "source": [
    "for region, data in df.groupby('who_region'):\n",
    "    data_region['country_name'].tolist()\n",
    "    print(f\"region {region}:\")\n"
   ]
  },
  {
   "cell_type": "code",
   "execution_count": 245,
   "metadata": {},
   "outputs": [
    {
     "data": {
      "text/plain": [
       "0         Spain\n",
       "1         Spain\n",
       "2         Spain\n",
       "3         Spain\n",
       "4         Spain\n",
       "          ...  \n",
       "40085    Poland\n",
       "40086    Poland\n",
       "40087    Poland\n",
       "40088    Poland\n",
       "40089    Poland\n",
       "Name: country_name, Length: 26801, dtype: object"
      ]
     },
     "execution_count": 245,
     "metadata": {},
     "output_type": "execute_result"
    }
   ],
   "source": [
    "Europe = df[df['who_region'] == '4_Eur']['country_name']\n",
    "Europe"
   ]
  },
  {
   "cell_type": "code",
   "execution_count": 188,
   "metadata": {},
   "outputs": [
    {
     "data": {
      "text/plain": [
       "city\n",
       "Aachen            10\n",
       "Lubeck            10\n",
       "Mainz             10\n",
       "Magdeburg         10\n",
       "Lunen             10\n",
       "                  ..\n",
       "Naila              1\n",
       "Deisterstrasse     1\n",
       "Schuhstrasse       1\n",
       "Netzschkau         1\n",
       "Sonnenbuhl         1\n",
       "Name: count, Length: 476, dtype: int64"
      ]
     },
     "execution_count": 188,
     "metadata": {},
     "output_type": "execute_result"
    }
   ],
   "source": [
    "Germany = df.loc[df['who_region'] == '4_Eur', 'country_name'].iloc[10]\n",
    "German_cities = df.loc[df['country_name'] == Germany, 'city']\n",
    "German_cities.value_counts()"
   ]
  },
  {
   "cell_type": "code",
   "execution_count": 131,
   "metadata": {},
   "outputs": [
    {
     "data": {
      "image/png": "[encoded data removed]",
      "text/plain": [
       "<Figure size 4000x1000 with 1 Axes>"
      ]
     },
     "metadata": {},
     "output_type": "display_data"
    }
   ],
   "source": [
    "plt.figure(figsize=(40, 10))\n",
    "plt.hist(Europe, bins=50, edgecolor='k', alpha=0.7)\n",
    "plt.xlabel('Country')\n",
    "plt.ylabel('amount')\n",
    "plt.title('Europe_data')\n",
    "plt.grid(True)\n",
    "plt.show()"
   ]
  },
  {
   "cell_type": "markdown",
   "metadata": {},
   "source": [
    "## Cities"
   ]
  },
  {
   "cell_type": "code",
   "execution_count": 178,
   "metadata": {},
   "outputs": [
    {
     "data": {
      "text/plain": [
       "count      40098\n",
       "unique      7136\n",
       "top       Cuenca\n",
       "freq          21\n",
       "Name: city, dtype: object"
      ]
     },
     "execution_count": 178,
     "metadata": {},
     "output_type": "execute_result"
    }
   ],
   "source": [
    "df['city'].describe()"
   ]
  },
  {
   "cell_type": "code",
   "execution_count": 177,
   "metadata": {},
   "outputs": [
    {
     "data": {
      "text/plain": [
       "city\n",
       "Cuenca                   21\n",
       "Salamanca                17\n",
       "Laval                    17\n",
       "Anyang                   17\n",
       "Arad                     17\n",
       "                         ..\n",
       "Hnusta                    1\n",
       "San Giorgio Di Nogaro     1\n",
       "Thokoza                   1\n",
       "Hoboken                   1\n",
       "Oinofyta                  1\n",
       "Name: count, Length: 7136, dtype: int64"
      ]
     },
     "execution_count": 177,
     "metadata": {},
     "output_type": "execute_result"
    }
   ],
   "source": [
    "df['city'].value_counts()"
   ]
  },
  {
   "cell_type": "code",
   "execution_count": 23,
   "metadata": {},
   "outputs": [
    {
     "data": {
      "text/plain": [
       "0"
      ]
     },
     "execution_count": 23,
     "metadata": {},
     "output_type": "execute_result"
    }
   ],
   "source": [
    "df['city'].isnull().sum()"
   ]
  },
  {
   "cell_type": "code",
   "execution_count": 243,
   "metadata": {},
   "outputs": [
    {
     "data": {
      "text/plain": [
       "26801"
      ]
     },
     "execution_count": 243,
     "metadata": {},
     "output_type": "execute_result"
    }
   ],
   "source": [
    "euro_cities = df.loc[df['who_region'] == '4_Eur', 'city']\n",
    "euro_cities.value_counts().sum()"
   ]
  },
  {
   "cell_type": "code",
   "execution_count": 226,
   "metadata": {},
   "outputs": [
    {
     "data": {
      "text/plain": [
       "3343"
      ]
     },
     "execution_count": 226,
     "metadata": {},
     "output_type": "execute_result"
    }
   ],
   "source": [
    "Spain = df.loc[df['who_region'] == '4_Eur', 'country_name'].iloc[0]\n",
    "Spanish_cities = df.loc[df['country_name'] == Spain, 'city']\n",
    "Spanish_cities.value_counts().sum()"
   ]
  },
  {
   "cell_type": "code",
   "execution_count": 227,
   "metadata": {},
   "outputs": [
    {
     "data": {
      "text/plain": [
       "0        A Coruna\n",
       "1        A Coruna\n",
       "2        A Coruna\n",
       "3        A Coruna\n",
       "4        A Coruna\n",
       "          ...    \n",
       "387           Aia\n",
       "388           Aia\n",
       "389           Aia\n",
       "390           Aia\n",
       "402    Aiguafreda\n",
       "Name: city, Length: 71, dtype: object"
      ]
     },
     "execution_count": 227,
     "metadata": {},
     "output_type": "execute_result"
    }
   ],
   "source": [
    "top_ten_Sp = Spanish_cities.head(71)\n",
    "top_ten_Sp"
   ]
  },
  {
   "cell_type": "code",
   "execution_count": 228,
   "metadata": {},
   "outputs": [
    {
     "data": {
      "image/png": "[encoded data removed]",
      "text/plain": [
       "<Figure size 4000x1000 with 1 Axes>"
      ]
     },
     "metadata": {},
     "output_type": "display_data"
    }
   ],
   "source": [
    "plt.figure(figsize=(40, 10))\n",
    "plt.hist(top_ten_Sp, bins=50, edgecolor='k', alpha=0.7)\n",
    "plt.xlabel('Country')\n",
    "plt.ylabel('amount')\n",
    "plt.title('Europe_data')\n",
    "plt.grid(True)\n",
    "plt.show()"
   ]
  },
  {
   "cell_type": "code",
   "execution_count": null,
   "metadata": {},
   "outputs": [],
   "source": []
  }
 ],
 "metadata": {
  "kernelspec": {
   "display_name": "air-pollution-levels",
   "language": "python",
   "name": "python3"
  },
  "language_info": {
   "codemirror_mode": {
    "name": "ipython",
    "version": 3
   },
   "file_extension": ".py",
   "mimetype": "text/x-python",
   "name": "python",
   "nbconvert_exporter": "python",
   "pygments_lexer": "ipython3",
   "version": "3.10.6"
  }
 },
 "nbformat": 4,
 "nbformat_minor": 2
}
