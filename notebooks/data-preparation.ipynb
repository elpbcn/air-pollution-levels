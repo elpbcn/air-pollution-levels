{
 "cells": [
  {
   "cell_type": "code",
   "execution_count": 2,
   "id": "6ebb6384",
   "metadata": {},
   "outputs": [],
   "source": [
    "import pandas as pd"
   ]
  },
  {
   "cell_type": "markdown",
   "id": "527c6eea",
   "metadata": {},
   "source": [
    "# To data.py"
   ]
  },
  {
   "cell_type": "markdown",
   "id": "90504b95",
   "metadata": {},
   "source": [
    "## Loading data"
   ]
  },
  {
   "cell_type": "code",
   "execution_count": 3,
   "id": "78d2aa33",
   "metadata": {},
   "outputs": [
    {
     "data": {
      "text/html": [
       "<div>\n",
       "<style scoped>\n",
       "    .dataframe tbody tr th:only-of-type {\n",
       "        vertical-align: middle;\n",
       "    }\n",
       "\n",
       "    .dataframe tbody tr th {\n",
       "        vertical-align: top;\n",
       "    }\n",
       "\n",
       "    .dataframe thead th {\n",
       "        text-align: right;\n",
       "    }\n",
       "</style>\n",
       "<table border=\"1\" class=\"dataframe\">\n",
       "  <thead>\n",
       "    <tr style=\"text-align: right;\">\n",
       "      <th></th>\n",
       "      <th>who_region</th>\n",
       "      <th>iso3</th>\n",
       "      <th>country_name</th>\n",
       "      <th>city</th>\n",
       "      <th>year</th>\n",
       "      <th>version</th>\n",
       "      <th>pm10_concentration</th>\n",
       "      <th>pm25_concentration</th>\n",
       "      <th>no2_concentration</th>\n",
       "      <th>pm10_tempcov</th>\n",
       "      <th>pm25_tempcov</th>\n",
       "      <th>no2_tempcov</th>\n",
       "      <th>type_of_stations</th>\n",
       "      <th>reference</th>\n",
       "      <th>web_link</th>\n",
       "      <th>population</th>\n",
       "      <th>population_source</th>\n",
       "      <th>latitude</th>\n",
       "      <th>longitude</th>\n",
       "      <th>who_ms</th>\n",
       "    </tr>\n",
       "  </thead>\n",
       "  <tbody>\n",
       "    <tr>\n",
       "      <th>0</th>\n",
       "      <td>4_Eur</td>\n",
       "      <td>ESP</td>\n",
       "      <td>Spain</td>\n",
       "      <td>A Coruna/ESP</td>\n",
       "      <td>2013.0</td>\n",
       "      <td>V4.0 (2018), V4.0 (2018), V4.0 (2018), V4.0 (2...</td>\n",
       "      <td>23.238</td>\n",
       "      <td>11.491</td>\n",
       "      <td>28.841</td>\n",
       "      <td>87.0</td>\n",
       "      <td>46.0</td>\n",
       "      <td>93.0</td>\n",
       "      <td>Urban, Urban, Suburban</td>\n",
       "      <td>NaN</td>\n",
       "      <td>NaN</td>\n",
       "      <td>246146.0</td>\n",
       "      <td>manual, manual, manual, manual</td>\n",
       "      <td>43.367900</td>\n",
       "      <td>-8.418571</td>\n",
       "      <td>1</td>\n",
       "    </tr>\n",
       "    <tr>\n",
       "      <th>1</th>\n",
       "      <td>4_Eur</td>\n",
       "      <td>ESP</td>\n",
       "      <td>Spain</td>\n",
       "      <td>A Coruna/ESP</td>\n",
       "      <td>2014.0</td>\n",
       "      <td>V6.0  (2023), V6.0  (2023), V6.0  (2023)</td>\n",
       "      <td>27.476</td>\n",
       "      <td>15.878</td>\n",
       "      <td>19.575</td>\n",
       "      <td>96.0</td>\n",
       "      <td>88.0</td>\n",
       "      <td>95.0</td>\n",
       "      <td>Urban, Urban, Suburban</td>\n",
       "      <td>NaN</td>\n",
       "      <td>NaN</td>\n",
       "      <td>247604.0</td>\n",
       "      <td>NaN</td>\n",
       "      <td>43.368033</td>\n",
       "      <td>-8.418233</td>\n",
       "      <td>1</td>\n",
       "    </tr>\n",
       "    <tr>\n",
       "      <th>2</th>\n",
       "      <td>4_Eur</td>\n",
       "      <td>ESP</td>\n",
       "      <td>Spain</td>\n",
       "      <td>A Coruna/ESP</td>\n",
       "      <td>2015.0</td>\n",
       "      <td>V6.0  (2023), V6.0  (2023), V6.0  (2023), V6.0...</td>\n",
       "      <td>25.515</td>\n",
       "      <td>14.004</td>\n",
       "      <td>22.731</td>\n",
       "      <td>98.0</td>\n",
       "      <td>71.0</td>\n",
       "      <td>98.0</td>\n",
       "      <td>Urban, Urban, Suburban, Suburban</td>\n",
       "      <td>NaN</td>\n",
       "      <td>NaN</td>\n",
       "      <td>247604.0</td>\n",
       "      <td>NaN</td>\n",
       "      <td>43.370375</td>\n",
       "      <td>-8.422900</td>\n",
       "      <td>1</td>\n",
       "    </tr>\n",
       "    <tr>\n",
       "      <th>3</th>\n",
       "      <td>4_Eur</td>\n",
       "      <td>ESP</td>\n",
       "      <td>Spain</td>\n",
       "      <td>A Coruna/ESP</td>\n",
       "      <td>2016.0</td>\n",
       "      <td>V6.0  (2023), V6.0  (2023), V6.0  (2023), V6.0...</td>\n",
       "      <td>23.057</td>\n",
       "      <td>13.160</td>\n",
       "      <td>20.204</td>\n",
       "      <td>98.0</td>\n",
       "      <td>98.0</td>\n",
       "      <td>98.0</td>\n",
       "      <td>Urban, Urban, Suburban, Suburban</td>\n",
       "      <td>NaN</td>\n",
       "      <td>NaN</td>\n",
       "      <td>247604.0</td>\n",
       "      <td>NaN</td>\n",
       "      <td>43.370375</td>\n",
       "      <td>-8.422900</td>\n",
       "      <td>1</td>\n",
       "    </tr>\n",
       "    <tr>\n",
       "      <th>4</th>\n",
       "      <td>4_Eur</td>\n",
       "      <td>ESP</td>\n",
       "      <td>Spain</td>\n",
       "      <td>A Coruna/ESP</td>\n",
       "      <td>2017.0</td>\n",
       "      <td>V6.0  (2023), V6.0  (2023), V6.0  (2023), V6.0...</td>\n",
       "      <td>26.849</td>\n",
       "      <td>14.114</td>\n",
       "      <td>21.543</td>\n",
       "      <td>97.0</td>\n",
       "      <td>97.0</td>\n",
       "      <td>98.0</td>\n",
       "      <td>Urban, Urban, Suburban, Suburban</td>\n",
       "      <td>NaN</td>\n",
       "      <td>NaN</td>\n",
       "      <td>247604.0</td>\n",
       "      <td>NaN</td>\n",
       "      <td>43.370375</td>\n",
       "      <td>-8.422900</td>\n",
       "      <td>1</td>\n",
       "    </tr>\n",
       "  </tbody>\n",
       "</table>\n",
       "</div>"
      ],
      "text/plain": [
       "  who_region iso3 country_name          city    year  \\\n",
       "0      4_Eur  ESP        Spain  A Coruna/ESP  2013.0   \n",
       "1      4_Eur  ESP        Spain  A Coruna/ESP  2014.0   \n",
       "2      4_Eur  ESP        Spain  A Coruna/ESP  2015.0   \n",
       "3      4_Eur  ESP        Spain  A Coruna/ESP  2016.0   \n",
       "4      4_Eur  ESP        Spain  A Coruna/ESP  2017.0   \n",
       "\n",
       "                                             version  pm10_concentration  \\\n",
       "0  V4.0 (2018), V4.0 (2018), V4.0 (2018), V4.0 (2...              23.238   \n",
       "1           V6.0  (2023), V6.0  (2023), V6.0  (2023)              27.476   \n",
       "2  V6.0  (2023), V6.0  (2023), V6.0  (2023), V6.0...              25.515   \n",
       "3  V6.0  (2023), V6.0  (2023), V6.0  (2023), V6.0...              23.057   \n",
       "4  V6.0  (2023), V6.0  (2023), V6.0  (2023), V6.0...              26.849   \n",
       "\n",
       "   pm25_concentration  no2_concentration  pm10_tempcov  pm25_tempcov  \\\n",
       "0              11.491             28.841          87.0          46.0   \n",
       "1              15.878             19.575          96.0          88.0   \n",
       "2              14.004             22.731          98.0          71.0   \n",
       "3              13.160             20.204          98.0          98.0   \n",
       "4              14.114             21.543          97.0          97.0   \n",
       "\n",
       "   no2_tempcov                  type_of_stations reference web_link  \\\n",
       "0         93.0            Urban, Urban, Suburban       NaN      NaN   \n",
       "1         95.0            Urban, Urban, Suburban       NaN      NaN   \n",
       "2         98.0  Urban, Urban, Suburban, Suburban       NaN      NaN   \n",
       "3         98.0  Urban, Urban, Suburban, Suburban       NaN      NaN   \n",
       "4         98.0  Urban, Urban, Suburban, Suburban       NaN      NaN   \n",
       "\n",
       "   population               population_source   latitude  longitude  who_ms  \n",
       "0    246146.0  manual, manual, manual, manual  43.367900  -8.418571       1  \n",
       "1    247604.0                             NaN  43.368033  -8.418233       1  \n",
       "2    247604.0                             NaN  43.370375  -8.422900       1  \n",
       "3    247604.0                             NaN  43.370375  -8.422900       1  \n",
       "4    247604.0                             NaN  43.370375  -8.422900       1  "
      ]
     },
     "execution_count": 3,
     "metadata": {},
     "output_type": "execute_result"
    }
   ],
   "source": [
    "# Loading data\n",
    "csv_file = '../raw_data/air_pollution_data.csv'\n",
    "df = pd.read_csv(csv_file)\n",
    "\n",
    "df.head(5)"
   ]
  },
  {
   "cell_type": "markdown",
   "id": "a5c7c8da",
   "metadata": {},
   "source": [
    "## Missing values"
   ]
  },
  {
   "cell_type": "code",
   "execution_count": 4,
   "id": "7fa2b9dd",
   "metadata": {},
   "outputs": [
    {
     "name": "stdout",
     "output_type": "stream",
     "text": [
      "<class 'pandas.core.frame.DataFrame'>\n",
      "RangeIndex: 40098 entries, 0 to 40097\n",
      "Data columns (total 20 columns):\n",
      " #   Column              Non-Null Count  Dtype  \n",
      "---  ------              --------------  -----  \n",
      " 0   who_region          40098 non-null  object \n",
      " 1   iso3                40098 non-null  object \n",
      " 2   country_name        40098 non-null  object \n",
      " 3   city                40098 non-null  object \n",
      " 4   year                40095 non-null  float64\n",
      " 5   version             40098 non-null  object \n",
      " 6   pm10_concentration  28672 non-null  float64\n",
      " 7   pm25_concentration  21730 non-null  float64\n",
      " 8   no2_concentration   26934 non-null  float64\n",
      " 9   pm10_tempcov        22403 non-null  float64\n",
      " 10  pm25_tempcov        16590 non-null  float64\n",
      " 11  no2_tempcov         23402 non-null  float64\n",
      " 12  type_of_stations    23331 non-null  object \n",
      " 13  reference           6652 non-null   object \n",
      " 14  web_link            1790 non-null   object \n",
      " 15  population          22433 non-null  float64\n",
      " 16  population_source   18102 non-null  object \n",
      " 17  latitude            40098 non-null  float64\n",
      " 18  longitude           40098 non-null  float64\n",
      " 19  who_ms              40098 non-null  int64  \n",
      "dtypes: float64(10), int64(1), object(9)\n",
      "memory usage: 6.1+ MB\n"
     ]
    }
   ],
   "source": [
    "# Checking NaNs and types\n",
    "df.info()"
   ]
  },
  {
   "cell_type": "code",
   "execution_count": 5,
   "id": "52d47e3f",
   "metadata": {},
   "outputs": [
    {
     "data": {
      "text/plain": [
       "web_link              95.54\n",
       "reference             83.41\n",
       "pm25_tempcov          58.63\n",
       "population_source     54.86\n",
       "pm25_concentration    45.81\n",
       "pm10_tempcov          44.13\n",
       "population            44.05\n",
       "type_of_stations      41.82\n",
       "no2_tempcov           41.64\n",
       "no2_concentration     32.83\n",
       "pm10_concentration    28.50\n",
       "year                   0.01\n",
       "longitude              0.00\n",
       "latitude               0.00\n",
       "who_region             0.00\n",
       "iso3                   0.00\n",
       "version                0.00\n",
       "city                   0.00\n",
       "country_name           0.00\n",
       "who_ms                 0.00\n",
       "dtype: float64"
      ]
     },
     "execution_count": 5,
     "metadata": {},
     "output_type": "execute_result"
    }
   ],
   "source": [
    "# % on NaN per feature\n",
    "(df.isnull().sum() /len(df) *100).sort_values(ascending=False).round(2)"
   ]
  },
  {
   "cell_type": "code",
   "execution_count": 6,
   "id": "638c7f14",
   "metadata": {},
   "outputs": [],
   "source": [
    "#Features to delete: web_link, reference,  iso3, who_ms, population_source, version, pm10_tempcov, pm25_tempcov, no2_tempcov\n",
    "df.drop(columns=['web_link', 'reference', 'iso3', 'who_ms', 'population_source', 'version', 'pm10_tempcov', 'pm25_tempcov', 'no2_tempcov'],inplace=True)"
   ]
  },
  {
   "cell_type": "code",
   "execution_count": 7,
   "id": "25114a54",
   "metadata": {},
   "outputs": [
    {
     "name": "stdout",
     "output_type": "stream",
     "text": [
      "<class 'pandas.core.frame.DataFrame'>\n",
      "RangeIndex: 40098 entries, 0 to 40097\n",
      "Data columns (total 11 columns):\n",
      " #   Column              Non-Null Count  Dtype  \n",
      "---  ------              --------------  -----  \n",
      " 0   who_region          40098 non-null  object \n",
      " 1   country_name        40098 non-null  object \n",
      " 2   city                40098 non-null  object \n",
      " 3   year                40095 non-null  float64\n",
      " 4   pm10_concentration  28672 non-null  float64\n",
      " 5   pm25_concentration  21730 non-null  float64\n",
      " 6   no2_concentration   26934 non-null  float64\n",
      " 7   type_of_stations    23331 non-null  object \n",
      " 8   population          22433 non-null  float64\n",
      " 9   latitude            40098 non-null  float64\n",
      " 10  longitude           40098 non-null  float64\n",
      "dtypes: float64(7), object(4)\n",
      "memory usage: 3.4+ MB\n"
     ]
    }
   ],
   "source": [
    "# Checking types and NaNs of the features we kept\n",
    "df.info()"
   ]
  },
  {
   "cell_type": "code",
   "execution_count": 8,
   "id": "f90bae4e",
   "metadata": {},
   "outputs": [
    {
     "data": {
      "text/plain": [
       "pm25_concentration    45.81\n",
       "population            44.05\n",
       "type_of_stations      41.82\n",
       "no2_concentration     32.83\n",
       "pm10_concentration    28.50\n",
       "year                   0.01\n",
       "who_region             0.00\n",
       "country_name           0.00\n",
       "city                   0.00\n",
       "latitude               0.00\n",
       "longitude              0.00\n",
       "dtype: float64"
      ]
     },
     "execution_count": 8,
     "metadata": {},
     "output_type": "execute_result"
    }
   ],
   "source": [
    "# % on NaN per feature kept\n",
    "(df.isnull().sum() /len(df) *100).sort_values(ascending=False).round(2)"
   ]
  },
  {
   "cell_type": "code",
   "execution_count": 9,
   "id": "f3f517a5",
   "metadata": {},
   "outputs": [
    {
     "data": {
      "text/plain": [
       "0"
      ]
     },
     "execution_count": 9,
     "metadata": {},
     "output_type": "execute_result"
    }
   ],
   "source": [
    "# Checking duplicates\n",
    "df.duplicated().sum()"
   ]
  },
  {
   "cell_type": "code",
   "execution_count": 10,
   "id": "e528b190",
   "metadata": {},
   "outputs": [
    {
     "data": {
      "text/plain": [
       "year\n",
       "2018.0    4678\n",
       "2019.0    4594\n",
       "2016.0    4131\n",
       "2015.0    4096\n",
       "2020.0    3983\n",
       "2013.0    3869\n",
       "2017.0    3820\n",
       "2014.0    3460\n",
       "2010.0    2878\n",
       "2021.0    2654\n",
       "2012.0     971\n",
       "2011.0     802\n",
       "2022.0     159\n",
       "NaN          3\n",
       "Name: count, dtype: int64"
      ]
     },
     "execution_count": 10,
     "metadata": {},
     "output_type": "execute_result"
    }
   ],
   "source": [
    "#Number of unique values in 'year', 3 NA\n",
    "df['year'].value_counts(dropna=False)"
   ]
  },
  {
   "cell_type": "code",
   "execution_count": 11,
   "id": "1077246d",
   "metadata": {},
   "outputs": [],
   "source": [
    "#Dropping rows where 'year' = NA\n",
    "df.dropna(subset=['year'], inplace=True)"
   ]
  },
  {
   "cell_type": "code",
   "execution_count": 12,
   "id": "cf14dbda",
   "metadata": {},
   "outputs": [
    {
     "data": {
      "text/plain": [
       "year\n",
       "2018.0    4678\n",
       "2019.0    4594\n",
       "2016.0    4131\n",
       "2015.0    4096\n",
       "2020.0    3983\n",
       "2013.0    3869\n",
       "2017.0    3820\n",
       "2014.0    3460\n",
       "2010.0    2878\n",
       "2021.0    2654\n",
       "2012.0     971\n",
       "2011.0     802\n",
       "2022.0     159\n",
       "Name: count, dtype: int64"
      ]
     },
     "execution_count": 12,
     "metadata": {},
     "output_type": "execute_result"
    }
   ],
   "source": [
    "# Checking if there is any NA in 'year'\n",
    "df['year'].value_counts(dropna=False)"
   ]
  },
  {
   "cell_type": "code",
   "execution_count": 13,
   "id": "4fb75ccb",
   "metadata": {},
   "outputs": [
    {
     "data": {
      "text/plain": [
       "(40095, 11)"
      ]
     },
     "execution_count": 13,
     "metadata": {},
     "output_type": "execute_result"
    }
   ],
   "source": [
    "# Shape after removing rows with 'year' = NA\n",
    "df.shape\n"
   ]
  },
  {
   "cell_type": "code",
   "execution_count": 14,
   "id": "bd2a71cd",
   "metadata": {},
   "outputs": [
    {
     "data": {
      "text/plain": [
       "(40002, 11)"
      ]
     },
     "execution_count": 14,
     "metadata": {},
     "output_type": "execute_result"
    }
   ],
   "source": [
    "# Dropping rows where 'pm10_concentration' AND 'pm25_concentration'AND 'no2_concentration' are NA\n",
    "df.dropna(how='all', subset=['pm10_concentration', 'pm25_concentration', 'no2_concentration'], inplace=True)\n",
    "\n",
    "#Checking shape after dropping rows where 'pm10_concentration' AND 'pm25_concentration'AND 'no2_concentration' are NA\n",
    "df.shape"
   ]
  },
  {
   "cell_type": "code",
   "execution_count": 15,
   "id": "1855ab00",
   "metadata": {},
   "outputs": [
    {
     "name": "stdout",
     "output_type": "stream",
     "text": [
      "<class 'pandas.core.frame.DataFrame'>\n",
      "Index: 40002 entries, 0 to 40097\n",
      "Data columns (total 11 columns):\n",
      " #   Column              Non-Null Count  Dtype  \n",
      "---  ------              --------------  -----  \n",
      " 0   who_region          40002 non-null  object \n",
      " 1   country_name        40002 non-null  object \n",
      " 2   city                40002 non-null  object \n",
      " 3   year                40002 non-null  float64\n",
      " 4   pm10_concentration  28672 non-null  float64\n",
      " 5   pm25_concentration  21729 non-null  float64\n",
      " 6   no2_concentration   26934 non-null  float64\n",
      " 7   type_of_stations    23307 non-null  object \n",
      " 8   population          22365 non-null  float64\n",
      " 9   latitude            40002 non-null  float64\n",
      " 10  longitude           40002 non-null  float64\n",
      "dtypes: float64(7), object(4)\n",
      "memory usage: 3.7+ MB\n"
     ]
    }
   ],
   "source": [
    "# Checking NaNs\n",
    "df.info()"
   ]
  },
  {
   "cell_type": "markdown",
   "id": "e75cdc7f",
   "metadata": {},
   "source": [
    "## Outliers"
   ]
  },
  {
   "cell_type": "code",
   "execution_count": null,
   "id": "ad270bc5",
   "metadata": {},
   "outputs": [],
   "source": [
    "df.boxplot()"
   ]
  },
  {
   "cell_type": "markdown",
   "id": "db50bcd4",
   "metadata": {},
   "source": [
    "## Target balance (classification only!)"
   ]
  },
  {
   "cell_type": "code",
   "execution_count": null,
   "id": "1c98869f",
   "metadata": {},
   "outputs": [],
   "source": [
    "df.head()"
   ]
  },
  {
   "cell_type": "code",
   "execution_count": null,
   "id": "112096b3",
   "metadata": {},
   "outputs": [],
   "source": [
    "df.target.value_counts() / len(df)"
   ]
  },
  {
   "cell_type": "markdown",
   "id": "b6c59168",
   "metadata": {},
   "source": [
    "# To preprocess.py"
   ]
  },
  {
   "cell_type": "code",
   "execution_count": null,
   "id": "150741f8",
   "metadata": {},
   "outputs": [],
   "source": [
    "# Handling missing data\n",
    "# Handling outliers\n",
    "# Encoding\n",
    "# Scaling\n",
    "# Feature engineering."
   ]
  },
  {
   "cell_type": "markdown",
   "id": "8d985fc1",
   "metadata": {},
   "source": [
    "## Drop too complex features for now..."
   ]
  },
  {
   "cell_type": "code",
   "execution_count": null,
   "id": "2121ce30",
   "metadata": {},
   "outputs": [],
   "source": [
    "df.drop(columns=['Ticket','Name'], inplace=True)"
   ]
  },
  {
   "cell_type": "markdown",
   "id": "71b5fb75",
   "metadata": {},
   "source": [
    "## Missing data"
   ]
  },
  {
   "cell_type": "code",
   "execution_count": null,
   "id": "a494e777",
   "metadata": {},
   "outputs": [],
   "source": [
    "df.isnull().sum()"
   ]
  },
  {
   "cell_type": "code",
   "execution_count": null,
   "id": "95611118",
   "metadata": {},
   "outputs": [],
   "source": [
    "df.head()"
   ]
  },
  {
   "cell_type": "markdown",
   "id": "1ac71219",
   "metadata": {},
   "source": [
    "### Cabin"
   ]
  },
  {
   "cell_type": "markdown",
   "id": "36130558",
   "metadata": {},
   "source": [
    "drop for now, too much engineering..."
   ]
  },
  {
   "cell_type": "code",
   "execution_count": null,
   "id": "50dae7cd",
   "metadata": {},
   "outputs": [],
   "source": [
    "df.drop(columns=['Cabin'], inplace=True)\n",
    "\n",
    "df.head()"
   ]
  },
  {
   "cell_type": "markdown",
   "id": "7e1a7cb1",
   "metadata": {},
   "source": [
    "### Age"
   ]
  },
  {
   "cell_type": "code",
   "execution_count": null,
   "id": "466db78c",
   "metadata": {},
   "outputs": [],
   "source": [
    "df.isnull().sum() / len(df)"
   ]
  },
  {
   "cell_type": "code",
   "execution_count": null,
   "id": "90663566",
   "metadata": {},
   "outputs": [],
   "source": [
    "from sklearn.impute import SimpleImputer\n",
    "from sklearn.impute import KNNImputer\n",
    "\n",
    "age_imputer = KNNImputer(n_neighbors=5)\n",
    "\n",
    "age_imputer.fit(df[['Age']])"
   ]
  },
  {
   "cell_type": "code",
   "execution_count": null,
   "id": "28605a21",
   "metadata": {},
   "outputs": [],
   "source": [
    "df['Age'] = age_imputer.transform(df[['Age']])\n",
    "\n",
    "df.head()"
   ]
  },
  {
   "cell_type": "code",
   "execution_count": null,
   "id": "b64bdced",
   "metadata": {},
   "outputs": [],
   "source": [
    "df['Age'].isnull().sum()"
   ]
  },
  {
   "cell_type": "markdown",
   "id": "e8fa9b75",
   "metadata": {},
   "source": [
    "### Embarked"
   ]
  },
  {
   "cell_type": "code",
   "execution_count": null,
   "id": "6bc21d6b",
   "metadata": {},
   "outputs": [],
   "source": [
    "df['Embarked'].isnull().sum()"
   ]
  },
  {
   "cell_type": "code",
   "execution_count": null,
   "id": "cdf03aa0",
   "metadata": {},
   "outputs": [],
   "source": [
    "df.Embarked.value_counts()"
   ]
  },
  {
   "cell_type": "code",
   "execution_count": null,
   "id": "ff3c6141",
   "metadata": {},
   "outputs": [],
   "source": [
    "import numpy as np\n",
    "\n",
    "df['Embarked'] = df['Embarked'].replace(np.nan, 'U')\n",
    "\n",
    "df.Embarked.value_counts()"
   ]
  },
  {
   "cell_type": "code",
   "execution_count": null,
   "id": "b65d7c8e",
   "metadata": {},
   "outputs": [],
   "source": [
    "df.isnull().sum()"
   ]
  },
  {
   "cell_type": "markdown",
   "id": "343c62e7",
   "metadata": {},
   "source": [
    "## Encode"
   ]
  },
  {
   "cell_type": "code",
   "execution_count": null,
   "id": "ca360a77",
   "metadata": {},
   "outputs": [],
   "source": [
    "df.head()"
   ]
  },
  {
   "cell_type": "code",
   "execution_count": null,
   "id": "1e185e8c",
   "metadata": {},
   "outputs": [],
   "source": [
    "from sklearn.preprocessing import OneHotEncoder\n",
    "\n",
    "encoder = OneHotEncoder(sparse=False, drop='if_binary')\n",
    "\n",
    "encoder.fit(df[['Sex','Embarked']])\n",
    "\n",
    "encoder.transform(df[['Sex','Embarked']])"
   ]
  },
  {
   "cell_type": "code",
   "execution_count": null,
   "id": "8f9e4326",
   "metadata": {},
   "outputs": [],
   "source": [
    "encoder.get_feature_names_out()"
   ]
  },
  {
   "cell_type": "code",
   "execution_count": null,
   "id": "ff89ddfd",
   "metadata": {},
   "outputs": [],
   "source": [
    "list(encoder.get_feature_names_out())"
   ]
  },
  {
   "cell_type": "code",
   "execution_count": null,
   "id": "0a63e63a",
   "metadata": {},
   "outputs": [],
   "source": [
    "df[list(encoder.get_feature_names_out())] = encoder.transform(df[['Sex','Embarked']])\n",
    "\n",
    "df.drop(columns=['Sex','Embarked'], inplace=True)\n",
    "\n",
    "df.head()"
   ]
  },
  {
   "cell_type": "markdown",
   "id": "df0c1d3c",
   "metadata": {},
   "source": [
    "### Scale"
   ]
  },
  {
   "cell_type": "code",
   "execution_count": null,
   "id": "a8baa60a",
   "metadata": {},
   "outputs": [],
   "source": [
    "from sklearn.preprocessing import RobustScaler\n",
    "\n",
    "scaler = RobustScaler()\n",
    "\n",
    "scaler.fit(df.drop(columns=['Survived']))\n",
    "\n",
    "df[list(df.drop(columns=['Survived']).columns)] = scaler.transform(df.drop(columns=['Survived']))\n",
    "\n",
    "df.head()"
   ]
  },
  {
   "cell_type": "markdown",
   "id": "0e9a419a",
   "metadata": {},
   "source": [
    "## Modelling"
   ]
  },
  {
   "cell_type": "markdown",
   "id": "8b161eff",
   "metadata": {},
   "source": [
    "## Split!"
   ]
  },
  {
   "cell_type": "code",
   "execution_count": null,
   "id": "09ffde76",
   "metadata": {},
   "outputs": [],
   "source": [
    "from sklearn.model_selection import train_test_split\n",
    "\n",
    "X_train,X_test,y_train,y_test = train_test_split(df.drop(columns=['Survived']),\n",
    "                                                df['Survived'])"
   ]
  },
  {
   "cell_type": "code",
   "execution_count": null,
   "id": "a6089ce4",
   "metadata": {},
   "outputs": [],
   "source": [
    "len(X_train)"
   ]
  },
  {
   "cell_type": "markdown",
   "id": "8e5c35ae",
   "metadata": {},
   "source": [
    "## Baseline LogisticRegression"
   ]
  },
  {
   "cell_type": "code",
   "execution_count": null,
   "id": "32928b03",
   "metadata": {},
   "outputs": [],
   "source": [
    "from sklearn.linear_model import LogisticRegression\n",
    "from sklearn.model_selection import cross_validate\n",
    "\n",
    "model = LogisticRegression()\n",
    "\n",
    "cv_results = cross_validate(\n",
    "    model,\n",
    "    X_train,\n",
    "    y_train,\n",
    "    cv=10\n",
    ")\n",
    "\n",
    "cv_results['test_score'].mean()"
   ]
  },
  {
   "cell_type": "markdown",
   "id": "c4d6cd7d",
   "metadata": {},
   "source": [
    "## Baseline SVM"
   ]
  },
  {
   "cell_type": "code",
   "execution_count": null,
   "id": "0ee3d7dc",
   "metadata": {},
   "outputs": [],
   "source": [
    "from sklearn.svm import SVC\n",
    "\n",
    "model = SVC()\n",
    "\n",
    "cv_results = cross_validate(\n",
    "    model,\n",
    "    X_train,\n",
    "    y_train,\n",
    "    cv=10\n",
    ")\n",
    "\n",
    "cv_results['test_score'].mean()"
   ]
  },
  {
   "cell_type": "markdown",
   "id": "a032ed6e",
   "metadata": {},
   "source": [
    "## Fine tune SVM"
   ]
  },
  {
   "cell_type": "code",
   "execution_count": null,
   "id": "a0c13e9f",
   "metadata": {},
   "outputs": [],
   "source": [
    "from scipy import stats\n",
    "from sklearn.model_selection import RandomizedSearchCV\n",
    "\n",
    "# Instanciate model\n",
    "svc_model = SVC()\n",
    "\n",
    "# Hyperparameter Grid\n",
    "grid = {'C': stats.uniform(0.01,10),\n",
    "        'gamma':stats.uniform(0.01,10),\n",
    "        'coef0':stats.uniform(0.01,10),\n",
    "        'kernel': ['poly','rbf','linear','sigmoid'],\n",
    "        'degree':stats.randint(1,5),\n",
    "        'class_weight':['balanced', None]}\n",
    "\n",
    "# Instanciate Grid Search\n",
    "search = RandomizedSearchCV(svc_model,\n",
    "                            grid,\n",
    "                            scoring='accuracy',\n",
    "                            n_iter=10,  # number of draws\n",
    "                            cv=3,\n",
    "                            n_jobs=-1,\n",
    "                            verbose=2)\n",
    "\n",
    "# Fit data to Grid Search\n",
    "search.fit(X_train, y_train)"
   ]
  },
  {
   "cell_type": "code",
   "execution_count": null,
   "id": "d941e204",
   "metadata": {},
   "outputs": [],
   "source": [
    "search.best_params_"
   ]
  },
  {
   "cell_type": "code",
   "execution_count": null,
   "id": "c194b216",
   "metadata": {},
   "outputs": [],
   "source": [
    "search.best_score_"
   ]
  },
  {
   "cell_type": "code",
   "execution_count": null,
   "id": "b5fb8f47",
   "metadata": {},
   "outputs": [],
   "source": [
    "search.best_estimator_"
   ]
  },
  {
   "cell_type": "code",
   "execution_count": null,
   "id": "a6a78106",
   "metadata": {},
   "outputs": [],
   "source": [
    "best_model = search.best_estimator_"
   ]
  },
  {
   "cell_type": "code",
   "execution_count": null,
   "id": "c76fffc1",
   "metadata": {},
   "outputs": [],
   "source": [
    "best_model"
   ]
  },
  {
   "cell_type": "markdown",
   "id": "83c53178",
   "metadata": {},
   "source": [
    "# Final check!"
   ]
  },
  {
   "cell_type": "code",
   "execution_count": null,
   "id": "aec46350",
   "metadata": {},
   "outputs": [],
   "source": [
    "best_model.score(X_test,y_test)"
   ]
  }
 ],
 "metadata": {
  "kernelspec": {
   "display_name": "Python 3 (ipykernel)",
   "language": "python",
   "name": "python3"
  },
  "language_info": {
   "codemirror_mode": {
    "name": "ipython",
    "version": 3
   },
   "file_extension": ".py",
   "mimetype": "text/x-python",
   "name": "python",
   "nbconvert_exporter": "python",
   "pygments_lexer": "ipython3",
   "version": "3.10.6"
  },
  "toc": {
   "base_numbering": 1,
   "nav_menu": {},
   "number_sections": true,
   "sideBar": true,
   "skip_h1_title": false,
   "title_cell": "Table of Contents",
   "title_sidebar": "Contents",
   "toc_cell": false,
   "toc_position": {},
   "toc_section_display": true,
   "toc_window_display": false
  }
 },
 "nbformat": 4,
 "nbformat_minor": 5
}
